{
 "cells": [
  {
   "cell_type": "markdown",
   "metadata": {},
   "source": [
    "## 加载数据集"
   ]
  },
  {
   "cell_type": "code",
   "execution_count": 1,
   "metadata": {},
   "outputs": [],
   "source": [
    "import os\n",
    "import numpy as np\n",
    "import pandas as pd\n",
    "from tqdm import tqdm\n",
    "from random import Random\n",
    "from collections import defaultdict\n",
    "\n",
    "import torch\n",
    "from torch_geometric.data import Data, InMemoryDataset\n",
    "from torch_geometric.data import DataLoader\n",
    "\n",
    "from rdkit import Chem\n",
    "from rdkit.Chem.BRICS import FindBRICSBonds\n",
    "from rdkit.Chem.Scaffolds import MurckoScaffold\n",
    "from rdkit import RDLogger"
   ]
  },
  {
   "cell_type": "code",
   "execution_count": 2,
   "metadata": {},
   "outputs": [],
   "source": [
    "# -------------------------------------\n",
    "# attentive_fp fashion featurization\n",
    "# -------------------------------------\n",
    "def onehot_encoding(x, allowable_set):\n",
    "    if x not in allowable_set:\n",
    "        raise Exception(\"input {0} not in allowable set{1}:\".format(\n",
    "            x, allowable_set))\n",
    "    return [x == s for s in allowable_set]\n",
    "\n",
    "\n",
    "def onehot_encoding_unk(x, allowable_set):\n",
    "    \"\"\"Maps inputs not in the allowable set to the last element.\"\"\"\n",
    "    if x not in allowable_set:\n",
    "        x = allowable_set[-1]\n",
    "    return [x == s for s in allowable_set]\n",
    "\n",
    "\n",
    "def atom_attr(mol, explicit_H=False, use_chirality=True, pharmaco=True, scaffold=True):\n",
    "    if pharmaco:\n",
    "        mol = tag_pharmacophore(mol)\n",
    "    if scaffold:\n",
    "        mol = tag_scaffold(mol)\n",
    "\n",
    "    feat = []\n",
    "    for i, atom in enumerate(mol.GetAtoms()):\n",
    "        results = onehot_encoding_unk(\n",
    "            atom.GetSymbol(),\n",
    "            ['B', 'C', 'N', 'O', 'F', 'Si', 'P', 'S', 'Cl', 'As', 'Se', 'Br', 'Te', 'I', 'At', 'other'\n",
    "             ]) + onehot_encoding_unk(atom.GetDegree(),\n",
    "                                      [0, 1, 2, 3, 4, 5, 'other']) + \\\n",
    "                  [atom.GetFormalCharge(), atom.GetNumRadicalElectrons()] + \\\n",
    "                  onehot_encoding_unk(atom.GetHybridization(), [\n",
    "                      Chem.rdchem.HybridizationType.SP, Chem.rdchem.HybridizationType.SP2,\n",
    "                      Chem.rdchem.HybridizationType.SP3, Chem.rdchem.HybridizationType.SP3D,\n",
    "                      Chem.rdchem.HybridizationType.SP3D2, 'other'\n",
    "                  ]) + [atom.GetIsAromatic()]\n",
    "        if not explicit_H:\n",
    "            results = results + onehot_encoding_unk(atom.GetTotalNumHs(),\n",
    "                                                    [0, 1, 2, 3, 4])\n",
    "        if use_chirality:\n",
    "            try:\n",
    "                results = results + onehot_encoding_unk(\n",
    "                    atom.GetProp('_CIPCode'),\n",
    "                    ['R', 'S']) + [atom.HasProp('_ChiralityPossible')]\n",
    "            # print(one_of_k_encoding_unk(atom.GetProp('_CIPCode'), ['R', 'S']) + [atom.HasProp('_ChiralityPossible')])\n",
    "            except:\n",
    "                results = results + [0, 0] + [atom.HasProp('_ChiralityPossible')]\n",
    "        if pharmaco:\n",
    "            results = results + [int(atom.GetProp('Hbond_donor'))] + [int(atom.GetProp('Hbond_acceptor'))] + \\\n",
    "                      [int(atom.GetProp('Basic'))] + [int(atom.GetProp('Acid'))] + \\\n",
    "                      [int(atom.GetProp('Halogen'))]\n",
    "        if scaffold:\n",
    "            results = results + [int(atom.GetProp('Scaffold'))]\n",
    "        feat.append(results)\n",
    "\n",
    "    return np.array(feat)\n",
    "\n",
    "\n",
    "def bond_attr(mol, use_chirality=True):\n",
    "    feat = []\n",
    "    index = []\n",
    "    n = mol.GetNumAtoms()\n",
    "    for i in range(n):\n",
    "        for j in range(n):\n",
    "            if i != j:\n",
    "                bond = mol.GetBondBetweenAtoms(i, j)\n",
    "                if bond is not None:\n",
    "                    bt = bond.GetBondType()\n",
    "                    bond_feats = [\n",
    "                        bt == Chem.rdchem.BondType.SINGLE, bt == Chem.rdchem.BondType.DOUBLE,\n",
    "                        bt == Chem.rdchem.BondType.TRIPLE, bt == Chem.rdchem.BondType.AROMATIC,\n",
    "                        bond.GetIsConjugated(),\n",
    "                        bond.IsInRing()\n",
    "                    ]\n",
    "                    if use_chirality:\n",
    "                        bond_feats = bond_feats + onehot_encoding_unk(\n",
    "                            str(bond.GetStereo()),\n",
    "                            [\"STEREONONE\", \"STEREOANY\", \"STEREOZ\", \"STEREOE\"])\n",
    "                    feat.append(bond_feats)\n",
    "                    index.append([i, j])\n",
    "\n",
    "    return np.array(index), np.array(feat)\n",
    "\n",
    "\n",
    "def bond_break(mol):\n",
    "    results = np.array(sorted(list(FindBRICSBonds(mol))), dtype=np.long)\n",
    "\n",
    "    if results.size == 0:\n",
    "        cluster_idx = []\n",
    "        Chem.rdmolops.GetMolFrags(mol, asMols=True, frags=cluster_idx)\n",
    "        fra_edge_index, fra_edge_attr = bond_attr(mol)\n",
    "\n",
    "    else:\n",
    "        bond_to_break = results[:, 0, :]\n",
    "        bond_to_break = bond_to_break.tolist()\n",
    "        with Chem.RWMol(mol) as rwmol:\n",
    "            for i in bond_to_break:\n",
    "                rwmol.RemoveBond(*i)\n",
    "        rwmol = rwmol.GetMol()\n",
    "        cluster_idx = []\n",
    "        Chem.rdmolops.GetMolFrags(rwmol, asMols=True, sanitizeFrags=False, frags=cluster_idx)\n",
    "        fra_edge_index, fra_edge_attr = bond_attr(rwmol)\n",
    "        cluster_idx = torch.LongTensor(cluster_idx)\n",
    "\n",
    "    return fra_edge_index, fra_edge_attr, cluster_idx"
   ]
  },
  {
   "cell_type": "code",
   "execution_count": 3,
   "metadata": {},
   "outputs": [],
   "source": [
    "# ---------------------------------------------\n",
    "# Scaffold and pharmacophore information utils\n",
    "# ---------------------------------------------\n",
    "# tag pharmoco features to each atom\n",
    "fun_smarts = {\n",
    "        'Hbond_donor': '[$([N;!H0;v3,v4&+1]),$([O,S;H1;+0]),n&H1&+0]',\n",
    "        'Hbond_acceptor': '[$([O,S;H1;v2;!$(*-*=[O,N,P,S])]),$([O,S;H0;v2]),$([O,S;-]),$([N;v3;!$(N-*=[O,N,P,S])]),n&X2&H0&+0,$([o,s;+0;!$([o,s]:n);!$([o,s]:c:n)])]',\n",
    "        'Basic': '[#7;+,$([N;H2&+0][$([C,a]);!$([C,a](=O))]),$([N;H1&+0]([$([C,a]);!$([C,a](=O))])[$([C,a]);!$([C,a](=O))]),$([N;H0&+0]([C;!$(C(=O))])([C;!$(C(=O))])[C;!$(C(=O))]),$([n;X2;+0;-0])]',\n",
    "        'Acid': '[C,S](=[O,S,P])-[O;H1,-1]',\n",
    "        'Halogen': '[F,Cl,Br,I]'\n",
    "        }\n",
    "FunQuery = dict([(pharmaco, Chem.MolFromSmarts(s)) for (pharmaco, s) in fun_smarts.items()])\n",
    "\n",
    "\n",
    "def tag_pharmacophore(mol):\n",
    "    for fungrp, qmol in FunQuery.items():\n",
    "        matches = mol.GetSubstructMatches(qmol)\n",
    "        match_idxes = []\n",
    "        for mat in matches:\n",
    "            match_idxes.extend(mat)\n",
    "        for i, atom in enumerate(mol.GetAtoms()):\n",
    "            tag = '1' if i in match_idxes else '0'\n",
    "            atom.SetProp(fungrp, tag)\n",
    "    return mol\n",
    "\n",
    "\n",
    "# tag scaffold information to each atom\n",
    "def tag_scaffold(mol):\n",
    "    core = MurckoScaffold.GetScaffoldForMol(mol)\n",
    "    match_idxes = mol.GetSubstructMatch(core)\n",
    "    for i, atom in enumerate(mol.GetAtoms()):\n",
    "        tag = '1' if i in match_idxes else '0'\n",
    "        atom.SetProp('Scaffold', tag)\n",
    "    return mol"
   ]
  },
  {
   "cell_type": "code",
   "execution_count": 4,
   "metadata": {},
   "outputs": [],
   "source": [
    "# ---------------------------------\n",
    "# data and dataset\n",
    "# ---------------------------------\n",
    "class MolData(Data):\n",
    "    def __init__(self, fra_edge_index=None, fra_edge_attr=None, cluster_index=None, **kwargs):\n",
    "        super(MolData, self).__init__(**kwargs)\n",
    "        self.cluster_index = cluster_index\n",
    "        self.fra_edge_index = fra_edge_index\n",
    "        self.fra_edge_attr = fra_edge_attr\n",
    "\n",
    "    def __inc__(self, key, value, *args, **kwargs):\n",
    "        if key == 'cluster_index':\n",
    "            return int(self.cluster_index.max()) + 1\n",
    "        else:\n",
    "            return super().__inc__(key, value, *args, **kwargs)\n",
    "\n",
    "\n",
    "class MolDataset(InMemoryDataset):\n",
    "\n",
    "    def __init__(self, root, dataset, task_type, tasks,\n",
    "                 transform=None, pre_transform=None, pre_filter=None):\n",
    "\n",
    "        self.tasks = tasks\n",
    "        self.dataset = dataset\n",
    "        self.task_type = task_type\n",
    "\n",
    "        super(MolDataset, self).__init__(root, transform, pre_transform, pre_filter)\n",
    "        self.data, self.slices = torch.load(self.processed_paths[0])\n",
    "\n",
    "    @property\n",
    "    def raw_file_names(self):\n",
    "        return ['{}.csv'.format(self.dataset)]\n",
    "\n",
    "    @property\n",
    "    def processed_file_names(self):\n",
    "        return ['{}.pt'.format(self.dataset)]\n",
    "\n",
    "    def download(self):\n",
    "        pass\n",
    "\n",
    "    def process(self):\n",
    "        df = pd.read_csv(self.raw_paths[0])\n",
    "        smilesList = df.smiles.values\n",
    "        print(f'number of all smiles: {len(smilesList)}')\n",
    "        remained_smiles = []\n",
    "        canonical_smiles_list = []\n",
    "        for smiles in smilesList:\n",
    "            try:\n",
    "                canonical_smiles_list.append(Chem.MolToSmiles(Chem.MolFromSmiles(smiles), isomericSmiles=True))\n",
    "                remained_smiles.append(smiles)\n",
    "            except:\n",
    "                print(f'not successfully processed smiles: {smiles}')\n",
    "                pass\n",
    "        print(f'number of successfully processed smiles: {len(remained_smiles)}')\n",
    "\n",
    "        df = df[df[\"smiles\"].isin(remained_smiles)].reset_index()\n",
    "        target = df[self.tasks].values\n",
    "        smilesList = df.smiles.values\n",
    "        data_list = []\n",
    "\n",
    "        for i, smi in enumerate(tqdm(smilesList)):\n",
    "\n",
    "            mol = Chem.MolFromSmiles(smi)\n",
    "            data = self.mol2graph(mol)\n",
    "\n",
    "            if data is not None:\n",
    "                label = target[i]\n",
    "                data.y = torch.LongTensor([label])\n",
    "                if self.task_type == 'regression':\n",
    "                    data.y = torch.FloatTensor([label])\n",
    "                data_list.append(data)\n",
    "\n",
    "        if self.pre_filter is not None:\n",
    "            data_list = [data for data in data_list if self.pre_filter(data)]\n",
    "        if self.pre_transform is not None:\n",
    "            data_list = [self.pre_transform(data) for data in data_list]\n",
    "\n",
    "        data, slices = self.collate(data_list)\n",
    "        torch.save((data, slices), self.processed_paths[0])\n",
    "\n",
    "    def mol2graph(self, mol):\n",
    "        smiles = Chem.MolToSmiles(mol)\n",
    "        if mol is None: return None\n",
    "        node_attr = atom_attr(mol)\n",
    "        edge_index, edge_attr = bond_attr(mol)\n",
    "        fra_edge_index, fra_edge_attr, cluster_index = bond_break(mol)\n",
    "        data = MolData(\n",
    "            x=torch.FloatTensor(node_attr),\n",
    "            edge_index=torch.LongTensor(edge_index).t(),\n",
    "            edge_attr=torch.FloatTensor(edge_attr),\n",
    "            fra_edge_index=torch.LongTensor(fra_edge_index).t(),\n",
    "            fra_edge_attr=torch.FloatTensor(fra_edge_attr),\n",
    "            cluster_index=torch.LongTensor(cluster_index),\n",
    "            y=None,\n",
    "            smiles=smiles,\n",
    "        )\n",
    "        return data"
   ]
  },
  {
   "cell_type": "markdown",
   "metadata": {},
   "source": [
    "## 定义模型"
   ]
  },
  {
   "cell_type": "code",
   "execution_count": 5,
   "metadata": {},
   "outputs": [],
   "source": [
    "import torch\n",
    "from torch import nn\n",
    "import torch.nn.functional as F\n",
    "from torch.nn import Linear, Sequential, Parameter, Bilinear\n",
    "\n",
    "from torch_scatter import scatter\n",
    "from torch_geometric.nn import global_add_pool, GATConv\n",
    "from torch_geometric.nn.conv import MessagePassing\n",
    "from torch_geometric.nn.inits import glorot, reset\n",
    "from torch_geometric.nn.pool.pool import pool_batch\n",
    "from torch_geometric.nn.pool.consecutive import consecutive_cluster"
   ]
  },
  {
   "cell_type": "code",
   "execution_count": 6,
   "metadata": {},
   "outputs": [],
   "source": [
    "# ---------------------------------------\n",
    "# Attention layers\n",
    "# ---------------------------------------\n",
    "class FeatureAttention(nn.Module):\n",
    "    def __init__(self, channels, reduction):\n",
    "        super().__init__()\n",
    "        self.mlp = Sequential(\n",
    "            Linear(channels, channels // reduction, bias=False),\n",
    "            nn.ReLU(inplace=True),\n",
    "            Linear(channels // reduction, channels, bias=False),\n",
    "        )\n",
    "\n",
    "        self.reset_parameters()\n",
    "\n",
    "    def reset_parameters(self):\n",
    "        reset(self.mlp)\n",
    "\n",
    "    def forward(self, x, batch, size=None):\n",
    "        max_result = scatter(x, batch, dim=0, dim_size=size, reduce='max')\n",
    "        sum_result = scatter(x, batch, dim=0, dim_size=size, reduce='sum')\n",
    "        max_out = self.mlp(max_result)\n",
    "        sum_out = self.mlp(sum_result)\n",
    "        y = torch.sigmoid(max_out + sum_out)\n",
    "        y = y[batch]\n",
    "        return x * y"
   ]
  },
  {
   "cell_type": "code",
   "execution_count": 7,
   "metadata": {},
   "outputs": [],
   "source": [
    "# ---------------------------------------\n",
    "# Neural tensor networks conv\n",
    "# ---------------------------------------\n",
    "class NTNConv(MessagePassing):\n",
    "\n",
    "    def __init__(self, in_channels, out_channels, slices, dropout, edge_dim=None, **kwargs):\n",
    "        kwargs.setdefault('aggr', 'add')\n",
    "        super(NTNConv, self).__init__(node_dim=0, **kwargs)\n",
    "\n",
    "        self.in_channels = in_channels\n",
    "        self.out_channels = out_channels\n",
    "        self.slices = slices\n",
    "        self.dropout = dropout\n",
    "        self.edge_dim = edge_dim\n",
    "\n",
    "        self.weight_node = Parameter(torch.Tensor(in_channels,\n",
    "                                                  out_channels))\n",
    "        if edge_dim is not None:\n",
    "            self.weight_edge = Parameter(torch.Tensor(edge_dim,\n",
    "                                                      out_channels))\n",
    "        else:\n",
    "            self.weight_edge = self.register_parameter('weight_edge', None)\n",
    "\n",
    "        self.bilinear = Bilinear(out_channels, out_channels, slices, bias=False)\n",
    "\n",
    "        if self.edge_dim is not None:\n",
    "            self.linear = Linear(3 * out_channels, slices)\n",
    "        else:\n",
    "            self.linear = Linear(2 * out_channels, slices)\n",
    "\n",
    "        self._alpha = None\n",
    "\n",
    "        self.reset_parameters()\n",
    "\n",
    "    def reset_parameters(self):\n",
    "        glorot(self.weight_node)\n",
    "        glorot(self.weight_edge)\n",
    "        self.bilinear.reset_parameters()\n",
    "        self.linear.reset_parameters()\n",
    "\n",
    "    def forward(self, x, edge_index, edge_attr=None, return_attention_weights=None):\n",
    "\n",
    "        x = torch.matmul(x, self.weight_node)\n",
    "\n",
    "        if self.weight_edge is not None:\n",
    "            assert edge_attr is not None\n",
    "            edge_attr = torch.matmul(edge_attr, self.weight_edge)\n",
    "\n",
    "        out = self.propagate(edge_index, x=x, edge_attr=edge_attr)\n",
    "\n",
    "        alpha = self._alpha\n",
    "        self._alpha = None\n",
    "\n",
    "        if isinstance(return_attention_weights, bool):\n",
    "            assert alpha is not None\n",
    "            return out, (edge_index, alpha)\n",
    "        else:\n",
    "            return out\n",
    "\n",
    "    def message(self, x_i, x_j, edge_attr):\n",
    "        score = self.bilinear(x_i, x_j)\n",
    "        if edge_attr is not None:\n",
    "            vec = torch.cat((x_i, edge_attr, x_j), 1)\n",
    "            block_score = self.linear(vec)  # bias already included\n",
    "        else:\n",
    "            vec = torch.cat((x_i, x_j), 1)\n",
    "            block_score = self.linear(vec)\n",
    "        scores = score + block_score\n",
    "        alpha = torch.tanh(scores)\n",
    "        self._alpha = alpha\n",
    "        alpha = F.dropout(alpha, p=self.dropout, training=self.training)\n",
    "\n",
    "        dim_split = self.out_channels // self.slices\n",
    "        out = x_j.view(-1, self.slices, dim_split)\n",
    "\n",
    "        out = out * alpha.view(-1, self.slices, 1)\n",
    "        out = out.view(-1, self.out_channels)\n",
    "        return out\n",
    "\n",
    "    def __repr__(self):\n",
    "        return '{}({}, {}, slices={})'.format(self.__class__.__name__,\n",
    "                                              self.in_channels,\n",
    "                                              self.out_channels, self.slices)"
   ]
  },
  {
   "cell_type": "code",
   "execution_count": 8,
   "metadata": {},
   "outputs": [],
   "source": [
    "# ---------------------------------------\n",
    "# HiGNN backbone\n",
    "# ---------------------------------------\n",
    "class HiGNN(torch.nn.Module):\n",
    "    \"\"\"Hierarchical informative graph neural network for molecular representation.\n",
    "\n",
    "    \"\"\"\n",
    "\n",
    "    def __init__(self, in_channels, hidden_channels, out_channels, edge_dim, num_layers,\n",
    "                 slices, dropout, f_att=False, r=4, brics=True, cl=False):\n",
    "        super(HiGNN, self).__init__()\n",
    "\n",
    "        self.hidden_channels = hidden_channels\n",
    "        self.num_layers = num_layers\n",
    "        self.dropout = dropout\n",
    "\n",
    "        self.f_att = f_att\n",
    "        self.brics = brics\n",
    "        self.cl = cl\n",
    "\n",
    "        # atom feature transformation\n",
    "        self.lin_a = Linear(in_channels, hidden_channels)\n",
    "        self.lin_b = Linear(edge_dim, hidden_channels)\n",
    "\n",
    "        # convs block\n",
    "        self.atom_convs = torch.nn.ModuleList()\n",
    "        for _ in range(num_layers):\n",
    "            conv = NTNConv(hidden_channels, hidden_channels, slices=slices,\n",
    "                           dropout=dropout, edge_dim=hidden_channels)\n",
    "            self.atom_convs.append(conv)\n",
    "\n",
    "        self.lin_gate = Linear(3 * hidden_channels, hidden_channels)\n",
    "\n",
    "        if self.f_att:\n",
    "            self.feature_att = FeatureAttention(channels=hidden_channels, reduction=r)\n",
    "\n",
    "        if self.brics:\n",
    "            # mol-fra attention\n",
    "            self.cross_att = GATConv(hidden_channels, hidden_channels, heads=4,\n",
    "                                     dropout=dropout, add_self_loops=False,\n",
    "                                     negative_slope=0.01, concat=False)\n",
    "\n",
    "        if self.brics:\n",
    "            self.out = Linear(2 * hidden_channels, out_channels)\n",
    "        else:\n",
    "            self.out = Linear(hidden_channels, out_channels)\n",
    "\n",
    "        if self.cl:\n",
    "            self.lin_project = Linear(hidden_channels, int(hidden_channels/2))\n",
    "\n",
    "        self.reset_parameters()\n",
    "\n",
    "    def reset_parameters(self):\n",
    "\n",
    "        self.lin_a.reset_parameters()\n",
    "        self.lin_b.reset_parameters()\n",
    "\n",
    "        for conv in self.atom_convs:\n",
    "            conv.reset_parameters()\n",
    "\n",
    "        self.lin_gate.reset_parameters()\n",
    "\n",
    "        if self.f_att:\n",
    "            self.feature_att.reset_parameters()\n",
    "\n",
    "        if self.brics:\n",
    "            self.cross_att.reset_parameters()\n",
    "\n",
    "        self.out.reset_parameters()\n",
    "\n",
    "        if self.cl:\n",
    "            self.lin_project.reset_parameters()\n",
    "\n",
    "    def forward(self, data):\n",
    "        # get mol input\n",
    "        x = data.x\n",
    "        edge_index = data.edge_index\n",
    "        edge_attr = data.edge_attr\n",
    "        batch = data.batch\n",
    "\n",
    "        x = F.relu(self.lin_a(x))  # (N, 46) -> (N, hidden_channels)\n",
    "        edge_attr = F.relu(self.lin_b(edge_attr))  # (N, 10) -> (N, hidden_channels)\n",
    "\n",
    "        # mol conv block\n",
    "        for i in range(0, self.num_layers):\n",
    "            h = F.relu(self.atom_convs[i](x, edge_index, edge_attr))\n",
    "            beta = self.lin_gate(torch.cat([x, h, x - h], 1)).sigmoid()\n",
    "            x = beta * x + (1 - beta) * h\n",
    "            if self.f_att:\n",
    "                x = self.feature_att(x, batch)\n",
    "\n",
    "        mol_vec_ = global_add_pool(x, batch)\n",
    "        mol_vec = global_add_pool(x, batch).relu_()\n",
    "\n",
    "        if self.brics:\n",
    "            # get fragment input\n",
    "            fra_x = data.x\n",
    "            fra_edge_index = data.fra_edge_index\n",
    "            fra_edge_attr = data.fra_edge_attr\n",
    "            cluster = data.cluster_index\n",
    "\n",
    "            fra_x = F.relu(self.lin_a(fra_x))  # (N, 46) -> (N, hidden_channels)\n",
    "            fra_edge_attr = F.leaky_relu_(self.lin_b(fra_edge_attr))  # (N, 10) -> (N, hidden_channels)\n",
    "\n",
    "            # fragment convs block\n",
    "            for i in range(0, self.num_layers):\n",
    "                fra_h = F.relu(self.atom_convs[i](fra_x, fra_edge_index, fra_edge_attr))\n",
    "                beta = self.lin_gate(torch.cat([fra_x, fra_h, fra_x - fra_h], 1)).sigmoid()\n",
    "                fra_x = beta * fra_x + (1 - beta) * fra_h\n",
    "                if self.f_att:\n",
    "                    fra_x = self.feature_att(fra_x, cluster)\n",
    "\n",
    "            fra_x_ = global_add_pool(fra_x, cluster)\n",
    "            fra_x = global_add_pool(fra_x, cluster).relu_()\n",
    "\n",
    "            # get fragment batch\n",
    "            cluster, perm = consecutive_cluster(cluster)\n",
    "            fra_batch = pool_batch(perm, data.batch)\n",
    "\n",
    "            # molecule-fragment attention\n",
    "            row = torch.arange(fra_batch.size(0), device=batch.device)\n",
    "            mol_fra_index = torch.stack([row, fra_batch], dim=0)\n",
    "            fra_vec, _ = self.cross_att((fra_x, mol_vec), mol_fra_index, return_attention_weights=False)\n",
    "            fra_vec = fra_vec.relu()\n",
    "\n",
    "            vectors_concat = list()\n",
    "            vectors_concat.append(mol_vec)\n",
    "            vectors_concat.append(fra_vec)\n",
    "\n",
    "            out = torch.cat(vectors_concat, 1)\n",
    "            \n",
    "            mol_vec_ = mol_vec_[fra_batch]\n",
    "            att = F.cosine_similarity(mol_vec_, fra_x_, dim=1), mol_fra_index\n",
    "\n",
    "            # molecule-fragment contrastive\n",
    "            if self.cl:\n",
    "                out = F.dropout(out, p=self.dropout, training=self.training)\n",
    "                return self.out(out), self.lin_project(mol_vec).relu_(), self.lin_project(fra_vec).relu_()\n",
    "            else:\n",
    "                out = F.dropout(out, p=self.dropout, training=self.training)\n",
    "                return self.out(out), att\n",
    "\n",
    "        else:\n",
    "            assert self.cl is False\n",
    "            out = F.dropout(mol_vec, p=self.dropout, training=self.training)\n",
    "            return self.out(out)"
   ]
  },
  {
   "cell_type": "markdown",
   "metadata": {},
   "source": [
    "## 加载模型"
   ]
  },
  {
   "cell_type": "code",
   "execution_count": 9,
   "metadata": {},
   "outputs": [],
   "source": [
    "def load_best_result(model):\n",
    "    best_ckpt_path = 'E:/3-Code/Jupternote book/HiGNN_Explainability/best_ckpt_bace_scaffold_seed2024.pth'\n",
    "    ckpt = torch.load(best_ckpt_path, map_location=torch.device('cpu'))\n",
    "    model.load_state_dict(ckpt['model'])\n",
    "\n",
    "    return model"
   ]
  },
  {
   "cell_type": "code",
   "execution_count": 10,
   "metadata": {},
   "outputs": [
    {
     "name": "stdout",
     "output_type": "stream",
     "text": [
      "HiGNN(\n",
      "  (lin_a): Linear(in_features=46, out_features=64, bias=True)\n",
      "  (lin_b): Linear(in_features=10, out_features=64, bias=True)\n",
      "  (atom_convs): ModuleList(\n",
      "    (0): NTNConv(64, 64, slices=4)\n",
      "    (1): NTNConv(64, 64, slices=4)\n",
      "  )\n",
      "  (lin_gate): Linear(in_features=192, out_features=64, bias=True)\n",
      "  (feature_att): FeatureAttention(\n",
      "    (mlp): Sequential(\n",
      "      (0): Linear(in_features=64, out_features=16, bias=False)\n",
      "      (1): ReLU(inplace=True)\n",
      "      (2): Linear(in_features=16, out_features=64, bias=False)\n",
      "    )\n",
      "  )\n",
      "  (cross_att): GATConv(64, 64, heads=4)\n",
      "  (out): Linear(in_features=128, out_features=2, bias=True)\n",
      ")\n"
     ]
    }
   ],
   "source": [
    "# ---------------------------------------\n",
    "# Build HiGNN \n",
    "# ---------------------------------------\n",
    "model = HiGNN(in_channels=46,\n",
    "              hidden_channels=64,\n",
    "              out_channels=2,\n",
    "              edge_dim=10,\n",
    "              num_layers=2,\n",
    "              dropout=0.1,\n",
    "              slices=4,\n",
    "              f_att=True,\n",
    "              r=4,\n",
    "              brics=True,\n",
    "              cl=False)\n",
    "\n",
    "model = load_best_result(model)\n",
    "print(model)"
   ]
  },
  {
   "cell_type": "markdown",
   "metadata": {},
   "source": [
    "## 骨架拆分"
   ]
  },
  {
   "cell_type": "code",
   "execution_count": 11,
   "metadata": {},
   "outputs": [],
   "source": [
    "# ---------------------------------------------\n",
    "# Scaffold utils, copy from chemprop.\n",
    "# ---------------------------------------------\n",
    "def generate_scaffold(mol, include_chirality=False):\n",
    "    \"\"\"\n",
    "    Computes the Bemis-Murcko scaffold for a SMILES string.\n",
    "    :param mol: A SMILES or an RDKit molecule.\n",
    "    :param include_chirality: Whether to include chirality in the computed scaffold..\n",
    "    :return: The Bemis-Murcko scaffold for the molecule.\n",
    "    \"\"\"\n",
    "    mol = Chem.MolFromSmiles(mol) if type(mol) == str else mol\n",
    "    scaffold = MurckoScaffold.MurckoScaffoldSmiles(mol=mol, includeChirality=include_chirality)\n",
    "\n",
    "    return scaffold\n",
    "\n",
    "\n",
    "def scaffold_to_smiles(smiles, use_indices=False):\n",
    "    \"\"\"\n",
    "    Computes the scaffold for each SMILES and returns a mapping from scaffolds to sets of smiles (or indices).\n",
    "    :param smiles: A list of SMILES or RDKit molecules.\n",
    "    :param use_indices: Whether to map to the SMILES's index in :code:`mols` rather than\n",
    "                        mapping to the smiles string itself. This is necessary if there are duplicate smiles.\n",
    "    :return: A dictionary mapping each unique scaffold to all SMILES (or indices) which have that scaffold.\n",
    "    \"\"\"\n",
    "    scaffolds = defaultdict(set)\n",
    "    for i, smi in enumerate(smiles):\n",
    "        scaffold = generate_scaffold(smi)\n",
    "        if use_indices:\n",
    "            scaffolds[scaffold].add(i)\n",
    "        else:\n",
    "            scaffolds[scaffold].add(smi)\n",
    "\n",
    "    return scaffolds\n",
    "\n",
    "\n",
    "def scaffold_split(pyg_dataset, task_type, tasks, sizes=(0.8, 0.1, 0.1), balanced=True, seed=1):\n",
    "\n",
    "    assert sum(sizes) == 1\n",
    "\n",
    "    # Split\n",
    "    print('generating scaffold......')\n",
    "    num = len(pyg_dataset)\n",
    "    train_size, val_size, test_size = sizes[0] * num, sizes[1] * num, sizes[2] * num\n",
    "    train_ids, val_ids, test_ids = [], [], []\n",
    "    train_scaffold_count, val_scaffold_count, test_scaffold_count = 0, 0, 0\n",
    "\n",
    "    # Map from scaffold to index in the data\n",
    "    scaffold_to_indices = scaffold_to_smiles(pyg_dataset.data.smiles, use_indices=True)\n",
    "\n",
    "    # Seed randomness\n",
    "    random = Random(seed)\n",
    "\n",
    "    if balanced:  # Put stuff that's bigger than half the val/test size into train, rest just order randomly\n",
    "        index_sets = list(scaffold_to_indices.values())\n",
    "        big_index_sets = []\n",
    "        small_index_sets = []\n",
    "        for index_set in index_sets:\n",
    "            if len(index_set) > val_size / 2 or len(index_set) > test_size / 2:\n",
    "                big_index_sets.append(index_set)\n",
    "            else:\n",
    "                small_index_sets.append(index_set)\n",
    "        random.seed(seed)\n",
    "        random.shuffle(big_index_sets)\n",
    "        random.shuffle(small_index_sets)\n",
    "        index_sets = big_index_sets + small_index_sets\n",
    "    else:  # Sort from largest to smallest scaffold sets\n",
    "        index_sets = sorted(list(scaffold_to_indices.values()),\n",
    "                            key=lambda index_set: len(index_set),\n",
    "                            reverse=True)\n",
    "\n",
    "    for index_set in index_sets:\n",
    "        if len(train_ids) + len(index_set) <= train_size:\n",
    "            train_ids += index_set\n",
    "            train_scaffold_count += 1\n",
    "        elif len(val_ids) + len(index_set) <= val_size:\n",
    "            val_ids += index_set\n",
    "            val_scaffold_count += 1\n",
    "        else:\n",
    "            test_ids += index_set\n",
    "            test_scaffold_count += 1\n",
    "\n",
    "    print(f'Total scaffolds = {len(scaffold_to_indices):,} | '\n",
    "          f'train scaffolds = {train_scaffold_count:,} | '\n",
    "          f'val scaffolds = {val_scaffold_count:,} | '\n",
    "          f'test scaffolds = {test_scaffold_count:,}')\n",
    "\n",
    "    print(f'Total smiles = {num:,} | '\n",
    "          f'train smiles = {len(train_ids):,} | '\n",
    "          f'val smiles = {len(val_ids):,} | '\n",
    "          f'test smiles = {len(test_ids):,}')\n",
    "\n",
    "    assert len(train_ids) + len(val_ids) + len(test_ids) == len(pyg_dataset)\n",
    "\n",
    "    return train_ids, val_ids, test_ids"
   ]
  },
  {
   "cell_type": "markdown",
   "metadata": {},
   "source": [
    "## 进行预测"
   ]
  },
  {
   "cell_type": "code",
   "execution_count": 12,
   "metadata": {},
   "outputs": [
    {
     "name": "stdout",
     "output_type": "stream",
     "text": [
      "1513\n"
     ]
    }
   ],
   "source": [
    "path = 'E:/3-Code/Jupternote book/HiGNN_Explainability'\n",
    "dataset = 'bace'\n",
    "task_type = 'classification'\n",
    "tasks = 'Class'\n",
    "bace = MolDataset(root=path, dataset=dataset, task_type=task_type, tasks=tasks)\n",
    "print(len(bace))"
   ]
  },
  {
   "cell_type": "code",
   "execution_count": 13,
   "metadata": {},
   "outputs": [
    {
     "name": "stdout",
     "output_type": "stream",
     "text": [
      "generating scaffold......\n",
      "Total scaffolds = 671 | train scaffolds = 533 | val scaffolds = 62 | test scaffolds = 76\n",
      "Total smiles = 1,513 | train smiles = 1,210 | val smiles = 151 | test smiles = 152\n"
     ]
    }
   ],
   "source": [
    "train_ids, val_ids, test_ids = scaffold_split(bace, task_type, tasks, seed=2024)"
   ]
  },
  {
   "cell_type": "code",
   "execution_count": 14,
   "metadata": {},
   "outputs": [
    {
     "data": {
      "text/html": [
       "<div>\n",
       "<style scoped>\n",
       "    .dataframe tbody tr th:only-of-type {\n",
       "        vertical-align: middle;\n",
       "    }\n",
       "\n",
       "    .dataframe tbody tr th {\n",
       "        vertical-align: top;\n",
       "    }\n",
       "\n",
       "    .dataframe thead th {\n",
       "        text-align: right;\n",
       "    }\n",
       "</style>\n",
       "<table border=\"1\" class=\"dataframe\">\n",
       "  <thead>\n",
       "    <tr style=\"text-align: right;\">\n",
       "      <th></th>\n",
       "      <th>smiles</th>\n",
       "      <th>Class</th>\n",
       "    </tr>\n",
       "  </thead>\n",
       "  <tbody>\n",
       "    <tr>\n",
       "      <th>0</th>\n",
       "      <td>O1CC[C@@H](NC(=O)[C@@H](Cc2cc3cc(ccc3nc2N)-c2c...</td>\n",
       "      <td>1</td>\n",
       "    </tr>\n",
       "    <tr>\n",
       "      <th>1</th>\n",
       "      <td>Fc1cc(cc(F)c1)C[C@H](NC(=O)[C@@H](N1CC[C@](NC(...</td>\n",
       "      <td>1</td>\n",
       "    </tr>\n",
       "    <tr>\n",
       "      <th>2</th>\n",
       "      <td>S1(=O)(=O)N(c2cc(cc3c2n(cc3CC)CC1)C(=O)N[C@H](...</td>\n",
       "      <td>1</td>\n",
       "    </tr>\n",
       "    <tr>\n",
       "      <th>3</th>\n",
       "      <td>S1(=O)(=O)C[C@@H](Cc2cc(O[C@H](COCC)C(F)(F)F)c...</td>\n",
       "      <td>1</td>\n",
       "    </tr>\n",
       "    <tr>\n",
       "      <th>4</th>\n",
       "      <td>S1(=O)(=O)N(c2cc(cc3c2n(cc3CC)CC1)C(=O)N[C@H](...</td>\n",
       "      <td>1</td>\n",
       "    </tr>\n",
       "    <tr>\n",
       "      <th>...</th>\n",
       "      <td>...</td>\n",
       "      <td>...</td>\n",
       "    </tr>\n",
       "    <tr>\n",
       "      <th>1508</th>\n",
       "      <td>Clc1cc2nc(n(c2cc1)C(CC(=O)NCC1CCOCC1)CC)N</td>\n",
       "      <td>0</td>\n",
       "    </tr>\n",
       "    <tr>\n",
       "      <th>1509</th>\n",
       "      <td>Clc1cc2nc(n(c2cc1)C(CC(=O)NCc1ncccc1)CC)N</td>\n",
       "      <td>0</td>\n",
       "    </tr>\n",
       "    <tr>\n",
       "      <th>1510</th>\n",
       "      <td>Brc1cc(ccc1)C1CC1C=1N=C(N)N(C)C(=O)C=1</td>\n",
       "      <td>0</td>\n",
       "    </tr>\n",
       "    <tr>\n",
       "      <th>1511</th>\n",
       "      <td>O=C1N(C)C(=NC(=C1)C1CC1c1cc(ccc1)-c1ccccc1)N</td>\n",
       "      <td>0</td>\n",
       "    </tr>\n",
       "    <tr>\n",
       "      <th>1512</th>\n",
       "      <td>Clc1cc2nc(n(c2cc1)CCCC(=O)NCC1CC1)N</td>\n",
       "      <td>0</td>\n",
       "    </tr>\n",
       "  </tbody>\n",
       "</table>\n",
       "<p>1513 rows × 2 columns</p>\n",
       "</div>"
      ],
      "text/plain": [
       "                                                 smiles  Class\n",
       "0     O1CC[C@@H](NC(=O)[C@@H](Cc2cc3cc(ccc3nc2N)-c2c...      1\n",
       "1     Fc1cc(cc(F)c1)C[C@H](NC(=O)[C@@H](N1CC[C@](NC(...      1\n",
       "2     S1(=O)(=O)N(c2cc(cc3c2n(cc3CC)CC1)C(=O)N[C@H](...      1\n",
       "3     S1(=O)(=O)C[C@@H](Cc2cc(O[C@H](COCC)C(F)(F)F)c...      1\n",
       "4     S1(=O)(=O)N(c2cc(cc3c2n(cc3CC)CC1)C(=O)N[C@H](...      1\n",
       "...                                                 ...    ...\n",
       "1508          Clc1cc2nc(n(c2cc1)C(CC(=O)NCC1CCOCC1)CC)N      0\n",
       "1509          Clc1cc2nc(n(c2cc1)C(CC(=O)NCc1ncccc1)CC)N      0\n",
       "1510             Brc1cc(ccc1)C1CC1C=1N=C(N)N(C)C(=O)C=1      0\n",
       "1511       O=C1N(C)C(=NC(=C1)C1CC1c1cc(ccc1)-c1ccccc1)N      0\n",
       "1512                Clc1cc2nc(n(c2cc1)CCCC(=O)NCC1CC1)N      0\n",
       "\n",
       "[1513 rows x 2 columns]"
      ]
     },
     "execution_count": 14,
     "metadata": {},
     "output_type": "execute_result"
    }
   ],
   "source": [
    "df = pd.read_csv('./raw/bace.csv')\n",
    "df"
   ]
  },
  {
   "cell_type": "code",
   "execution_count": 15,
   "metadata": {},
   "outputs": [],
   "source": [
    "loader = DataLoader(bace, batch_size=1600)\n",
    "iter_ = iter(loader)\n",
    "batch = next(iter_)"
   ]
  },
  {
   "cell_type": "code",
   "execution_count": 16,
   "metadata": {},
   "outputs": [],
   "source": [
    "model.eval()  # 关闭dropout\n",
    "output = model(batch)"
   ]
  },
  {
   "cell_type": "code",
   "execution_count": 17,
   "metadata": {},
   "outputs": [
    {
     "data": {
      "text/plain": [
       "(tensor([[ 0.0040,  0.6383],\n",
       "         [-0.6110,  1.7857],\n",
       "         [-0.8655,  1.7919],\n",
       "         ...,\n",
       "         [ 3.6077, -2.8154],\n",
       "         [ 3.9109, -3.0062],\n",
       "         [ 2.8584, -2.1096]], grad_fn=<AddmmBackward>),\n",
       " (tensor([0.3373, 0.1667, 0.3180,  ..., 0.3061, 0.4725, 0.8596],\n",
       "         grad_fn=<DivBackward0>),\n",
       "  tensor([[    0,     1,     2,  ..., 10927, 10928, 10929],\n",
       "          [    0,     0,     0,  ...,  1512,  1512,  1512]])))"
      ]
     },
     "execution_count": 17,
     "metadata": {},
     "output_type": "execute_result"
    }
   ],
   "source": [
    "output"
   ]
  },
  {
   "cell_type": "code",
   "execution_count": 22,
   "metadata": {},
   "outputs": [
    {
     "data": {
      "text/plain": [
       "array([0.3373232 , 0.16671291, 0.31799367, ..., 0.3061027 , 0.47254848,\n",
       "       0.85955113], dtype=float32)"
      ]
     },
     "execution_count": 22,
     "metadata": {},
     "output_type": "execute_result"
    }
   ],
   "source": [
    "att = output[1][0].detach().numpy()\n",
    "att"
   ]
  },
  {
   "cell_type": "code",
   "execution_count": 23,
   "metadata": {},
   "outputs": [
    {
     "data": {
      "text/plain": [
       "array([[    0,     1,     2, ..., 10927, 10928, 10929],\n",
       "       [    0,     0,     0, ...,  1512,  1512,  1512]], dtype=int64)"
      ]
     },
     "execution_count": 23,
     "metadata": {},
     "output_type": "execute_result"
    }
   ],
   "source": [
    "cross = output[1][1].detach().numpy()\n",
    "cross"
   ]
  },
  {
   "cell_type": "code",
   "execution_count": 24,
   "metadata": {},
   "outputs": [
    {
     "data": {
      "text/plain": [
       "array([ 0.63834226,  1.7857199 ,  1.7919474 , ..., -2.8154206 ,\n",
       "       -3.0061812 , -2.1096396 ], dtype=float32)"
      ]
     },
     "execution_count": 24,
     "metadata": {},
     "output_type": "execute_result"
    }
   ],
   "source": [
    "logits = output[0][:,1].detach().numpy()\n",
    "logits"
   ]
  },
  {
   "cell_type": "code",
   "execution_count": 25,
   "metadata": {},
   "outputs": [
    {
     "data": {
      "text/plain": [
       "array([1504, 1425,  165, 1401, 1486, 1095, 1485, 1275, 1418, 1406],\n",
       "      dtype=int64)"
      ]
     },
     "execution_count": 25,
     "metadata": {},
     "output_type": "execute_result"
    }
   ],
   "source": [
    "index = (logits).argsort()[0:10]\n",
    "index"
   ]
  },
  {
   "cell_type": "code",
   "execution_count": 26,
   "metadata": {},
   "outputs": [],
   "source": [
    "i = 1230"
   ]
  },
  {
   "cell_type": "code",
   "execution_count": 27,
   "metadata": {},
   "outputs": [
    {
     "data": {
      "text/plain": [
       "smiles    Brc1cc(ccc1)C1(N=C(N2C1=NCC(F)(F)C2)N)c1ccc(OC...\n",
       "Class                                                     0\n",
       "pred                                                      0\n",
       "Name: 1230, dtype: object"
      ]
     },
     "execution_count": 27,
     "metadata": {},
     "output_type": "execute_result"
    }
   ],
   "source": [
    "df.iloc[i]"
   ]
  },
  {
   "cell_type": "code",
   "execution_count": 28,
   "metadata": {},
   "outputs": [
    {
     "data": {
      "text/plain": [
       "array([9022, 9023, 9024, 9025], dtype=int64)"
      ]
     },
     "execution_count": 28,
     "metadata": {},
     "output_type": "execute_result"
    }
   ],
   "source": [
    "idx = cross[1]\n",
    "num1 = np.where(idx==i)[0]\n",
    "num1"
   ]
  },
  {
   "cell_type": "code",
   "execution_count": 29,
   "metadata": {},
   "outputs": [
    {
     "data": {
      "text/plain": [
       "array([[9022, 9023, 9024, 9025],\n",
       "       [1230, 1230, 1230, 1230]], dtype=int64)"
      ]
     },
     "execution_count": 29,
     "metadata": {},
     "output_type": "execute_result"
    }
   ],
   "source": [
    "cross1 = cross[:,num1]\n",
    "cross1"
   ]
  },
  {
   "cell_type": "code",
   "execution_count": 30,
   "metadata": {},
   "outputs": [
    {
     "data": {
      "text/plain": [
       "array([0.41911536, 0.92285657, 0.352442  , 0.47996303], dtype=float32)"
      ]
     },
     "execution_count": 30,
     "metadata": {},
     "output_type": "execute_result"
    }
   ],
   "source": [
    "att1 = att[num1]\n",
    "att1"
   ]
  },
  {
   "cell_type": "code",
   "execution_count": 31,
   "metadata": {},
   "outputs": [
    {
     "data": {
      "text/plain": [
       "'Brc1cc(ccc1)C1(N=C(N2C1=NCC(F)(F)C2)N)c1ccc(OC)cc1'"
      ]
     },
     "execution_count": 31,
     "metadata": {},
     "output_type": "execute_result"
    }
   ],
   "source": [
    "smiles1 = df['smiles'].iloc[i]\n",
    "smiles1"
   ]
  },
  {
   "cell_type": "code",
   "execution_count": 32,
   "metadata": {},
   "outputs": [
    {
     "data": {
      "image/png": "[encoded data removed]",
      "text/plain": [
       "<rdkit.Chem.rdchem.Mol at 0x25cd0c2d170>"
      ]
     },
     "execution_count": 32,
     "metadata": {},
     "output_type": "execute_result"
    }
   ],
   "source": [
    "mol1 = Chem.MolFromSmiles(smiles1)\n",
    "mol1"
   ]
  },
  {
   "cell_type": "code",
   "execution_count": 33,
   "metadata": {},
   "outputs": [],
   "source": [
    "j = 677"
   ]
  },
  {
   "cell_type": "code",
   "execution_count": 34,
   "metadata": {},
   "outputs": [
    {
     "data": {
      "text/plain": [
       "smiles    FC1(F)CN2C(=NC1)C(N=C2N)(c1cc(ccc1)C#CCCOC)c1c...\n",
       "Class                                                     1\n",
       "pred                                                      1\n",
       "Name: 677, dtype: object"
      ]
     },
     "execution_count": 34,
     "metadata": {},
     "output_type": "execute_result"
    }
   ],
   "source": [
    "df.iloc[j]"
   ]
  },
  {
   "cell_type": "code",
   "execution_count": 35,
   "metadata": {},
   "outputs": [
    {
     "data": {
      "text/plain": [
       "array([5219, 5220, 5221, 5222, 5223], dtype=int64)"
      ]
     },
     "execution_count": 35,
     "metadata": {},
     "output_type": "execute_result"
    }
   ],
   "source": [
    "idx = cross[1]\n",
    "num2 = np.where(idx==j)[0]\n",
    "num2"
   ]
  },
  {
   "cell_type": "code",
   "execution_count": 36,
   "metadata": {},
   "outputs": [
    {
     "data": {
      "text/plain": [
       "array([[5219, 5220, 5221, 5222, 5223],\n",
       "       [ 677,  677,  677,  677,  677]], dtype=int64)"
      ]
     },
     "execution_count": 36,
     "metadata": {},
     "output_type": "execute_result"
    }
   ],
   "source": [
    "cross2 = cross[:,num2]\n",
    "cross2"
   ]
  },
  {
   "cell_type": "code",
   "execution_count": 38,
   "metadata": {},
   "outputs": [
    {
     "data": {
      "text/plain": [
       "array([0.8609098 , 0.80787927, 0.3073388 , 0.1525354 , 0.7005167 ],\n",
       "      dtype=float32)"
      ]
     },
     "execution_count": 38,
     "metadata": {},
     "output_type": "execute_result"
    }
   ],
   "source": [
    "att2 = att[num2]\n",
    "att2"
   ]
  },
  {
   "cell_type": "code",
   "execution_count": 39,
   "metadata": {},
   "outputs": [
    {
     "data": {
      "text/plain": [
       "'FC1(F)CN2C(=NC1)C(N=C2N)(c1cc(ccc1)C#CCCOC)c1ccc(OC(F)F)cc1'"
      ]
     },
     "execution_count": 39,
     "metadata": {},
     "output_type": "execute_result"
    }
   ],
   "source": [
    "smiles2 = df['smiles'].iloc[j]\n",
    "smiles2"
   ]
  },
  {
   "cell_type": "code",
   "execution_count": 40,
   "metadata": {},
   "outputs": [
    {
     "data": {
      "image/png": "[encoded data removed]",
      "text/plain": [
       "<rdkit.Chem.rdchem.Mol at 0x25cd0c537b0>"
      ]
     },
     "execution_count": 40,
     "metadata": {},
     "output_type": "execute_result"
    }
   ],
   "source": [
    "mol2 = Chem.MolFromSmiles(smiles2)\n",
    "mol2"
   ]
  },
  {
   "cell_type": "markdown",
   "metadata": {},
   "source": [
    "## 进行绘图"
   ]
  },
  {
   "cell_type": "code",
   "execution_count": 43,
   "metadata": {},
   "outputs": [
    {
     "data": {
      "image/svg+xml": [
       "<svg baseProfile=\"full\" height=\"300px\" version=\"1.1\" viewBox=\"0 0 300 300\" width=\"300px\" xml:space=\"preserve\" xmlns=\"http://www.w3.org/2000/svg\" xmlns:rdkit=\"http://www.rdkit.org/xml\" xmlns:xlink=\"http://www.w3.org/1999/xlink\">\n",
       "<!-- END OF HEADER -->\n",
       "<rect height=\"300.0\" style=\"opacity:1.0;fill:#FFFFFF;stroke:none\" width=\"300.0\" x=\"0.0\" y=\"0.0\"> </rect>\n",
       "<path class=\"bond-0 atom-0 atom-1\" d=\"M 36.3,38.3 L 41.0,53.3\" style=\"fill:none;fill-rule:evenodd;stroke:#7F4C19;stroke-width:2.0px;stroke-linecap:butt;stroke-linejoin:miter;stroke-opacity:1\"/>\n",
       "<path class=\"bond-0 atom-0 atom-1\" d=\"M 41.0,53.3 L 45.7,68.4\" style=\"fill:none;fill-rule:evenodd;stroke:#000000;stroke-width:2.0px;stroke-linecap:butt;stroke-linejoin:miter;stroke-opacity:1\"/>\n",
       "<path class=\"bond-1 atom-1 atom-2\" d=\"M 45.7,68.4 L 83.0,76.8\" style=\"fill:none;fill-rule:evenodd;stroke:#000000;stroke-width:2.0px;stroke-linecap:butt;stroke-linejoin:miter;stroke-opacity:1\"/>\n",
       "<path class=\"bond-1 atom-1 atom-2\" d=\"M 49.7,77.1 L 75.8,83.0\" style=\"fill:none;fill-rule:evenodd;stroke:#000000;stroke-width:2.0px;stroke-linecap:butt;stroke-linejoin:miter;stroke-opacity:1\"/>\n",
       "<path class=\"bond-26 atom-6 atom-1\" d=\"M 19.9,96.5 L 45.7,68.4\" style=\"fill:none;fill-rule:evenodd;stroke:#000000;stroke-width:2.0px;stroke-linecap:butt;stroke-linejoin:miter;stroke-opacity:1\"/>\n",
       "<path class=\"bond-2 atom-2 atom-3\" d=\"M 83.0,76.8 L 94.5,113.2\" style=\"fill:none;fill-rule:evenodd;stroke:#000000;stroke-width:2.0px;stroke-linecap:butt;stroke-linejoin:miter;stroke-opacity:1\"/>\n",
       "<path class=\"bond-3 atom-3 atom-4\" d=\"M 94.5,113.2 L 68.6,141.4\" style=\"fill:none;fill-rule:evenodd;stroke:#000000;stroke-width:2.0px;stroke-linecap:butt;stroke-linejoin:miter;stroke-opacity:1\"/>\n",
       "<path class=\"bond-3 atom-3 atom-4\" d=\"M 84.9,112.3 L 66.8,132.0\" style=\"fill:none;fill-rule:evenodd;stroke:#000000;stroke-width:2.0px;stroke-linecap:butt;stroke-linejoin:miter;stroke-opacity:1\"/>\n",
       "<path class=\"bond-6 atom-3 atom-7\" d=\"M 94.5,113.2 L 131.8,121.6\" style=\"fill:none;fill-rule:evenodd;stroke:#000000;stroke-width:2.0px;stroke-linecap:butt;stroke-linejoin:miter;stroke-opacity:1\"/>\n",
       "<path class=\"bond-4 atom-4 atom-5\" d=\"M 68.6,141.4 L 31.3,133.0\" style=\"fill:none;fill-rule:evenodd;stroke:#000000;stroke-width:2.0px;stroke-linecap:butt;stroke-linejoin:miter;stroke-opacity:1\"/>\n",
       "<path class=\"bond-5 atom-5 atom-6\" d=\"M 31.3,133.0 L 19.9,96.5\" style=\"fill:none;fill-rule:evenodd;stroke:#000000;stroke-width:2.0px;stroke-linecap:butt;stroke-linejoin:miter;stroke-opacity:1\"/>\n",
       "<path class=\"bond-5 atom-5 atom-6\" d=\"M 36.8,125.2 L 28.9,99.7\" style=\"fill:none;fill-rule:evenodd;stroke:#000000;stroke-width:2.0px;stroke-linecap:butt;stroke-linejoin:miter;stroke-opacity:1\"/>\n",
       "<path class=\"bond-7 atom-7 atom-8\" d=\"M 131.8,121.6 L 133.6,105.8\" style=\"fill:none;fill-rule:evenodd;stroke:#000000;stroke-width:2.0px;stroke-linecap:butt;stroke-linejoin:miter;stroke-opacity:1\"/>\n",
       "<path class=\"bond-7 atom-7 atom-8\" d=\"M 133.6,105.8 L 135.4,90.0\" style=\"fill:none;fill-rule:evenodd;stroke:#0000FF;stroke-width:2.0px;stroke-linecap:butt;stroke-linejoin:miter;stroke-opacity:1\"/>\n",
       "<path class=\"bond-18 atom-7 atom-19\" d=\"M 131.8,121.6 L 119.5,157.8\" style=\"fill:none;fill-rule:evenodd;stroke:#000000;stroke-width:2.0px;stroke-linecap:butt;stroke-linejoin:miter;stroke-opacity:1\"/>\n",
       "<path class=\"bond-27 atom-11 atom-7\" d=\"M 166.5,137.5 L 131.8,121.6\" style=\"fill:none;fill-rule:evenodd;stroke:#000000;stroke-width:2.0px;stroke-linecap:butt;stroke-linejoin:miter;stroke-opacity:1\"/>\n",
       "<path class=\"bond-8 atom-8 atom-9\" d=\"M 141.2,82.6 L 157.4,79.4\" style=\"fill:none;fill-rule:evenodd;stroke:#0000FF;stroke-width:2.0px;stroke-linecap:butt;stroke-linejoin:miter;stroke-opacity:1\"/>\n",
       "<path class=\"bond-8 atom-8 atom-9\" d=\"M 157.4,79.4 L 173.7,76.1\" style=\"fill:none;fill-rule:evenodd;stroke:#000000;stroke-width:2.0px;stroke-linecap:butt;stroke-linejoin:miter;stroke-opacity:1\"/>\n",
       "<path class=\"bond-8 atom-8 atom-9\" d=\"M 147.6,89.1 L 158.9,86.9\" style=\"fill:none;fill-rule:evenodd;stroke:#0000FF;stroke-width:2.0px;stroke-linecap:butt;stroke-linejoin:miter;stroke-opacity:1\"/>\n",
       "<path class=\"bond-8 atom-8 atom-9\" d=\"M 158.9,86.9 L 170.3,84.6\" style=\"fill:none;fill-rule:evenodd;stroke:#000000;stroke-width:2.0px;stroke-linecap:butt;stroke-linejoin:miter;stroke-opacity:1\"/>\n",
       "<path class=\"bond-9 atom-9 atom-10\" d=\"M 173.7,76.1 L 181.2,89.6\" style=\"fill:none;fill-rule:evenodd;stroke:#000000;stroke-width:2.0px;stroke-linecap:butt;stroke-linejoin:miter;stroke-opacity:1\"/>\n",
       "<path class=\"bond-9 atom-9 atom-10\" d=\"M 181.2,89.6 L 188.8,103.1\" style=\"fill:none;fill-rule:evenodd;stroke:#0000FF;stroke-width:2.0px;stroke-linecap:butt;stroke-linejoin:miter;stroke-opacity:1\"/>\n",
       "<path class=\"bond-17 atom-9 atom-18\" d=\"M 173.7,76.1 L 180.2,61.9\" style=\"fill:none;fill-rule:evenodd;stroke:#000000;stroke-width:2.0px;stroke-linecap:butt;stroke-linejoin:miter;stroke-opacity:1\"/>\n",
       "<path class=\"bond-17 atom-9 atom-18\" d=\"M 180.2,61.9 L 186.7,47.7\" style=\"fill:none;fill-rule:evenodd;stroke:#0000FF;stroke-width:2.0px;stroke-linecap:butt;stroke-linejoin:miter;stroke-opacity:1\"/>\n",
       "<path class=\"bond-10 atom-10 atom-11\" d=\"M 187.3,114.9 L 176.9,126.2\" style=\"fill:none;fill-rule:evenodd;stroke:#0000FF;stroke-width:2.0px;stroke-linecap:butt;stroke-linejoin:miter;stroke-opacity:1\"/>\n",
       "<path class=\"bond-10 atom-10 atom-11\" d=\"M 176.9,126.2 L 166.5,137.5\" style=\"fill:none;fill-rule:evenodd;stroke:#000000;stroke-width:2.0px;stroke-linecap:butt;stroke-linejoin:miter;stroke-opacity:1\"/>\n",
       "<path class=\"bond-29 atom-17 atom-10\" d=\"M 229.7,117.8 L 213.6,114.2\" style=\"fill:none;fill-rule:evenodd;stroke:#000000;stroke-width:2.0px;stroke-linecap:butt;stroke-linejoin:miter;stroke-opacity:1\"/>\n",
       "<path class=\"bond-29 atom-17 atom-10\" d=\"M 213.6,114.2 L 197.5,110.6\" style=\"fill:none;fill-rule:evenodd;stroke:#0000FF;stroke-width:2.0px;stroke-linecap:butt;stroke-linejoin:miter;stroke-opacity:1\"/>\n",
       "<path class=\"bond-11 atom-11 atom-12\" d=\"M 166.5,137.5 L 171.2,152.6\" style=\"fill:none;fill-rule:evenodd;stroke:#000000;stroke-width:2.0px;stroke-linecap:butt;stroke-linejoin:miter;stroke-opacity:1\"/>\n",
       "<path class=\"bond-11 atom-11 atom-12\" d=\"M 171.2,152.6 L 175.9,167.7\" style=\"fill:none;fill-rule:evenodd;stroke:#0000FF;stroke-width:2.0px;stroke-linecap:butt;stroke-linejoin:miter;stroke-opacity:1\"/>\n",
       "<path class=\"bond-11 atom-11 atom-12\" d=\"M 175.2,139.8 L 178.5,150.3\" style=\"fill:none;fill-rule:evenodd;stroke:#000000;stroke-width:2.0px;stroke-linecap:butt;stroke-linejoin:miter;stroke-opacity:1\"/>\n",
       "<path class=\"bond-11 atom-11 atom-12\" d=\"M 178.5,150.3 L 181.8,160.9\" style=\"fill:none;fill-rule:evenodd;stroke:#0000FF;stroke-width:2.0px;stroke-linecap:butt;stroke-linejoin:miter;stroke-opacity:1\"/>\n",
       "<path class=\"bond-12 atom-12 atom-13\" d=\"M 183.0,175.2 L 199.1,178.8\" style=\"fill:none;fill-rule:evenodd;stroke:#0000FF;stroke-width:2.0px;stroke-linecap:butt;stroke-linejoin:miter;stroke-opacity:1\"/>\n",
       "<path class=\"bond-12 atom-12 atom-13\" d=\"M 199.1,178.8 L 215.2,182.4\" style=\"fill:none;fill-rule:evenodd;stroke:#000000;stroke-width:2.0px;stroke-linecap:butt;stroke-linejoin:miter;stroke-opacity:1\"/>\n",
       "<path class=\"bond-13 atom-13 atom-14\" d=\"M 215.2,182.4 L 241.1,154.3\" style=\"fill:none;fill-rule:evenodd;stroke:#000000;stroke-width:2.0px;stroke-linecap:butt;stroke-linejoin:miter;stroke-opacity:1\"/>\n",
       "<path class=\"bond-14 atom-14 atom-15\" d=\"M 241.1,154.3 L 256.0,146.6\" style=\"fill:none;fill-rule:evenodd;stroke:#000000;stroke-width:2.0px;stroke-linecap:butt;stroke-linejoin:miter;stroke-opacity:1\"/>\n",
       "<path class=\"bond-14 atom-14 atom-15\" d=\"M 256.0,146.6 L 270.9,138.9\" style=\"fill:none;fill-rule:evenodd;stroke:#33CCCC;stroke-width:2.0px;stroke-linecap:butt;stroke-linejoin:miter;stroke-opacity:1\"/>\n",
       "<path class=\"bond-15 atom-14 atom-16\" d=\"M 241.1,154.3 L 250.6,166.7\" style=\"fill:none;fill-rule:evenodd;stroke:#000000;stroke-width:2.0px;stroke-linecap:butt;stroke-linejoin:miter;stroke-opacity:1\"/>\n",
       "<path class=\"bond-15 atom-14 atom-16\" d=\"M 250.6,166.7 L 260.1,179.2\" style=\"fill:none;fill-rule:evenodd;stroke:#33CCCC;stroke-width:2.0px;stroke-linecap:butt;stroke-linejoin:miter;stroke-opacity:1\"/>\n",
       "<path class=\"bond-16 atom-14 atom-17\" d=\"M 241.1,154.3 L 229.7,117.8\" style=\"fill:none;fill-rule:evenodd;stroke:#000000;stroke-width:2.0px;stroke-linecap:butt;stroke-linejoin:miter;stroke-opacity:1\"/>\n",
       "<path class=\"bond-19 atom-19 atom-20\" d=\"M 119.5,157.8 L 82.1,165.4\" style=\"fill:none;fill-rule:evenodd;stroke:#000000;stroke-width:2.0px;stroke-linecap:butt;stroke-linejoin:miter;stroke-opacity:1\"/>\n",
       "<path class=\"bond-19 atom-19 atom-20\" d=\"M 115.4,166.4 L 89.2,171.7\" style=\"fill:none;fill-rule:evenodd;stroke:#000000;stroke-width:2.0px;stroke-linecap:butt;stroke-linejoin:miter;stroke-opacity:1\"/>\n",
       "<path class=\"bond-28 atom-26 atom-19\" d=\"M 144.8,186.5 L 119.5,157.8\" style=\"fill:none;fill-rule:evenodd;stroke:#000000;stroke-width:2.0px;stroke-linecap:butt;stroke-linejoin:miter;stroke-opacity:1\"/>\n",
       "<path class=\"bond-20 atom-20 atom-21\" d=\"M 82.1,165.4 L 69.8,201.6\" style=\"fill:none;fill-rule:evenodd;stroke:#000000;stroke-width:2.0px;stroke-linecap:butt;stroke-linejoin:miter;stroke-opacity:1\"/>\n",
       "<path class=\"bond-21 atom-21 atom-22\" d=\"M 69.8,201.6 L 95.1,230.3\" style=\"fill:none;fill-rule:evenodd;stroke:#000000;stroke-width:2.0px;stroke-linecap:butt;stroke-linejoin:miter;stroke-opacity:1\"/>\n",
       "<path class=\"bond-21 atom-21 atom-22\" d=\"M 79.4,200.8 L 97.0,220.9\" style=\"fill:none;fill-rule:evenodd;stroke:#000000;stroke-width:2.0px;stroke-linecap:butt;stroke-linejoin:miter;stroke-opacity:1\"/>\n",
       "<path class=\"bond-22 atom-22 atom-23\" d=\"M 95.1,230.3 L 90.1,245.2\" style=\"fill:none;fill-rule:evenodd;stroke:#000000;stroke-width:2.0px;stroke-linecap:butt;stroke-linejoin:miter;stroke-opacity:1\"/>\n",
       "<path class=\"bond-22 atom-22 atom-23\" d=\"M 90.1,245.2 L 85.0,260.1\" style=\"fill:none;fill-rule:evenodd;stroke:#FF0000;stroke-width:2.0px;stroke-linecap:butt;stroke-linejoin:miter;stroke-opacity:1\"/>\n",
       "<path class=\"bond-24 atom-22 atom-25\" d=\"M 95.1,230.3 L 132.6,222.7\" style=\"fill:none;fill-rule:evenodd;stroke:#000000;stroke-width:2.0px;stroke-linecap:butt;stroke-linejoin:miter;stroke-opacity:1\"/>\n",
       "<path class=\"bond-23 atom-23 atom-24\" d=\"M 77.0,267.7 L 61.2,270.8\" style=\"fill:none;fill-rule:evenodd;stroke:#FF0000;stroke-width:2.0px;stroke-linecap:butt;stroke-linejoin:miter;stroke-opacity:1\"/>\n",
       "<path class=\"bond-23 atom-23 atom-24\" d=\"M 61.2,270.8 L 45.4,274.0\" style=\"fill:none;fill-rule:evenodd;stroke:#000000;stroke-width:2.0px;stroke-linecap:butt;stroke-linejoin:miter;stroke-opacity:1\"/>\n",
       "<path class=\"bond-25 atom-25 atom-26\" d=\"M 132.6,222.7 L 144.8,186.5\" style=\"fill:none;fill-rule:evenodd;stroke:#000000;stroke-width:2.0px;stroke-linecap:butt;stroke-linejoin:miter;stroke-opacity:1\"/>\n",
       "<path class=\"bond-25 atom-25 atom-26\" d=\"M 127.2,214.9 L 135.7,189.5\" style=\"fill:none;fill-rule:evenodd;stroke:#000000;stroke-width:2.0px;stroke-linecap:butt;stroke-linejoin:miter;stroke-opacity:1\"/>\n",
       "<path class=\"atom-0\" d=\"M 35.9 31.6 Q 37.0 31.9, 37.5 32.6 Q 38.0 33.2, 38.0 34.1 Q 38.0 35.6, 37.1 36.5 Q 36.1 37.3, 34.3 37.3 L 30.7 37.3 L 30.7 26.5 L 33.9 26.5 Q 35.7 26.5, 36.6 27.2 Q 37.6 28.0, 37.6 29.4 Q 37.6 31.0, 35.9 31.6 M 32.1 27.7 L 32.1 31.1 L 33.9 31.1 Q 34.9 31.1, 35.5 30.7 Q 36.0 30.2, 36.0 29.4 Q 36.0 27.7, 33.9 27.7 L 32.1 27.7 M 34.3 36.1 Q 35.4 36.1, 35.9 35.6 Q 36.5 35.1, 36.5 34.1 Q 36.5 33.2, 35.9 32.8 Q 35.3 32.3, 34.1 32.3 L 32.1 32.3 L 32.1 36.1 L 34.3 36.1 \" fill=\"#7F4C19\"/>\n",
       "<path class=\"atom-0\" d=\"M 40.5 29.5 L 40.7 30.5 Q 41.5 29.3, 42.8 29.3 Q 43.2 29.3, 43.8 29.5 L 43.6 30.8 Q 42.9 30.6, 42.6 30.6 Q 41.9 30.6, 41.5 30.9 Q 41.1 31.1, 40.8 31.7 L 40.8 37.3 L 39.3 37.3 L 39.3 29.5 L 40.5 29.5 \" fill=\"#7F4C19\"/>\n",
       "<path class=\"atom-8\" d=\"M 133.8 78.2 L 137.3 84.0 Q 137.7 84.5, 138.2 85.5 Q 138.8 86.6, 138.8 86.6 L 138.8 78.2 L 140.3 78.2 L 140.3 89.0 L 138.8 89.0 L 135.0 82.8 Q 134.5 82.0, 134.1 81.2 Q 133.6 80.4, 133.5 80.1 L 133.5 89.0 L 132.1 89.0 L 132.1 78.2 L 133.8 78.2 \" fill=\"#0000FF\"/>\n",
       "<path class=\"atom-10\" d=\"M 190.0 104.0 L 193.5 109.7 Q 193.9 110.3, 194.5 111.3 Q 195.0 112.4, 195.1 112.4 L 195.1 104.0 L 196.5 104.0 L 196.5 114.8 L 195.0 114.8 L 191.2 108.6 Q 190.8 107.8, 190.3 107.0 Q 189.8 106.1, 189.7 105.9 L 189.7 114.8 L 188.3 114.8 L 188.3 104.0 L 190.0 104.0 \" fill=\"#0000FF\"/>\n",
       "<path class=\"atom-12\" d=\"M 175.5 168.6 L 179.1 174.3 Q 179.4 174.9, 180.0 175.9 Q 180.5 177.0, 180.6 177.0 L 180.6 168.6 L 182.0 168.6 L 182.0 179.4 L 180.5 179.4 L 176.7 173.2 Q 176.3 172.4, 175.8 171.6 Q 175.3 170.8, 175.2 170.5 L 175.2 179.4 L 173.8 179.4 L 173.8 168.6 L 175.5 168.6 \" fill=\"#0000FF\"/>\n",
       "<path class=\"atom-15\" d=\"M 271.8 131.3 L 278.3 131.3 L 278.3 132.5 L 273.3 132.5 L 273.3 135.8 L 277.7 135.8 L 277.7 137.1 L 273.3 137.1 L 273.3 142.1 L 271.8 142.1 L 271.8 131.3 \" fill=\"#33CCCC\"/>\n",
       "<path class=\"atom-16\" d=\"M 261.1 179.2 L 267.5 179.2 L 267.5 180.5 L 262.5 180.5 L 262.5 183.8 L 267.0 183.8 L 267.0 185.0 L 262.5 185.0 L 262.5 190.1 L 261.1 190.1 L 261.1 179.2 \" fill=\"#33CCCC\"/>\n",
       "<path class=\"atom-18\" d=\"M 187.2 35.9 L 190.7 41.7 Q 191.1 42.2, 191.7 43.3 Q 192.2 44.3, 192.3 44.4 L 192.3 35.9 L 193.7 35.9 L 193.7 46.8 L 192.2 46.8 L 188.4 40.5 Q 188.0 39.8, 187.5 38.9 Q 187.0 38.1, 186.9 37.8 L 186.9 46.8 L 185.5 46.8 L 185.5 35.9 L 187.2 35.9 \" fill=\"#0000FF\"/>\n",
       "<path class=\"atom-18\" d=\"M 195.0 35.9 L 196.5 35.9 L 196.5 40.5 L 202.0 40.5 L 202.0 35.9 L 203.5 35.9 L 203.5 46.8 L 202.0 46.8 L 202.0 41.8 L 196.5 41.8 L 196.5 46.8 L 195.0 46.8 L 195.0 35.9 \" fill=\"#0000FF\"/>\n",
       "<path class=\"atom-18\" d=\"M 204.0 46.4 Q 204.3 45.7, 204.9 45.3 Q 205.5 45.0, 206.4 45.0 Q 207.5 45.0, 208.1 45.5 Q 208.7 46.1, 208.7 47.2 Q 208.7 48.2, 207.9 49.2 Q 207.1 50.2, 205.5 51.4 L 208.8 51.4 L 208.8 52.2 L 204.0 52.2 L 204.0 51.5 Q 205.3 50.6, 206.1 49.9 Q 206.9 49.1, 207.3 48.5 Q 207.7 47.9, 207.7 47.2 Q 207.7 46.5, 207.3 46.2 Q 207.0 45.8, 206.4 45.8 Q 205.8 45.8, 205.4 46.0 Q 205.0 46.2, 204.8 46.7 L 204.0 46.4 \" fill=\"#0000FF\"/>\n",
       "<path class=\"atom-23\" d=\"M 77.9 266.5 Q 77.9 263.9, 79.2 262.5 Q 80.5 261.0, 82.9 261.0 Q 85.3 261.0, 86.6 262.5 Q 87.8 263.9, 87.8 266.5 Q 87.8 269.1, 86.5 270.6 Q 85.2 272.1, 82.9 272.1 Q 80.5 272.1, 79.2 270.6 Q 77.9 269.2, 77.9 266.5 M 82.9 270.9 Q 84.5 270.9, 85.4 269.8 Q 86.3 268.7, 86.3 266.5 Q 86.3 264.4, 85.4 263.3 Q 84.5 262.2, 82.9 262.2 Q 81.2 262.2, 80.3 263.3 Q 79.4 264.4, 79.4 266.5 Q 79.4 268.7, 80.3 269.8 Q 81.2 270.9, 82.9 270.9 \" fill=\"#FF0000\"/>\n",
       "<path class=\"note\" d=\"M 30.5 22.5 Q 29.5 22.5, 29.1 21.8 Q 28.6 21.1, 28.6 19.8 Q 28.6 18.5, 29.1 17.7 Q 29.5 17.0, 30.5 17.0 Q 31.5 17.0, 32.0 17.7 Q 32.5 18.5, 32.5 19.8 Q 32.5 21.1, 32.0 21.8 Q 31.5 22.5, 30.5 22.5 M 30.5 21.9 Q 31.1 21.9, 31.4 21.4 Q 31.8 20.8, 31.8 19.8 Q 31.8 18.7, 31.4 18.2 Q 31.1 17.6, 30.5 17.6 Q 30.0 17.6, 29.6 18.2 Q 29.3 18.7, 29.3 19.8 Q 29.3 20.8, 29.6 21.4 Q 30.0 21.9, 30.5 21.9 \" fill=\"#000000\"/>\n",
       "<path class=\"note\" d=\"M 48.7 65.8 L 49.9 65.8 L 49.9 61.8 L 48.6 62.2 L 48.4 61.7 L 50.1 61.0 L 50.6 61.1 L 50.6 65.8 L 51.7 65.8 L 51.7 66.4 L 48.7 66.4 L 48.7 65.8 \" fill=\"#000000\"/>\n",
       "<path class=\"note\" d=\"M 85.6 70.4 Q 85.8 69.9, 86.2 69.6 Q 86.7 69.3, 87.4 69.3 Q 88.2 69.3, 88.6 69.8 Q 89.1 70.2, 89.1 71.0 Q 89.1 71.8, 88.5 72.6 Q 87.9 73.3, 86.7 74.2 L 89.2 74.2 L 89.2 74.8 L 85.5 74.8 L 85.5 74.3 Q 86.5 73.6, 87.1 73.0 Q 87.7 72.5, 88.0 72.0 Q 88.3 71.5, 88.3 71.0 Q 88.3 70.5, 88.1 70.2 Q 87.8 69.9, 87.4 69.9 Q 86.9 69.9, 86.6 70.1 Q 86.3 70.3, 86.1 70.7 L 85.6 70.4 \" fill=\"#000000\"/>\n",
       "<path class=\"note\" d=\"M 89.0 111.7 Q 89.5 111.9, 89.8 112.2 Q 90.1 112.6, 90.1 113.1 Q 90.1 113.6, 89.8 113.9 Q 89.6 114.3, 89.2 114.5 Q 88.8 114.7, 88.2 114.7 Q 87.6 114.7, 87.2 114.5 Q 86.8 114.3, 86.4 113.8 L 86.9 113.4 Q 87.2 113.8, 87.5 113.9 Q 87.8 114.0, 88.2 114.0 Q 88.7 114.0, 89.0 113.8 Q 89.3 113.5, 89.3 113.1 Q 89.3 112.5, 89.0 112.3 Q 88.7 112.0, 88.0 112.0 L 87.6 112.0 L 87.6 111.5 L 88.0 111.5 Q 88.5 111.5, 88.9 111.2 Q 89.2 111.0, 89.2 110.5 Q 89.2 110.1, 88.9 109.9 Q 88.7 109.7, 88.2 109.7 Q 87.8 109.7, 87.5 109.9 Q 87.2 110.0, 87.0 110.4 L 86.5 110.2 Q 86.7 109.7, 87.1 109.4 Q 87.6 109.1, 88.2 109.1 Q 89.0 109.1, 89.5 109.5 Q 89.9 109.9, 89.9 110.5 Q 89.9 110.9, 89.7 111.2 Q 89.5 111.6, 89.0 111.7 \" fill=\"#000000\"/>\n",
       "<path class=\"note\" d=\"M 71.9 148.3 L 72.5 148.3 L 72.5 148.9 L 71.9 148.9 L 71.9 150.1 L 71.2 150.1 L 71.2 148.9 L 68.4 148.9 L 68.4 148.4 L 70.7 144.7 L 71.9 144.7 L 71.9 148.3 M 69.3 148.3 L 71.2 148.3 L 71.2 145.2 L 69.3 148.3 \" fill=\"#000000\"/>\n",
       "<path class=\"note\" d=\"M 27.1 137.0 Q 27.5 137.0, 27.9 137.2 Q 28.3 137.4, 28.6 137.8 Q 28.8 138.2, 28.8 138.7 Q 28.8 139.2, 28.5 139.6 Q 28.2 140.0, 27.8 140.2 Q 27.3 140.4, 26.8 140.4 Q 26.3 140.4, 25.9 140.3 Q 25.4 140.1, 25.1 139.7 L 25.6 139.3 Q 25.8 139.5, 26.2 139.7 Q 26.5 139.8, 26.9 139.8 Q 27.3 139.8, 27.7 139.5 Q 28.0 139.2, 28.0 138.7 Q 28.0 138.1, 27.7 137.8 Q 27.3 137.6, 26.8 137.6 Q 26.3 137.6, 25.8 137.8 L 25.4 137.6 L 25.7 135.0 L 28.4 135.0 L 28.4 135.6 L 26.3 135.6 L 26.1 137.2 Q 26.6 137.0, 27.1 137.0 \" fill=\"#000000\"/>\n",
       "<path class=\"note\" d=\"M 13.9 94.5 Q 14.4 94.5, 14.7 94.7 Q 15.1 94.9, 15.3 95.3 Q 15.5 95.6, 15.5 96.1 Q 15.5 96.6, 15.3 97.0 Q 15.0 97.5, 14.6 97.7 Q 14.2 97.9, 13.7 97.9 Q 12.7 97.9, 12.2 97.3 Q 11.8 96.6, 11.8 95.3 Q 11.8 93.9, 12.4 93.1 Q 13.0 92.4, 14.1 92.4 Q 14.5 92.4, 14.7 92.5 Q 15.0 92.5, 15.3 92.7 L 15.0 93.2 Q 14.6 93.0, 14.1 93.0 Q 13.4 93.0, 13.0 93.5 Q 12.6 94.0, 12.5 95.0 Q 12.8 94.7, 13.2 94.6 Q 13.5 94.5, 13.9 94.5 M 13.7 97.3 Q 14.0 97.3, 14.2 97.1 Q 14.5 97.0, 14.6 96.7 Q 14.7 96.4, 14.7 96.1 Q 14.7 95.6, 14.5 95.4 Q 14.2 95.1, 13.7 95.1 Q 13.4 95.1, 13.1 95.2 Q 12.8 95.3, 12.5 95.6 Q 12.6 96.5, 12.8 96.9 Q 13.1 97.3, 13.7 97.3 \" fill=\"#000000\"/>\n",
       "<path class=\"note\" d=\"M 129.1 114.3 L 126.3 114.3 L 126.3 113.7 L 129.9 113.7 L 129.9 114.2 L 127.7 119.1 L 126.9 119.1 L 129.1 114.3 \" fill=\"#000000\"/>\n",
       "<path class=\"note\" d=\"M 127.6 74.9 Q 128.1 75.1, 128.4 75.4 Q 128.7 75.7, 128.7 76.3 Q 128.7 76.7, 128.5 77.1 Q 128.2 77.4, 127.8 77.6 Q 127.4 77.8, 126.8 77.8 Q 125.9 77.8, 125.4 77.4 Q 124.9 77.0, 124.9 76.3 Q 124.9 75.8, 125.1 75.5 Q 125.3 75.1, 125.8 74.9 Q 125.5 74.7, 125.3 74.4 Q 125.1 74.1, 125.1 73.6 Q 125.1 73.0, 125.5 72.6 Q 126.0 72.3, 126.8 72.3 Q 127.6 72.3, 128.0 72.6 Q 128.5 73.0, 128.5 73.6 Q 128.5 74.0, 128.3 74.3 Q 128.1 74.6, 127.6 74.9 M 126.8 72.8 Q 126.3 72.8, 126.1 73.1 Q 125.9 73.3, 125.9 73.6 Q 125.9 73.9, 126.0 74.1 Q 126.2 74.3, 126.4 74.4 Q 126.7 74.5, 127.1 74.7 Q 127.5 74.5, 127.6 74.2 Q 127.7 74.0, 127.7 73.6 Q 127.7 73.3, 127.5 73.1 Q 127.3 72.8, 126.8 72.8 M 126.8 77.2 Q 127.3 77.2, 127.6 77.0 Q 127.9 76.7, 127.9 76.2 Q 127.9 76.0, 127.8 75.8 Q 127.6 75.6, 127.4 75.5 Q 127.1 75.4, 126.7 75.2 L 126.4 75.1 Q 126.0 75.4, 125.8 75.6 Q 125.7 75.9, 125.7 76.2 Q 125.7 76.7, 126.0 77.0 Q 126.3 77.2, 126.8 77.2 \" fill=\"#000000\"/>\n",
       "<path class=\"note\" d=\"M 179.9 72.8 Q 180.9 72.8, 181.4 73.4 Q 181.9 74.1, 181.9 75.4 Q 181.9 76.8, 181.3 77.6 Q 180.7 78.3, 179.5 78.3 Q 179.2 78.3, 178.9 78.2 Q 178.6 78.2, 178.3 78.0 L 178.6 77.5 Q 179.0 77.7, 179.5 77.7 Q 180.3 77.7, 180.7 77.2 Q 181.1 76.7, 181.1 75.7 Q 180.8 75.9, 180.5 76.1 Q 180.1 76.2, 179.8 76.2 Q 179.3 76.2, 178.9 76.0 Q 178.5 75.8, 178.3 75.4 Q 178.1 75.1, 178.1 74.6 Q 178.1 74.0, 178.3 73.6 Q 178.6 73.2, 179.0 73.0 Q 179.4 72.8, 179.9 72.8 M 178.9 74.6 Q 178.9 75.1, 179.1 75.3 Q 179.4 75.6, 179.9 75.6 Q 180.2 75.6, 180.5 75.5 Q 180.9 75.3, 181.1 75.1 Q 181.1 74.2, 180.8 73.8 Q 180.5 73.4, 179.9 73.4 Q 179.6 73.4, 179.4 73.6 Q 179.2 73.7, 179.0 74.0 Q 178.9 74.2, 178.9 74.6 \" fill=\"#000000\"/>\n",
       "<path class=\"note\" d=\"M 174.6 110.1 L 175.7 110.1 L 175.7 106.0 L 174.4 106.4 L 174.3 106.0 L 175.9 105.2 L 176.5 105.3 L 176.5 110.1 L 177.5 110.1 L 177.5 110.7 L 174.6 110.7 L 174.6 110.1 \" fill=\"#000000\"/>\n",
       "<path class=\"note\" d=\"M 180.0 110.7 Q 179.0 110.7, 178.5 110.0 Q 178.0 109.3, 178.0 108.0 Q 178.0 106.7, 178.5 105.9 Q 179.0 105.2, 180.0 105.2 Q 181.0 105.2, 181.5 105.9 Q 181.9 106.7, 181.9 108.0 Q 181.9 109.3, 181.5 110.0 Q 181.0 110.7, 180.0 110.7 M 180.0 110.1 Q 180.6 110.1, 180.9 109.6 Q 181.2 109.0, 181.2 108.0 Q 181.2 106.9, 180.9 106.4 Q 180.6 105.8, 180.0 105.8 Q 179.4 105.8, 179.1 106.4 Q 178.8 106.9, 178.8 108.0 Q 178.8 109.0, 179.1 109.6 Q 179.4 110.1, 180.0 110.1 \" fill=\"#000000\"/>\n",
       "<path class=\"note\" d=\"M 157.4 144.3 L 158.6 144.3 L 158.6 140.3 L 157.3 140.7 L 157.1 140.2 L 158.7 139.5 L 159.3 139.6 L 159.3 144.3 L 160.3 144.3 L 160.3 144.9 L 157.4 144.9 L 157.4 144.3 \" fill=\"#000000\"/>\n",
       "<path class=\"note\" d=\"M 161.1 144.3 L 162.2 144.3 L 162.2 140.3 L 160.9 140.7 L 160.8 140.2 L 162.4 139.5 L 163.0 139.6 L 163.0 144.3 L 164.0 144.3 L 164.0 144.9 L 161.1 144.9 L 161.1 144.3 \" fill=\"#000000\"/>\n",
       "<path class=\"note\" d=\"M 164.3 185.5 L 165.5 185.5 L 165.5 181.5 L 164.2 181.9 L 164.0 181.4 L 165.7 180.7 L 166.2 180.8 L 166.2 185.5 L 167.3 185.5 L 167.3 186.1 L 164.3 186.1 L 164.3 185.5 \" fill=\"#000000\"/>\n",
       "<path class=\"note\" d=\"M 167.7 181.7 Q 167.9 181.2, 168.3 181.0 Q 168.8 180.7, 169.5 180.7 Q 170.3 180.7, 170.7 181.1 Q 171.2 181.5, 171.2 182.3 Q 171.2 183.1, 170.6 183.9 Q 170.0 184.6, 168.8 185.5 L 171.3 185.5 L 171.3 186.1 L 167.6 186.1 L 167.6 185.6 Q 168.6 184.9, 169.2 184.4 Q 169.8 183.8, 170.1 183.4 Q 170.4 182.9, 170.4 182.4 Q 170.4 181.9, 170.2 181.6 Q 169.9 181.3, 169.5 181.3 Q 169.0 181.3, 168.7 181.5 Q 168.4 181.6, 168.2 182.0 L 167.7 181.7 \" fill=\"#000000\"/>\n",
       "<path class=\"note\" d=\"M 212.2 190.6 L 213.3 190.6 L 213.3 186.6 L 212.0 187.0 L 211.9 186.5 L 213.5 185.8 L 214.1 185.9 L 214.1 190.6 L 215.1 190.6 L 215.1 191.2 L 212.2 191.2 L 212.2 190.6 \" fill=\"#000000\"/>\n",
       "<path class=\"note\" d=\"M 218.0 188.4 Q 218.6 188.5, 218.8 188.9 Q 219.1 189.2, 219.1 189.7 Q 219.1 190.2, 218.9 190.5 Q 218.6 190.9, 218.2 191.1 Q 217.8 191.3, 217.2 191.3 Q 216.7 191.3, 216.2 191.1 Q 215.8 190.9, 215.4 190.5 L 215.9 190.0 Q 216.2 190.4, 216.5 190.5 Q 216.8 190.7, 217.2 190.7 Q 217.7 190.7, 218.0 190.4 Q 218.3 190.1, 218.3 189.7 Q 218.3 189.2, 218.0 188.9 Q 217.7 188.7, 217.0 188.7 L 216.6 188.7 L 216.6 188.1 L 217.0 188.1 Q 217.6 188.1, 217.9 187.9 Q 218.2 187.6, 218.2 187.1 Q 218.2 186.8, 217.9 186.6 Q 217.7 186.3, 217.2 186.3 Q 216.8 186.3, 216.5 186.5 Q 216.2 186.7, 216.0 187.1 L 215.5 186.8 Q 215.7 186.3, 216.1 186.0 Q 216.6 185.7, 217.2 185.7 Q 218.0 185.7, 218.5 186.1 Q 219.0 186.5, 219.0 187.1 Q 219.0 187.6, 218.7 187.9 Q 218.5 188.2, 218.0 188.4 \" fill=\"#000000\"/>\n",
       "<path class=\"note\" d=\"M 230.1 153.9 L 231.2 153.9 L 231.2 149.9 L 229.9 150.3 L 229.8 149.8 L 231.4 149.1 L 232.0 149.2 L 232.0 153.9 L 233.0 153.9 L 233.0 154.5 L 230.1 154.5 L 230.1 153.9 \" fill=\"#000000\"/>\n",
       "<path class=\"note\" d=\"M 236.8 152.7 L 237.4 152.7 L 237.4 153.3 L 236.8 153.3 L 236.8 154.5 L 236.0 154.5 L 236.0 153.3 L 233.2 153.3 L 233.2 152.8 L 235.6 149.1 L 236.8 149.1 L 236.8 152.7 M 234.1 152.7 L 236.0 152.7 L 236.0 149.6 L 234.1 152.7 \" fill=\"#000000\"/>\n",
       "<path class=\"note\" d=\"M 281.4 133.0 L 282.6 133.0 L 282.6 128.9 L 281.3 129.3 L 281.1 128.9 L 282.8 128.1 L 283.3 128.2 L 283.3 133.0 L 284.4 133.0 L 284.4 133.6 L 281.4 133.6 L 281.4 133.0 \" fill=\"#000000\"/>\n",
       "<path class=\"note\" d=\"M 286.7 130.2 Q 287.1 130.2, 287.5 130.4 Q 287.9 130.6, 288.1 131.0 Q 288.4 131.3, 288.4 131.9 Q 288.4 132.4, 288.1 132.8 Q 287.8 133.2, 287.4 133.4 Q 286.9 133.6, 286.4 133.6 Q 285.9 133.6, 285.5 133.4 Q 285.0 133.3, 284.7 132.9 L 285.2 132.4 Q 285.4 132.7, 285.8 132.9 Q 286.1 133.0, 286.5 133.0 Q 286.9 133.0, 287.3 132.7 Q 287.6 132.4, 287.6 131.9 Q 287.6 131.3, 287.3 131.0 Q 286.9 130.8, 286.4 130.8 Q 285.9 130.8, 285.4 131.0 L 285.0 130.8 L 285.3 128.2 L 288.0 128.2 L 288.0 128.8 L 285.9 128.8 L 285.7 130.4 Q 286.2 130.2, 286.7 130.2 \" fill=\"#000000\"/>\n",
       "<path class=\"note\" d=\"M 266.9 196.9 L 268.1 196.9 L 268.1 192.9 L 266.8 193.3 L 266.6 192.8 L 268.3 192.1 L 268.8 192.2 L 268.8 196.9 L 269.9 196.9 L 269.9 197.5 L 266.9 197.5 L 266.9 196.9 \" fill=\"#000000\"/>\n",
       "<path class=\"note\" d=\"M 272.5 194.1 Q 273.0 194.1, 273.4 194.3 Q 273.7 194.6, 274.0 194.9 Q 274.2 195.3, 274.2 195.8 Q 274.2 196.3, 273.9 196.7 Q 273.7 197.1, 273.3 197.4 Q 272.9 197.6, 272.3 197.6 Q 271.4 197.6, 270.9 196.9 Q 270.4 196.3, 270.4 195.0 Q 270.4 193.5, 271.0 192.8 Q 271.6 192.0, 272.8 192.0 Q 273.1 192.0, 273.4 192.1 Q 273.7 192.2, 273.9 192.4 L 273.6 192.9 Q 273.3 192.7, 272.8 192.7 Q 272.0 192.7, 271.6 193.2 Q 271.2 193.6, 271.2 194.7 Q 271.5 194.4, 271.8 194.3 Q 272.1 194.1, 272.5 194.1 M 272.3 197.0 Q 272.6 197.0, 272.9 196.8 Q 273.1 196.7, 273.3 196.4 Q 273.4 196.1, 273.4 195.8 Q 273.4 195.3, 273.1 195.0 Q 272.9 194.8, 272.4 194.8 Q 272.1 194.8, 271.7 194.9 Q 271.4 195.0, 271.2 195.3 Q 271.2 196.1, 271.5 196.6 Q 271.8 197.0, 272.3 197.0 \" fill=\"#000000\"/>\n",
       "<path class=\"note\" d=\"M 229.2 115.2 L 230.4 115.2 L 230.4 111.2 L 229.1 111.6 L 228.9 111.1 L 230.5 110.4 L 231.1 110.5 L 231.1 115.2 L 232.1 115.2 L 232.1 115.8 L 229.2 115.8 L 229.2 115.2 \" fill=\"#000000\"/>\n",
       "<path class=\"note\" d=\"M 235.1 111.0 L 232.3 111.0 L 232.3 110.4 L 235.9 110.4 L 235.9 111.0 L 233.7 115.8 L 233.0 115.8 L 235.1 111.0 \" fill=\"#000000\"/>\n",
       "<path class=\"note\" d=\"M 189.8 31.9 L 191.0 31.9 L 191.0 27.9 L 189.7 28.3 L 189.5 27.8 L 191.1 27.1 L 191.7 27.2 L 191.7 31.9 L 192.8 31.9 L 192.8 32.5 L 189.8 32.5 L 189.8 31.9 \" fill=\"#000000\"/>\n",
       "<path class=\"note\" d=\"M 196.0 29.6 Q 196.5 29.9, 196.8 30.2 Q 197.0 30.5, 197.0 31.0 Q 197.0 31.5, 196.8 31.8 Q 196.6 32.2, 196.1 32.4 Q 195.7 32.6, 195.2 32.6 Q 194.3 32.6, 193.7 32.2 Q 193.2 31.8, 193.2 31.0 Q 193.2 30.6, 193.5 30.3 Q 193.7 29.9, 194.2 29.7 Q 193.8 29.5, 193.6 29.2 Q 193.4 28.9, 193.4 28.4 Q 193.4 27.8, 193.9 27.4 Q 194.4 27.0, 195.1 27.0 Q 195.9 27.0, 196.4 27.4 Q 196.9 27.8, 196.9 28.4 Q 196.9 28.8, 196.6 29.1 Q 196.4 29.4, 196.0 29.6 M 195.1 27.6 Q 194.7 27.6, 194.4 27.8 Q 194.2 28.0, 194.2 28.4 Q 194.2 28.7, 194.4 28.9 Q 194.5 29.1, 194.8 29.2 Q 195.0 29.3, 195.5 29.5 Q 195.8 29.2, 195.9 29.0 Q 196.1 28.7, 196.1 28.4 Q 196.1 28.0, 195.8 27.8 Q 195.6 27.6, 195.1 27.6 M 195.2 32.0 Q 195.7 32.0, 196.0 31.8 Q 196.3 31.5, 196.3 31.0 Q 196.3 30.7, 196.1 30.6 Q 196.0 30.4, 195.7 30.3 Q 195.5 30.2, 195.1 30.0 L 194.7 29.9 Q 194.3 30.1, 194.2 30.4 Q 194.0 30.7, 194.0 31.0 Q 194.0 31.5, 194.3 31.8 Q 194.6 32.0, 195.2 32.0 \" fill=\"#000000\"/>\n",
       "<path class=\"note\" d=\"M 110.3 155.2 L 111.5 155.2 L 111.5 151.1 L 110.1 151.5 L 110.0 151.1 L 111.6 150.3 L 112.2 150.4 L 112.2 155.2 L 113.2 155.2 L 113.2 155.8 L 110.3 155.8 L 110.3 155.2 \" fill=\"#000000\"/>\n",
       "<path class=\"note\" d=\"M 115.5 150.3 Q 116.4 150.3, 116.9 151.0 Q 117.4 151.6, 117.4 152.9 Q 117.4 154.3, 116.8 155.1 Q 116.2 155.8, 115.1 155.8 Q 114.7 155.8, 114.4 155.8 Q 114.1 155.7, 113.9 155.5 L 114.2 155.0 Q 114.6 155.2, 115.0 155.2 Q 115.8 155.2, 116.2 154.7 Q 116.6 154.2, 116.6 153.2 Q 116.4 153.5, 116.0 153.6 Q 115.7 153.7, 115.3 153.7 Q 114.8 153.7, 114.4 153.5 Q 114.1 153.3, 113.9 153.0 Q 113.7 152.6, 113.7 152.1 Q 113.7 151.6, 113.9 151.2 Q 114.1 150.8, 114.5 150.5 Q 114.9 150.3, 115.5 150.3 M 114.4 152.1 Q 114.4 152.6, 114.7 152.9 Q 115.0 153.1, 115.4 153.1 Q 115.8 153.1, 116.1 153.0 Q 116.4 152.9, 116.6 152.6 Q 116.6 151.7, 116.3 151.3 Q 116.0 150.9, 115.5 150.9 Q 115.2 150.9, 114.9 151.1 Q 114.7 151.2, 114.6 151.5 Q 114.4 151.8, 114.4 152.1 \" fill=\"#000000\"/>\n",
       "<path class=\"note\" d=\"M 72.0 158.9 Q 72.2 158.4, 72.7 158.1 Q 73.1 157.8, 73.8 157.8 Q 74.6 157.8, 75.1 158.3 Q 75.5 158.7, 75.5 159.5 Q 75.5 160.3, 74.9 161.1 Q 74.4 161.8, 73.1 162.7 L 75.6 162.7 L 75.6 163.3 L 72.0 163.3 L 72.0 162.8 Q 73.0 162.1, 73.6 161.5 Q 74.2 161.0, 74.5 160.5 Q 74.8 160.0, 74.8 159.5 Q 74.8 159.0, 74.5 158.7 Q 74.3 158.4, 73.8 158.4 Q 73.4 158.4, 73.1 158.6 Q 72.8 158.8, 72.6 159.2 L 72.0 158.9 \" fill=\"#000000\"/>\n",
       "<path class=\"note\" d=\"M 78.1 163.4 Q 77.1 163.4, 76.6 162.6 Q 76.1 161.9, 76.1 160.6 Q 76.1 159.3, 76.6 158.6 Q 77.1 157.8, 78.1 157.8 Q 79.1 157.8, 79.6 158.6 Q 80.1 159.3, 80.1 160.6 Q 80.1 161.9, 79.6 162.6 Q 79.1 163.4, 78.1 163.4 M 78.1 162.8 Q 78.7 162.8, 79.0 162.2 Q 79.3 161.7, 79.3 160.6 Q 79.3 159.5, 79.0 159.0 Q 78.7 158.4, 78.1 158.4 Q 77.5 158.4, 77.2 159.0 Q 76.9 159.5, 76.9 160.6 Q 76.9 161.7, 77.2 162.2 Q 77.5 162.8, 78.1 162.8 \" fill=\"#000000\"/>\n",
       "<path class=\"note\" d=\"M 58.1 201.2 Q 58.3 200.7, 58.8 200.4 Q 59.3 200.1, 59.9 200.1 Q 60.7 200.1, 61.2 200.5 Q 61.7 201.0, 61.7 201.8 Q 61.7 202.6, 61.1 203.3 Q 60.5 204.1, 59.3 205.0 L 61.8 205.0 L 61.8 205.6 L 58.1 205.6 L 58.1 205.1 Q 59.1 204.3, 59.7 203.8 Q 60.3 203.3, 60.6 202.8 Q 60.9 202.3, 60.9 201.8 Q 60.9 201.3, 60.6 201.0 Q 60.4 200.7, 59.9 200.7 Q 59.5 200.7, 59.2 200.9 Q 58.9 201.1, 58.7 201.4 L 58.1 201.2 \" fill=\"#000000\"/>\n",
       "<path class=\"note\" d=\"M 62.5 205.0 L 63.6 205.0 L 63.6 200.9 L 62.3 201.3 L 62.2 200.9 L 63.8 200.1 L 64.4 200.2 L 64.4 205.0 L 65.4 205.0 L 65.4 205.6 L 62.5 205.6 L 62.5 205.0 \" fill=\"#000000\"/>\n",
       "<path class=\"note\" d=\"M 83.2 229.9 Q 83.4 229.4, 83.9 229.1 Q 84.3 228.8, 85.0 228.8 Q 85.8 228.8, 86.3 229.2 Q 86.7 229.7, 86.7 230.5 Q 86.7 231.3, 86.1 232.0 Q 85.6 232.8, 84.3 233.6 L 86.8 233.6 L 86.8 234.3 L 83.2 234.3 L 83.2 233.7 Q 84.2 233.0, 84.8 232.5 Q 85.4 232.0, 85.7 231.5 Q 86.0 231.0, 86.0 230.5 Q 86.0 230.0, 85.7 229.7 Q 85.5 229.4, 85.0 229.4 Q 84.6 229.4, 84.3 229.6 Q 84.0 229.7, 83.8 230.1 L 83.2 229.9 \" fill=\"#000000\"/>\n",
       "<path class=\"note\" d=\"M 87.2 229.9 Q 87.4 229.4, 87.9 229.1 Q 88.4 228.8, 89.0 228.8 Q 89.9 228.8, 90.3 229.2 Q 90.8 229.7, 90.8 230.5 Q 90.8 231.3, 90.2 232.0 Q 89.6 232.8, 88.4 233.6 L 90.9 233.6 L 90.9 234.3 L 87.2 234.3 L 87.2 233.7 Q 88.2 233.0, 88.8 232.5 Q 89.4 232.0, 89.7 231.5 Q 90.0 231.0, 90.0 230.5 Q 90.0 230.0, 89.7 229.7 Q 89.5 229.4, 89.0 229.4 Q 88.6 229.4, 88.3 229.6 Q 88.0 229.7, 87.8 230.1 L 87.2 229.9 \" fill=\"#000000\"/>\n",
       "<path class=\"note\" d=\"M 85.7 274.4 Q 85.9 273.9, 86.4 273.6 Q 86.8 273.3, 87.5 273.3 Q 88.3 273.3, 88.8 273.8 Q 89.2 274.2, 89.2 275.0 Q 89.2 275.8, 88.6 276.5 Q 88.0 277.3, 86.8 278.2 L 89.3 278.2 L 89.3 278.8 L 85.7 278.8 L 85.7 278.3 Q 86.7 277.6, 87.3 277.0 Q 87.9 276.5, 88.2 276.0 Q 88.5 275.5, 88.5 275.0 Q 88.5 274.5, 88.2 274.2 Q 87.9 273.9, 87.5 273.9 Q 87.1 273.9, 86.8 274.1 Q 86.5 274.3, 86.3 274.7 L 85.7 274.4 \" fill=\"#000000\"/>\n",
       "<path class=\"note\" d=\"M 92.2 275.9 Q 92.8 276.1, 93.0 276.4 Q 93.3 276.8, 93.3 277.3 Q 93.3 277.8, 93.0 278.1 Q 92.8 278.5, 92.4 278.7 Q 92.0 278.9, 91.4 278.9 Q 90.8 278.9, 90.4 278.7 Q 90.0 278.5, 89.6 278.0 L 90.1 277.6 Q 90.4 278.0, 90.7 278.1 Q 91.0 278.3, 91.4 278.3 Q 91.9 278.3, 92.2 278.0 Q 92.5 277.7, 92.5 277.3 Q 92.5 276.7, 92.2 276.5 Q 91.9 276.2, 91.2 276.2 L 90.8 276.2 L 90.8 275.7 L 91.2 275.7 Q 91.8 275.7, 92.1 275.4 Q 92.4 275.2, 92.4 274.7 Q 92.4 274.3, 92.1 274.1 Q 91.9 273.9, 91.4 273.9 Q 91.0 273.9, 90.7 274.1 Q 90.4 274.2, 90.2 274.7 L 89.7 274.4 Q 89.9 273.9, 90.3 273.6 Q 90.8 273.3, 91.4 273.3 Q 92.2 273.3, 92.7 273.7 Q 93.2 274.1, 93.2 274.7 Q 93.2 275.1, 92.9 275.4 Q 92.7 275.8, 92.2 275.9 \" fill=\"#000000\"/>\n",
       "<path class=\"note\" d=\"M 40.8 278.6 Q 41.0 278.1, 41.5 277.8 Q 42.0 277.5, 42.6 277.5 Q 43.4 277.5, 43.9 278.0 Q 44.4 278.4, 44.4 279.2 Q 44.4 280.0, 43.8 280.8 Q 43.2 281.5, 42.0 282.4 L 44.5 282.4 L 44.5 283.0 L 40.8 283.0 L 40.8 282.5 Q 41.8 281.8, 42.4 281.2 Q 43.0 280.7, 43.3 280.2 Q 43.6 279.7, 43.6 279.2 Q 43.6 278.7, 43.3 278.4 Q 43.1 278.1, 42.6 278.1 Q 42.2 278.1, 41.9 278.3 Q 41.6 278.5, 41.4 278.9 L 40.8 278.6 \" fill=\"#000000\"/>\n",
       "<path class=\"note\" d=\"M 48.2 281.1 L 48.9 281.1 L 48.9 281.8 L 48.2 281.8 L 48.2 283.0 L 47.5 283.0 L 47.5 281.8 L 44.7 281.8 L 44.7 281.3 L 47.1 277.6 L 48.2 277.6 L 48.2 281.1 M 45.6 281.1 L 47.5 281.1 L 47.5 278.1 L 45.6 281.1 \" fill=\"#000000\"/>\n",
       "<path class=\"note\" d=\"M 131.1 225.9 Q 131.3 225.4, 131.8 225.1 Q 132.3 224.8, 132.9 224.8 Q 133.8 224.8, 134.2 225.2 Q 134.7 225.7, 134.7 226.5 Q 134.7 227.3, 134.1 228.0 Q 133.5 228.8, 132.3 229.6 L 134.8 229.6 L 134.8 230.3 L 131.1 230.3 L 131.1 229.7 Q 132.1 229.0, 132.7 228.5 Q 133.3 228.0, 133.6 227.5 Q 133.9 227.0, 133.9 226.5 Q 133.9 226.0, 133.7 225.7 Q 133.4 225.4, 132.9 225.4 Q 132.5 225.4, 132.2 225.6 Q 131.9 225.7, 131.7 226.1 L 131.1 225.9 \" fill=\"#000000\"/>\n",
       "<path class=\"note\" d=\"M 137.1 226.9 Q 137.6 226.9, 138.0 227.1 Q 138.3 227.3, 138.6 227.7 Q 138.8 228.0, 138.8 228.5 Q 138.8 229.1, 138.5 229.5 Q 138.2 229.9, 137.8 230.1 Q 137.4 230.3, 136.9 230.3 Q 136.4 230.3, 135.9 230.1 Q 135.4 230.0, 135.1 229.6 L 135.6 229.1 Q 135.8 229.4, 136.2 229.6 Q 136.5 229.7, 136.9 229.7 Q 137.4 229.7, 137.7 229.4 Q 138.0 229.1, 138.0 228.6 Q 138.0 228.0, 137.7 227.7 Q 137.4 227.4, 136.8 227.4 Q 136.4 227.4, 135.8 227.6 L 135.4 227.5 L 135.7 224.8 L 138.5 224.8 L 138.4 225.5 L 136.3 225.5 L 136.1 227.1 Q 136.6 226.9, 137.1 226.9 \" fill=\"#000000\"/>\n",
       "<path class=\"note\" d=\"M 151.5 182.4 Q 151.7 181.8, 152.2 181.6 Q 152.7 181.3, 153.3 181.3 Q 154.1 181.3, 154.6 181.7 Q 155.1 182.2, 155.1 182.9 Q 155.1 183.7, 154.5 184.5 Q 153.9 185.2, 152.6 186.1 L 155.1 186.1 L 155.1 186.7 L 151.5 186.7 L 151.5 186.2 Q 152.5 185.5, 153.1 185.0 Q 153.7 184.4, 154.0 184.0 Q 154.3 183.5, 154.3 183.0 Q 154.3 182.5, 154.0 182.2 Q 153.8 181.9, 153.3 181.9 Q 152.9 181.9, 152.6 182.1 Q 152.3 182.2, 152.1 182.6 L 151.5 182.4 \" fill=\"#000000\"/>\n",
       "<path class=\"note\" d=\"M 157.8 183.4 Q 158.3 183.4, 158.6 183.6 Q 159.0 183.8, 159.2 184.2 Q 159.4 184.5, 159.4 185.0 Q 159.4 185.5, 159.2 185.9 Q 159.0 186.3, 158.5 186.6 Q 158.1 186.8, 157.6 186.8 Q 156.6 186.8, 156.1 186.2 Q 155.7 185.5, 155.7 184.2 Q 155.7 182.8, 156.3 182.0 Q 156.9 181.3, 158.0 181.3 Q 158.4 181.3, 158.6 181.3 Q 158.9 181.4, 159.2 181.6 L 158.9 182.1 Q 158.5 181.9, 158.0 181.9 Q 157.3 181.9, 156.9 182.4 Q 156.5 182.9, 156.4 183.9 Q 156.7 183.6, 157.1 183.5 Q 157.4 183.4, 157.8 183.4 M 157.6 186.2 Q 157.9 186.2, 158.1 186.0 Q 158.4 185.9, 158.5 185.6 Q 158.7 185.3, 158.7 185.0 Q 158.7 184.5, 158.4 184.3 Q 158.1 184.0, 157.6 184.0 Q 157.3 184.0, 157.0 184.1 Q 156.7 184.2, 156.4 184.5 Q 156.5 185.4, 156.8 185.8 Q 157.0 186.2, 157.6 186.2 \" fill=\"#000000\"/>\n",
       "<path class=\"note\" d=\"M 32.7 55.2 Q 31.8 55.2, 31.3 54.5 Q 30.8 53.8, 30.8 52.4 Q 30.8 51.1, 31.3 50.4 Q 31.7 49.7, 32.7 49.7 Q 33.7 49.7, 34.2 50.4 Q 34.7 51.1, 34.7 52.4 Q 34.7 53.8, 34.2 54.5 Q 33.7 55.2, 32.7 55.2 M 32.7 54.6 Q 33.3 54.6, 33.7 54.1 Q 34.0 53.5, 34.0 52.4 Q 34.0 51.4, 33.7 50.8 Q 33.3 50.3, 32.7 50.3 Q 32.2 50.3, 31.8 50.8 Q 31.5 51.4, 31.5 52.4 Q 31.5 53.5, 31.8 54.1 Q 32.2 54.6, 32.7 54.6 \" fill=\"#000000\"/>\n",
       "<path class=\"note\" d=\"M 64.7 67.2 L 65.9 67.2 L 65.9 63.2 L 64.6 63.6 L 64.4 63.1 L 66.1 62.4 L 66.6 62.5 L 66.6 67.2 L 67.7 67.2 L 67.7 67.8 L 64.7 67.8 L 64.7 67.2 \" fill=\"#000000\"/>\n",
       "<path class=\"note\" d=\"M 79.6 95.6 Q 79.8 95.1, 80.3 94.8 Q 80.8 94.5, 81.4 94.5 Q 82.3 94.5, 82.7 95.0 Q 83.2 95.4, 83.2 96.2 Q 83.2 97.0, 82.6 97.8 Q 82.0 98.5, 80.8 99.4 L 83.3 99.4 L 83.3 100.0 L 79.6 100.0 L 79.6 99.5 Q 80.6 98.8, 81.2 98.2 Q 81.8 97.7, 82.1 97.2 Q 82.4 96.7, 82.4 96.3 Q 82.4 95.7, 82.2 95.4 Q 81.9 95.2, 81.4 95.2 Q 81.0 95.2, 80.7 95.3 Q 80.4 95.5, 80.2 95.9 L 79.6 95.6 \" fill=\"#000000\"/>\n",
       "<path class=\"note\" d=\"M 87.9 132.4 Q 88.4 132.5, 88.7 132.9 Q 88.9 133.2, 88.9 133.7 Q 88.9 134.2, 88.7 134.5 Q 88.5 134.9, 88.1 135.1 Q 87.6 135.3, 87.1 135.3 Q 86.5 135.3, 86.1 135.1 Q 85.7 134.9, 85.3 134.5 L 85.7 134.0 Q 86.1 134.4, 86.4 134.5 Q 86.6 134.7, 87.1 134.7 Q 87.6 134.7, 87.9 134.4 Q 88.2 134.2, 88.2 133.7 Q 88.2 133.2, 87.9 132.9 Q 87.6 132.7, 86.9 132.7 L 86.5 132.7 L 86.5 132.1 L 86.9 132.1 Q 87.4 132.1, 87.8 131.9 Q 88.1 131.6, 88.1 131.1 Q 88.1 130.8, 87.8 130.6 Q 87.5 130.4, 87.1 130.4 Q 86.7 130.4, 86.4 130.5 Q 86.1 130.7, 85.9 131.1 L 85.4 130.8 Q 85.5 130.3, 86.0 130.0 Q 86.5 129.7, 87.1 129.7 Q 87.9 129.7, 88.4 130.1 Q 88.8 130.5, 88.8 131.1 Q 88.8 131.6, 88.6 131.9 Q 88.4 132.2, 87.9 132.4 \" fill=\"#000000\"/>\n",
       "<path class=\"note\" d=\"M 53.0 130.6 L 53.7 130.6 L 53.7 131.2 L 53.0 131.2 L 53.0 132.4 L 52.3 132.4 L 52.3 131.2 L 49.5 131.2 L 49.5 130.7 L 51.9 127.0 L 53.0 127.0 L 53.0 130.6 M 50.4 130.6 L 52.3 130.6 L 52.3 127.5 L 50.4 130.6 \" fill=\"#000000\"/>\n",
       "<path class=\"note\" d=\"M 18.4 116.3 Q 18.9 116.3, 19.3 116.6 Q 19.6 116.8, 19.9 117.1 Q 20.1 117.5, 20.1 118.0 Q 20.1 118.6, 19.8 119.0 Q 19.5 119.4, 19.1 119.6 Q 18.7 119.8, 18.2 119.8 Q 17.7 119.8, 17.2 119.6 Q 16.7 119.4, 16.4 119.1 L 16.9 118.6 Q 17.1 118.9, 17.5 119.0 Q 17.8 119.2, 18.2 119.2 Q 18.7 119.2, 19.0 118.9 Q 19.3 118.6, 19.3 118.0 Q 19.3 117.5, 19.0 117.2 Q 18.7 116.9, 18.1 116.9 Q 17.7 116.9, 17.1 117.1 L 16.7 116.9 L 17.0 114.3 L 19.8 114.3 L 19.7 114.9 L 17.6 114.9 L 17.4 116.5 Q 17.9 116.3, 18.4 116.3 \" fill=\"#000000\"/>\n",
       "<path class=\"note\" d=\"M 111.7 124.2 Q 112.1 124.2, 112.5 124.4 Q 112.9 124.7, 113.1 125.0 Q 113.3 125.4, 113.3 125.9 Q 113.3 126.4, 113.1 126.8 Q 112.8 127.2, 112.4 127.4 Q 112.0 127.7, 111.5 127.7 Q 110.5 127.7, 110.0 127.0 Q 109.6 126.4, 109.6 125.1 Q 109.6 123.6, 110.1 122.9 Q 110.8 122.1, 111.9 122.1 Q 112.2 122.1, 112.5 122.2 Q 112.8 122.3, 113.1 122.5 L 112.8 123.0 Q 112.4 122.8, 111.9 122.8 Q 111.1 122.8, 110.8 123.3 Q 110.4 123.7, 110.3 124.8 Q 110.6 124.5, 110.9 124.4 Q 111.3 124.2, 111.7 124.2 M 111.5 127.1 Q 111.8 127.1, 112.0 126.9 Q 112.3 126.7, 112.4 126.5 Q 112.5 126.2, 112.5 125.9 Q 112.5 125.4, 112.3 125.1 Q 112.0 124.8, 111.5 124.8 Q 111.2 124.8, 110.9 125.0 Q 110.6 125.1, 110.3 125.3 Q 110.4 126.2, 110.6 126.6 Q 110.9 127.1, 111.5 127.1 \" fill=\"#000000\"/>\n",
       "<path class=\"note\" d=\"M 138.8 101.0 L 136.0 101.0 L 136.0 100.4 L 139.6 100.4 L 139.6 100.9 L 137.4 105.8 L 136.6 105.8 L 138.8 101.0 \" fill=\"#000000\"/>\n",
       "<path class=\"note\" d=\"M 154.3 72.2 Q 154.8 72.5, 155.0 72.8 Q 155.3 73.1, 155.3 73.6 Q 155.3 74.1, 155.1 74.4 Q 154.8 74.8, 154.4 75.0 Q 154.0 75.2, 153.4 75.2 Q 152.5 75.2, 152.0 74.8 Q 151.5 74.4, 151.5 73.6 Q 151.5 73.2, 151.7 72.9 Q 152.0 72.5, 152.4 72.3 Q 152.1 72.1, 151.9 71.8 Q 151.7 71.5, 151.7 71.0 Q 151.7 70.4, 152.2 70.0 Q 152.6 69.6, 153.4 69.6 Q 154.2 69.6, 154.7 70.0 Q 155.1 70.4, 155.1 71.0 Q 155.1 71.4, 154.9 71.7 Q 154.7 72.0, 154.3 72.2 M 153.4 70.2 Q 153.0 70.2, 152.7 70.4 Q 152.5 70.6, 152.5 71.0 Q 152.5 71.3, 152.6 71.5 Q 152.8 71.7, 153.0 71.8 Q 153.3 71.9, 153.7 72.1 Q 154.1 71.8, 154.2 71.6 Q 154.4 71.3, 154.4 71.0 Q 154.4 70.6, 154.1 70.4 Q 153.9 70.2, 153.4 70.2 M 153.4 74.6 Q 153.9 74.6, 154.2 74.3 Q 154.6 74.1, 154.6 73.6 Q 154.6 73.3, 154.4 73.1 Q 154.2 73.0, 154.0 72.9 Q 153.8 72.7, 153.3 72.6 L 153.0 72.5 Q 152.6 72.7, 152.4 73.0 Q 152.3 73.3, 152.3 73.6 Q 152.3 74.1, 152.6 74.3 Q 152.9 74.6, 153.4 74.6 \" fill=\"#000000\"/>\n",
       "<path class=\"note\" d=\"M 176.3 93.8 Q 177.3 93.8, 177.7 94.4 Q 178.2 95.1, 178.2 96.4 Q 178.2 97.8, 177.6 98.6 Q 177.0 99.3, 175.9 99.3 Q 175.5 99.3, 175.3 99.2 Q 175.0 99.2, 174.7 99.0 L 175.0 98.5 Q 175.4 98.7, 175.9 98.7 Q 176.6 98.7, 177.0 98.2 Q 177.4 97.7, 177.5 96.7 Q 177.2 96.9, 176.8 97.1 Q 176.5 97.2, 176.1 97.2 Q 175.6 97.2, 175.3 97.0 Q 174.9 96.8, 174.7 96.4 Q 174.5 96.1, 174.5 95.6 Q 174.5 95.1, 174.7 94.6 Q 174.9 94.2, 175.4 94.0 Q 175.8 93.8, 176.3 93.8 M 175.2 95.6 Q 175.2 96.1, 175.5 96.3 Q 175.8 96.6, 176.3 96.6 Q 176.6 96.6, 176.9 96.5 Q 177.2 96.3, 177.5 96.1 Q 177.4 95.2, 177.1 94.8 Q 176.9 94.4, 176.3 94.4 Q 176.0 94.4, 175.8 94.6 Q 175.5 94.7, 175.4 95.0 Q 175.2 95.2, 175.2 95.6 \" fill=\"#000000\"/>\n",
       "<path class=\"note\" d=\"M 168.6 120.4 L 169.8 120.4 L 169.8 116.4 L 168.5 116.8 L 168.3 116.3 L 170.0 115.6 L 170.5 115.7 L 170.5 120.4 L 171.6 120.4 L 171.6 121.0 L 168.6 121.0 L 168.6 120.4 \" fill=\"#000000\"/>\n",
       "<path class=\"note\" d=\"M 174.1 121.1 Q 173.1 121.1, 172.6 120.4 Q 172.1 119.6, 172.1 118.3 Q 172.1 117.0, 172.6 116.3 Q 173.1 115.6, 174.1 115.6 Q 175.1 115.6, 175.5 116.3 Q 176.0 117.0, 176.0 118.3 Q 176.0 119.6, 175.5 120.4 Q 175.0 121.1, 174.1 121.1 M 174.1 120.5 Q 174.6 120.5, 175.0 119.9 Q 175.3 119.4, 175.3 118.3 Q 175.3 117.3, 175.0 116.7 Q 174.6 116.2, 174.1 116.2 Q 173.5 116.2, 173.2 116.7 Q 172.8 117.3, 172.8 118.3 Q 172.8 119.4, 173.2 119.9 Q 173.5 120.5, 174.1 120.5 \" fill=\"#000000\"/>\n",
       "<path class=\"note\" d=\"M 160.1 160.2 L 161.3 160.2 L 161.3 156.1 L 160.0 156.5 L 159.8 156.1 L 161.5 155.3 L 162.0 155.4 L 162.0 160.2 L 163.1 160.2 L 163.1 160.8 L 160.1 160.8 L 160.1 160.2 \" fill=\"#000000\"/>\n",
       "<path class=\"note\" d=\"M 163.8 160.2 L 165.0 160.2 L 165.0 156.1 L 163.7 156.5 L 163.5 156.1 L 165.1 155.3 L 165.7 155.4 L 165.7 160.2 L 166.7 160.2 L 166.7 160.8 L 163.8 160.8 L 163.8 160.2 \" fill=\"#000000\"/>\n",
       "<path class=\"note\" d=\"M 189.9 187.8 L 191.1 187.8 L 191.1 183.8 L 189.8 184.2 L 189.6 183.7 L 191.3 183.0 L 191.8 183.1 L 191.8 187.8 L 192.9 187.8 L 192.9 188.4 L 189.9 188.4 L 189.9 187.8 \" fill=\"#000000\"/>\n",
       "<path class=\"note\" d=\"M 193.3 184.0 Q 193.5 183.5, 193.9 183.2 Q 194.4 182.9, 195.1 182.9 Q 195.9 182.9, 196.3 183.4 Q 196.8 183.8, 196.8 184.6 Q 196.8 185.4, 196.2 186.2 Q 195.6 186.9, 194.4 187.8 L 196.9 187.8 L 196.9 188.4 L 193.2 188.4 L 193.2 187.9 Q 194.3 187.2, 194.9 186.6 Q 195.5 186.1, 195.7 185.6 Q 196.0 185.1, 196.0 184.6 Q 196.0 184.1, 195.8 183.8 Q 195.5 183.5, 195.1 183.5 Q 194.6 183.5, 194.3 183.7 Q 194.0 183.9, 193.8 184.3 L 193.3 184.0 \" fill=\"#000000\"/>\n",
       "<path class=\"note\" d=\"M 228.8 175.6 L 230.0 175.6 L 230.0 171.6 L 228.7 172.0 L 228.5 171.5 L 230.2 170.8 L 230.7 170.9 L 230.7 175.6 L 231.8 175.6 L 231.8 176.2 L 228.8 176.2 L 228.8 175.6 \" fill=\"#000000\"/>\n",
       "<path class=\"note\" d=\"M 234.7 173.4 Q 235.2 173.5, 235.5 173.9 Q 235.8 174.2, 235.8 174.8 Q 235.8 175.2, 235.5 175.6 Q 235.3 175.9, 234.9 176.1 Q 234.5 176.3, 233.9 176.3 Q 233.3 176.3, 232.9 176.1 Q 232.5 175.9, 232.1 175.5 L 232.5 175.1 Q 232.9 175.4, 233.2 175.6 Q 233.5 175.7, 233.9 175.7 Q 234.4 175.7, 234.7 175.5 Q 235.0 175.2, 235.0 174.8 Q 235.0 174.2, 234.7 174.0 Q 234.4 173.7, 233.7 173.7 L 233.3 173.7 L 233.3 173.2 L 233.7 173.2 Q 234.2 173.2, 234.6 172.9 Q 234.9 172.6, 234.9 172.2 Q 234.9 171.8, 234.6 171.6 Q 234.4 171.4, 233.9 171.4 Q 233.5 171.4, 233.2 171.5 Q 232.9 171.7, 232.7 172.1 L 232.2 171.8 Q 232.4 171.4, 232.8 171.1 Q 233.3 170.8, 233.9 170.8 Q 234.7 170.8, 235.2 171.1 Q 235.6 171.5, 235.6 172.2 Q 235.6 172.6, 235.4 172.9 Q 235.2 173.2, 234.7 173.4 \" fill=\"#000000\"/>\n",
       "<path class=\"note\" d=\"M 256.4 154.4 L 257.6 154.4 L 257.6 150.3 L 256.3 150.8 L 256.1 150.3 L 257.8 149.6 L 258.3 149.6 L 258.3 154.4 L 259.4 154.4 L 259.4 155.0 L 256.4 155.0 L 256.4 154.4 \" fill=\"#000000\"/>\n",
       "<path class=\"note\" d=\"M 263.1 153.1 L 263.8 153.1 L 263.8 153.8 L 263.1 153.8 L 263.1 155.0 L 262.4 155.0 L 262.4 153.8 L 259.6 153.8 L 259.6 153.3 L 262.0 149.6 L 263.1 149.6 L 263.1 153.1 M 260.5 153.1 L 262.4 153.1 L 262.4 150.1 L 260.5 153.1 \" fill=\"#000000\"/>\n",
       "<path class=\"note\" d=\"M 241.6 176.2 L 242.8 176.2 L 242.8 172.2 L 241.5 172.6 L 241.3 172.1 L 243.0 171.4 L 243.5 171.5 L 243.5 176.2 L 244.6 176.2 L 244.6 176.8 L 241.6 176.8 L 241.6 176.2 \" fill=\"#000000\"/>\n",
       "<path class=\"note\" d=\"M 246.9 173.4 Q 247.4 173.4, 247.8 173.6 Q 248.2 173.8, 248.4 174.2 Q 248.6 174.6, 248.6 175.1 Q 248.6 175.7, 248.3 176.1 Q 248.1 176.5, 247.6 176.7 Q 247.2 176.9, 246.7 176.9 Q 246.2 176.9, 245.7 176.7 Q 245.3 176.5, 245.0 176.2 L 245.4 175.7 Q 245.7 176.0, 246.0 176.1 Q 246.4 176.3, 246.7 176.3 Q 247.2 176.3, 247.5 176.0 Q 247.9 175.7, 247.9 175.1 Q 247.9 174.6, 247.5 174.3 Q 247.2 174.0, 246.7 174.0 Q 246.2 174.0, 245.7 174.2 L 245.2 174.0 L 245.5 171.4 L 248.3 171.4 L 248.2 172.0 L 246.1 172.0 L 246.0 173.6 Q 246.5 173.4, 246.9 173.4 \" fill=\"#000000\"/>\n",
       "<path class=\"note\" d=\"M 237.6 135.9 L 238.8 135.9 L 238.8 131.8 L 237.5 132.2 L 237.3 131.8 L 238.9 131.0 L 239.5 131.1 L 239.5 135.9 L 240.6 135.9 L 240.6 136.5 L 237.6 136.5 L 237.6 135.9 \" fill=\"#000000\"/>\n",
       "<path class=\"note\" d=\"M 243.2 133.1 Q 243.7 133.1, 244.0 133.3 Q 244.4 133.5, 244.6 133.9 Q 244.8 134.3, 244.8 134.7 Q 244.8 135.3, 244.6 135.7 Q 244.4 136.1, 243.9 136.3 Q 243.5 136.5, 243.0 136.5 Q 242.0 136.5, 241.6 135.9 Q 241.1 135.2, 241.1 133.9 Q 241.1 132.5, 241.7 131.8 Q 242.3 131.0, 243.4 131.0 Q 243.8 131.0, 244.0 131.1 Q 244.3 131.2, 244.6 131.3 L 244.3 131.8 Q 243.9 131.6, 243.4 131.6 Q 242.7 131.6, 242.3 132.1 Q 241.9 132.6, 241.8 133.6 Q 242.1 133.4, 242.5 133.2 Q 242.8 133.1, 243.2 133.1 M 243.0 135.9 Q 243.3 135.9, 243.5 135.8 Q 243.8 135.6, 243.9 135.3 Q 244.1 135.1, 244.1 134.8 Q 244.1 134.3, 243.8 134.0 Q 243.5 133.7, 243.1 133.7 Q 242.7 133.7, 242.4 133.9 Q 242.1 134.0, 241.8 134.2 Q 241.9 135.1, 242.2 135.5 Q 242.4 135.9, 243.0 135.9 \" fill=\"#000000\"/>\n",
       "<path class=\"note\" d=\"M 183.7 64.0 L 184.9 64.0 L 184.9 60.0 L 183.6 60.4 L 183.4 59.9 L 185.1 59.2 L 185.6 59.3 L 185.6 64.0 L 186.7 64.0 L 186.7 64.6 L 183.7 64.6 L 183.7 64.0 \" fill=\"#000000\"/>\n",
       "<path class=\"note\" d=\"M 189.7 59.8 L 186.8 59.8 L 186.8 59.2 L 190.4 59.2 L 190.4 59.8 L 188.2 64.6 L 187.5 64.6 L 189.7 59.8 \" fill=\"#000000\"/>\n",
       "<path class=\"note\" d=\"M 113.3 139.4 L 114.5 139.4 L 114.5 135.4 L 113.2 135.8 L 113.0 135.3 L 114.6 134.6 L 115.2 134.7 L 115.2 139.4 L 116.2 139.4 L 116.2 140.0 L 113.3 140.0 L 113.3 139.4 \" fill=\"#000000\"/>\n",
       "<path class=\"note\" d=\"M 119.5 137.1 Q 120.0 137.4, 120.3 137.7 Q 120.5 138.0, 120.5 138.5 Q 120.5 139.0, 120.3 139.3 Q 120.1 139.7, 119.6 139.9 Q 119.2 140.1, 118.7 140.1 Q 117.8 140.1, 117.2 139.7 Q 116.7 139.2, 116.7 138.5 Q 116.7 138.1, 117.0 137.8 Q 117.2 137.4, 117.7 137.2 Q 117.3 137.0, 117.1 136.7 Q 116.9 136.4, 116.9 135.9 Q 116.9 135.3, 117.4 134.9 Q 117.8 134.5, 118.6 134.5 Q 119.4 134.5, 119.9 134.9 Q 120.3 135.3, 120.3 135.9 Q 120.3 136.3, 120.1 136.6 Q 119.9 136.9, 119.5 137.1 M 118.6 135.1 Q 118.2 135.1, 117.9 135.3 Q 117.7 135.5, 117.7 135.9 Q 117.7 136.2, 117.9 136.4 Q 118.0 136.6, 118.3 136.7 Q 118.5 136.8, 119.0 136.9 Q 119.3 136.7, 119.4 136.5 Q 119.6 136.2, 119.6 135.9 Q 119.6 135.5, 119.3 135.3 Q 119.1 135.1, 118.6 135.1 M 118.7 139.5 Q 119.2 139.5, 119.5 139.2 Q 119.8 139.0, 119.8 138.5 Q 119.8 138.2, 119.6 138.0 Q 119.5 137.9, 119.2 137.8 Q 119.0 137.6, 118.6 137.5 L 118.2 137.4 Q 117.8 137.6, 117.7 137.9 Q 117.5 138.2, 117.5 138.5 Q 117.5 139.0, 117.8 139.2 Q 118.1 139.5, 118.7 139.5 \" fill=\"#000000\"/>\n",
       "<path class=\"note\" d=\"M 94.2 156.2 L 95.4 156.2 L 95.4 152.2 L 94.1 152.6 L 93.9 152.1 L 95.6 151.4 L 96.1 151.5 L 96.1 156.2 L 97.2 156.2 L 97.2 156.8 L 94.2 156.8 L 94.2 156.2 \" fill=\"#000000\"/>\n",
       "<path class=\"note\" d=\"M 99.4 151.4 Q 100.4 151.4, 100.9 152.0 Q 101.4 152.7, 101.4 154.0 Q 101.4 155.4, 100.8 156.1 Q 100.2 156.9, 99.0 156.9 Q 98.7 156.9, 98.4 156.8 Q 98.1 156.7, 97.8 156.6 L 98.1 156.1 Q 98.5 156.3, 99.0 156.3 Q 99.8 156.3, 100.2 155.8 Q 100.6 155.3, 100.6 154.3 Q 100.3 154.5, 100.0 154.7 Q 99.6 154.8, 99.3 154.8 Q 98.8 154.8, 98.4 154.6 Q 98.0 154.4, 97.8 154.0 Q 97.6 153.6, 97.6 153.2 Q 97.6 152.6, 97.9 152.2 Q 98.1 151.8, 98.5 151.6 Q 98.9 151.4, 99.4 151.4 M 98.4 153.2 Q 98.4 153.6, 98.7 153.9 Q 98.9 154.2, 99.4 154.2 Q 99.7 154.2, 100.0 154.1 Q 100.4 153.9, 100.6 153.7 Q 100.6 152.8, 100.3 152.4 Q 100.0 152.0, 99.4 152.0 Q 99.1 152.0, 98.9 152.1 Q 98.7 152.3, 98.5 152.6 Q 98.4 152.8, 98.4 153.2 \" fill=\"#000000\"/>\n",
       "<path class=\"note\" d=\"M 62.9 179.4 Q 63.1 178.9, 63.5 178.6 Q 64.0 178.3, 64.7 178.3 Q 65.5 178.3, 65.9 178.7 Q 66.4 179.2, 66.4 180.0 Q 66.4 180.8, 65.8 181.5 Q 65.2 182.3, 64.0 183.1 L 66.5 183.1 L 66.5 183.8 L 62.8 183.8 L 62.8 183.2 Q 63.9 182.5, 64.4 182.0 Q 65.1 181.5, 65.3 181.0 Q 65.6 180.5, 65.6 180.0 Q 65.6 179.5, 65.4 179.2 Q 65.1 178.9, 64.7 178.9 Q 64.2 178.9, 63.9 179.1 Q 63.6 179.2, 63.4 179.6 L 62.9 179.4 \" fill=\"#000000\"/>\n",
       "<path class=\"note\" d=\"M 68.9 183.8 Q 67.9 183.8, 67.4 183.1 Q 67.0 182.3, 67.0 181.0 Q 67.0 179.7, 67.4 179.0 Q 67.9 178.3, 68.9 178.3 Q 69.9 178.3, 70.4 179.0 Q 70.9 179.7, 70.9 181.0 Q 70.9 182.3, 70.4 183.1 Q 69.9 183.8, 68.9 183.8 M 68.9 183.2 Q 69.5 183.2, 69.8 182.7 Q 70.2 182.1, 70.2 181.0 Q 70.2 180.0, 69.8 179.4 Q 69.5 178.9, 68.9 178.9 Q 68.4 178.9, 68.0 179.4 Q 67.7 180.0, 67.7 181.0 Q 67.7 182.1, 68.0 182.7 Q 68.4 183.2, 68.9 183.2 \" fill=\"#000000\"/>\n",
       "<path class=\"note\" d=\"M 71.3 219.3 Q 71.5 218.8, 71.9 218.5 Q 72.4 218.2, 73.1 218.2 Q 73.9 218.2, 74.3 218.7 Q 74.8 219.1, 74.8 219.9 Q 74.8 220.7, 74.2 221.5 Q 73.6 222.2, 72.4 223.1 L 74.9 223.1 L 74.9 223.7 L 71.2 223.7 L 71.2 223.2 Q 72.3 222.5, 72.8 221.9 Q 73.5 221.4, 73.7 220.9 Q 74.0 220.4, 74.0 219.9 Q 74.0 219.4, 73.8 219.1 Q 73.5 218.8, 73.1 218.8 Q 72.6 218.8, 72.3 219.0 Q 72.0 219.2, 71.8 219.6 L 71.3 219.3 \" fill=\"#000000\"/>\n",
       "<path class=\"note\" d=\"M 75.6 223.1 L 76.8 223.1 L 76.8 219.1 L 75.5 219.5 L 75.3 219.0 L 77.0 218.3 L 77.5 218.4 L 77.5 223.1 L 78.6 223.1 L 78.6 223.7 L 75.6 223.7 L 75.6 223.1 \" fill=\"#000000\"/>\n",
       "<path class=\"note\" d=\"M 76.1 244.3 Q 76.3 243.8, 76.8 243.5 Q 77.2 243.2, 77.9 243.2 Q 78.7 243.2, 79.2 243.6 Q 79.6 244.1, 79.6 244.9 Q 79.6 245.7, 79.0 246.4 Q 78.5 247.2, 77.2 248.1 L 79.7 248.1 L 79.7 248.7 L 76.1 248.7 L 76.1 248.2 Q 77.1 247.4, 77.7 246.9 Q 78.3 246.4, 78.6 245.9 Q 78.9 245.4, 78.9 244.9 Q 78.9 244.4, 78.6 244.1 Q 78.4 243.8, 77.9 243.8 Q 77.5 243.8, 77.2 244.0 Q 76.9 244.2, 76.7 244.5 L 76.1 244.3 \" fill=\"#000000\"/>\n",
       "<path class=\"note\" d=\"M 80.1 244.3 Q 80.3 243.8, 80.8 243.5 Q 81.3 243.2, 81.9 243.2 Q 82.7 243.2, 83.2 243.6 Q 83.7 244.1, 83.7 244.9 Q 83.7 245.7, 83.1 246.4 Q 82.5 247.2, 81.3 248.1 L 83.8 248.1 L 83.8 248.7 L 80.1 248.7 L 80.1 248.2 Q 81.1 247.4, 81.7 246.9 Q 82.3 246.4, 82.6 245.9 Q 82.9 245.4, 82.9 244.9 Q 82.9 244.4, 82.6 244.1 Q 82.4 243.8, 81.9 243.8 Q 81.5 243.8, 81.2 244.0 Q 80.9 244.2, 80.7 244.5 L 80.1 244.3 \" fill=\"#000000\"/>\n",
       "<path class=\"note\" d=\"M 57.0 261.1 Q 57.2 260.6, 57.7 260.3 Q 58.2 260.0, 58.8 260.0 Q 59.6 260.0, 60.1 260.5 Q 60.6 260.9, 60.6 261.7 Q 60.6 262.5, 60.0 263.2 Q 59.4 264.0, 58.2 264.9 L 60.7 264.9 L 60.7 265.5 L 57.0 265.5 L 57.0 265.0 Q 58.0 264.3, 58.6 263.7 Q 59.2 263.2, 59.5 262.7 Q 59.8 262.2, 59.8 261.7 Q 59.8 261.2, 59.5 260.9 Q 59.3 260.6, 58.8 260.6 Q 58.4 260.6, 58.1 260.8 Q 57.8 261.0, 57.6 261.4 L 57.0 261.1 \" fill=\"#000000\"/>\n",
       "<path class=\"note\" d=\"M 63.6 262.6 Q 64.1 262.8, 64.4 263.1 Q 64.6 263.5, 64.6 264.0 Q 64.6 264.5, 64.4 264.8 Q 64.2 265.2, 63.7 265.4 Q 63.3 265.6, 62.8 265.6 Q 62.2 265.6, 61.7 265.4 Q 61.3 265.2, 61.0 264.8 L 61.4 264.3 Q 61.7 264.7, 62.0 264.8 Q 62.3 265.0, 62.8 265.0 Q 63.3 265.0, 63.5 264.7 Q 63.8 264.4, 63.8 264.0 Q 63.8 263.5, 63.5 263.2 Q 63.2 263.0, 62.6 263.0 L 62.2 263.0 L 62.2 262.4 L 62.5 262.4 Q 63.1 262.4, 63.4 262.1 Q 63.7 261.9, 63.7 261.4 Q 63.7 261.1, 63.5 260.8 Q 63.2 260.6, 62.8 260.6 Q 62.3 260.6, 62.0 260.8 Q 61.8 261.0, 61.5 261.4 L 61.0 261.1 Q 61.2 260.6, 61.7 260.3 Q 62.1 260.0, 62.8 260.0 Q 63.6 260.0, 64.0 260.4 Q 64.5 260.8, 64.5 261.4 Q 64.5 261.8, 64.3 262.2 Q 64.0 262.5, 63.6 262.6 \" fill=\"#000000\"/>\n",
       "<path class=\"note\" d=\"M 109.5 232.3 Q 109.7 231.8, 110.2 231.6 Q 110.7 231.3, 111.3 231.3 Q 112.1 231.3, 112.6 231.7 Q 113.0 232.1, 113.0 232.9 Q 113.0 233.7, 112.5 234.5 Q 111.9 235.2, 110.6 236.1 L 113.1 236.1 L 113.1 236.7 L 109.5 236.7 L 109.5 236.2 Q 110.5 235.5, 111.1 235.0 Q 111.7 234.4, 112.0 234.0 Q 112.3 233.5, 112.3 233.0 Q 112.3 232.5, 112.0 232.2 Q 111.8 231.9, 111.3 231.9 Q 110.9 231.9, 110.6 232.0 Q 110.3 232.2, 110.1 232.6 L 109.5 232.3 \" fill=\"#000000\"/>\n",
       "<path class=\"note\" d=\"M 116.9 234.9 L 117.5 234.9 L 117.5 235.5 L 116.9 235.5 L 116.9 236.7 L 116.2 236.7 L 116.2 235.5 L 113.4 235.5 L 113.4 235.0 L 115.7 231.3 L 116.9 231.3 L 116.9 234.9 M 114.3 234.9 L 116.2 234.9 L 116.2 231.8 L 114.3 234.9 \" fill=\"#000000\"/>\n",
       "<path class=\"note\" d=\"M 140.3 205.4 Q 140.5 204.9, 141.0 204.6 Q 141.4 204.3, 142.1 204.3 Q 142.9 204.3, 143.4 204.8 Q 143.8 205.2, 143.8 206.0 Q 143.8 206.8, 143.2 207.6 Q 142.6 208.3, 141.4 209.2 L 143.9 209.2 L 143.9 209.8 L 140.3 209.8 L 140.3 209.3 Q 141.3 208.6, 141.9 208.0 Q 142.5 207.5, 142.8 207.0 Q 143.1 206.5, 143.1 206.0 Q 143.1 205.5, 142.8 205.2 Q 142.5 204.9, 142.1 204.9 Q 141.7 204.9, 141.4 205.1 Q 141.1 205.3, 140.9 205.7 L 140.3 205.4 \" fill=\"#000000\"/>\n",
       "<path class=\"note\" d=\"M 146.2 206.4 Q 146.7 206.4, 147.1 206.6 Q 147.5 206.8, 147.7 207.2 Q 147.9 207.6, 147.9 208.1 Q 147.9 208.7, 147.7 209.1 Q 147.4 209.5, 146.9 209.7 Q 146.5 209.9, 146.0 209.9 Q 145.5 209.9, 145.0 209.7 Q 144.6 209.5, 144.3 209.1 L 144.7 208.7 Q 145.0 209.0, 145.3 209.1 Q 145.7 209.2, 146.0 209.2 Q 146.5 209.2, 146.8 209.0 Q 147.2 208.7, 147.2 208.1 Q 147.2 207.5, 146.8 207.3 Q 146.5 207.0, 146.0 207.0 Q 145.5 207.0, 145.0 207.2 L 144.6 207.0 L 144.8 204.4 L 147.6 204.4 L 147.5 205.0 L 145.4 205.0 L 145.3 206.6 Q 145.8 206.4, 146.2 206.4 \" fill=\"#000000\"/>\n",
       "<path class=\"note\" d=\"M 32.7 86.0 Q 32.9 85.5, 33.3 85.2 Q 33.8 84.9, 34.5 84.9 Q 35.3 84.9, 35.7 85.3 Q 36.2 85.8, 36.2 86.6 Q 36.2 87.4, 35.6 88.1 Q 35.0 88.9, 33.8 89.8 L 36.3 89.8 L 36.3 90.4 L 32.6 90.4 L 32.6 89.8 Q 33.6 89.1, 34.2 88.6 Q 34.9 88.1, 35.1 87.6 Q 35.4 87.1, 35.4 86.6 Q 35.4 86.1, 35.2 85.8 Q 34.9 85.5, 34.5 85.5 Q 34.0 85.5, 33.7 85.7 Q 33.4 85.9, 33.2 86.2 L 32.7 86.0 \" fill=\"#000000\"/>\n",
       "<path class=\"note\" d=\"M 38.9 87.0 Q 39.4 87.0, 39.8 87.2 Q 40.1 87.4, 40.4 87.8 Q 40.6 88.1, 40.6 88.6 Q 40.6 89.1, 40.3 89.6 Q 40.1 90.0, 39.7 90.2 Q 39.3 90.4, 38.7 90.4 Q 37.8 90.4, 37.3 89.8 Q 36.8 89.1, 36.8 87.8 Q 36.8 86.4, 37.4 85.6 Q 38.0 84.9, 39.2 84.9 Q 39.5 84.9, 39.8 85.0 Q 40.1 85.0, 40.3 85.2 L 40.0 85.7 Q 39.7 85.5, 39.2 85.5 Q 38.4 85.5, 38.0 86.0 Q 37.6 86.5, 37.6 87.5 Q 37.9 87.3, 38.2 87.1 Q 38.6 87.0, 38.9 87.0 M 38.7 89.8 Q 39.0 89.8, 39.3 89.6 Q 39.5 89.5, 39.7 89.2 Q 39.8 89.0, 39.8 88.6 Q 39.8 88.1, 39.5 87.9 Q 39.3 87.6, 38.8 87.6 Q 38.5 87.6, 38.1 87.7 Q 37.8 87.9, 37.6 88.1 Q 37.6 89.0, 37.9 89.4 Q 38.2 89.8, 38.7 89.8 \" fill=\"#000000\"/>\n",
       "<path class=\"note\" d=\"M 146.8 121.0 Q 147.0 120.5, 147.5 120.2 Q 148.0 119.9, 148.6 119.9 Q 149.4 119.9, 149.9 120.3 Q 150.4 120.8, 150.4 121.6 Q 150.4 122.4, 149.8 123.1 Q 149.2 123.9, 147.9 124.7 L 150.4 124.7 L 150.4 125.4 L 146.8 125.4 L 146.8 124.8 Q 147.8 124.1, 148.4 123.6 Q 149.0 123.1, 149.3 122.6 Q 149.6 122.1, 149.6 121.6 Q 149.6 121.1, 149.3 120.8 Q 149.1 120.5, 148.6 120.5 Q 148.2 120.5, 147.9 120.7 Q 147.6 120.8, 147.4 121.2 L 146.8 121.0 \" fill=\"#000000\"/>\n",
       "<path class=\"note\" d=\"M 153.4 120.6 L 150.6 120.6 L 150.6 119.9 L 154.2 119.9 L 154.2 120.5 L 152.0 125.4 L 151.3 125.4 L 153.4 120.6 \" fill=\"#000000\"/>\n",
       "<path class=\"note\" d=\"M 132.1 165.5 Q 132.3 165.0, 132.8 164.7 Q 133.3 164.4, 133.9 164.4 Q 134.7 164.4, 135.2 164.8 Q 135.7 165.3, 135.7 166.1 Q 135.7 166.9, 135.1 167.6 Q 134.5 168.4, 133.3 169.2 L 135.8 169.2 L 135.8 169.9 L 132.1 169.9 L 132.1 169.3 Q 133.1 168.6, 133.7 168.1 Q 134.3 167.6, 134.6 167.1 Q 134.9 166.6, 134.9 166.1 Q 134.9 165.6, 134.6 165.3 Q 134.4 165.0, 133.9 165.0 Q 133.5 165.0, 133.2 165.2 Q 132.9 165.3, 132.7 165.7 L 132.1 165.5 \" fill=\"#000000\"/>\n",
       "<path class=\"note\" d=\"M 139.0 167.0 Q 139.5 167.2, 139.8 167.5 Q 140.0 167.8, 140.0 168.4 Q 140.0 168.8, 139.8 169.2 Q 139.6 169.5, 139.1 169.7 Q 138.7 169.9, 138.2 169.9 Q 137.3 169.9, 136.7 169.5 Q 136.2 169.1, 136.2 168.4 Q 136.2 167.9, 136.5 167.6 Q 136.7 167.3, 137.2 167.0 Q 136.8 166.8, 136.6 166.5 Q 136.4 166.2, 136.4 165.8 Q 136.4 165.1, 136.9 164.8 Q 137.4 164.4, 138.1 164.4 Q 138.9 164.4, 139.4 164.8 Q 139.9 165.1, 139.9 165.8 Q 139.9 166.2, 139.6 166.5 Q 139.4 166.8, 139.0 167.0 M 138.1 165.0 Q 137.7 165.0, 137.4 165.2 Q 137.2 165.4, 137.2 165.8 Q 137.2 166.0, 137.4 166.2 Q 137.5 166.4, 137.8 166.5 Q 138.0 166.6, 138.5 166.8 Q 138.8 166.6, 138.9 166.3 Q 139.1 166.1, 139.1 165.8 Q 139.1 165.4, 138.8 165.2 Q 138.6 165.0, 138.1 165.0 M 138.2 169.4 Q 138.7 169.4, 139.0 169.1 Q 139.3 168.8, 139.3 168.4 Q 139.3 168.1, 139.1 167.9 Q 139.0 167.7, 138.7 167.6 Q 138.5 167.5, 138.1 167.4 L 137.7 167.2 Q 137.3 167.5, 137.2 167.7 Q 137.0 168.0, 137.0 168.4 Q 137.0 168.8, 137.3 169.1 Q 137.6 169.4, 138.2 169.4 \" fill=\"#000000\"/>\n",
       "<path class=\"note\" d=\"M 207.0 104.5 Q 207.2 104.0, 207.7 103.7 Q 208.1 103.4, 208.8 103.4 Q 209.6 103.4, 210.1 103.9 Q 210.5 104.3, 210.5 105.1 Q 210.5 105.9, 209.9 106.6 Q 209.4 107.4, 208.1 108.3 L 210.6 108.3 L 210.6 108.9 L 207.0 108.9 L 207.0 108.4 Q 208.0 107.7, 208.6 107.1 Q 209.2 106.6, 209.5 106.1 Q 209.8 105.6, 209.8 105.1 Q 209.8 104.6, 209.5 104.3 Q 209.3 104.0, 208.8 104.0 Q 208.4 104.0, 208.1 104.2 Q 207.8 104.4, 207.6 104.8 L 207.0 104.5 \" fill=\"#000000\"/>\n",
       "<path class=\"note\" d=\"M 212.9 103.4 Q 213.8 103.4, 214.3 104.1 Q 214.8 104.7, 214.8 106.0 Q 214.8 107.5, 214.2 108.2 Q 213.6 108.9, 212.4 108.9 Q 212.1 108.9, 211.8 108.9 Q 211.5 108.8, 211.3 108.6 L 211.6 108.1 Q 212.0 108.3, 212.4 108.3 Q 213.2 108.3, 213.6 107.8 Q 214.0 107.3, 214.0 106.3 Q 213.8 106.6, 213.4 106.7 Q 213.1 106.8, 212.7 106.8 Q 212.2 106.8, 211.8 106.6 Q 211.5 106.4, 211.3 106.1 Q 211.0 105.7, 211.0 105.2 Q 211.0 104.7, 211.3 104.3 Q 211.5 103.9, 211.9 103.6 Q 212.3 103.4, 212.9 103.4 M 211.8 105.2 Q 211.8 105.7, 212.1 106.0 Q 212.3 106.2, 212.8 106.2 Q 213.2 106.2, 213.5 106.1 Q 213.8 106.0, 214.0 105.7 Q 214.0 104.8, 213.7 104.4 Q 213.4 104.0, 212.9 104.0 Q 212.6 104.0, 212.3 104.2 Q 212.1 104.3, 212.0 104.6 Q 211.8 104.9, 211.8 105.2 \" fill=\"#000000\"/>\n",
       "</svg>"
      ],
      "text/plain": [
       "<IPython.core.display.SVG object>"
      ]
     },
     "execution_count": 43,
     "metadata": {},
     "output_type": "execute_result"
    }
   ],
   "source": [
    "from rdkit.Chem.Draw import rdMolDraw2D\n",
    "from IPython.display import SVG\n",
    "mol = mol1\n",
    "drawer = rdMolDraw2D.MolDraw2DSVG(300,300)\n",
    "drawer.drawOptions().addAtomIndices = True\n",
    "drawer.drawOptions().addBondIndices = True\n",
    "drawer.DrawMolecule(mol)\n",
    "drawer.FinishDrawing()\n",
    "SVG(drawer.GetDrawingText())"
   ]
  },
  {
   "cell_type": "code",
   "execution_count": 44,
   "metadata": {},
   "outputs": [
    {
     "data": {
      "image/png": "[encoded data removed]",
      "text/plain": [
       "<rdkit.Chem.rdchem.Mol at 0x25cd0cfb1c0>"
      ]
     },
     "execution_count": 44,
     "metadata": {},
     "output_type": "execute_result"
    }
   ],
   "source": [
    "core = MurckoScaffold.GetScaffoldForMol(mol1)\n",
    "core"
   ]
  },
  {
   "cell_type": "code",
   "execution_count": 45,
   "metadata": {},
   "outputs": [],
   "source": [
    "from rdkit.Chem import AllChem\n",
    "ms = [mol1, mol2]\n",
    "AllChem.Compute2DCoords(core)\n",
    "for m in ms:\n",
    "    _ = AllChem.GenerateDepictionMatching2DStructure(m,core)"
   ]
  },
  {
   "cell_type": "code",
   "execution_count": 46,
   "metadata": {},
   "outputs": [],
   "source": [
    "mol = mol2"
   ]
  },
  {
   "cell_type": "code",
   "execution_count": 47,
   "metadata": {},
   "outputs": [
    {
     "name": "stderr",
     "output_type": "stream",
     "text": [
      "RDKit ERROR: [21:37:45] Can't kekulize mol.  Unkekulized atoms: 13 14 15 16 17\n"
     ]
    },
    {
     "data": {
      "image/png": "[encoded data removed]",
      "text/plain": [
       "<rdkit.Chem.rdchem.Mol at 0x25cd0d0b030>"
      ]
     },
     "execution_count": 47,
     "metadata": {},
     "output_type": "execute_result"
    }
   ],
   "source": [
    "results = np.array(sorted(list(FindBRICSBonds(mol))), dtype=np.long)\n",
    "bond_to_break = results[:, 0, :]\n",
    "bond_to_break = bond_to_break.tolist()\n",
    "with Chem.RWMol(mol) as rwmol:\n",
    "    for i in bond_to_break:\n",
    "        rwmol.RemoveBond(*i)\n",
    "rwmol = rwmol.GetMol()\n",
    "rwmol"
   ]
  },
  {
   "cell_type": "code",
   "execution_count": 48,
   "metadata": {},
   "outputs": [
    {
     "data": {
      "text/plain": [
       "array([[[ 8, 12],\n",
       "        [13, 16]],\n",
       "\n",
       "       [[ 8, 24],\n",
       "        [13, 16]],\n",
       "\n",
       "       [[22, 21],\n",
       "        [ 3,  4]],\n",
       "\n",
       "       [[28, 27],\n",
       "        [ 3, 16]]])"
      ]
     },
     "execution_count": 48,
     "metadata": {},
     "output_type": "execute_result"
    }
   ],
   "source": [
    "results"
   ]
  },
  {
   "cell_type": "code",
   "execution_count": 49,
   "metadata": {},
   "outputs": [
    {
     "data": {
      "text/plain": [
       "[0,\n",
       " 0,\n",
       " 0,\n",
       " 0,\n",
       " 0,\n",
       " 0,\n",
       " 0,\n",
       " 0,\n",
       " 0,\n",
       " 0,\n",
       " 0,\n",
       " 0,\n",
       " 1,\n",
       " 1,\n",
       " 1,\n",
       " 1,\n",
       " 1,\n",
       " 1,\n",
       " 1,\n",
       " 1,\n",
       " 1,\n",
       " 1,\n",
       " 2,\n",
       " 2,\n",
       " 3,\n",
       " 3,\n",
       " 3,\n",
       " 3,\n",
       " 4,\n",
       " 4,\n",
       " 4,\n",
       " 4,\n",
       " 3,\n",
       " 3]"
      ]
     },
     "execution_count": 49,
     "metadata": {},
     "output_type": "execute_result"
    }
   ],
   "source": [
    "cluster_idx = []\n",
    "Chem.rdmolops.GetMolFrags(rwmol, asMols=True, sanitizeFrags=False, frags=cluster_idx)\n",
    "cluster_idx"
   ]
  },
  {
   "cell_type": "code",
   "execution_count": 50,
   "metadata": {},
   "outputs": [
    {
     "data": {
      "text/plain": [
       "34"
      ]
     },
     "execution_count": 50,
     "metadata": {},
     "output_type": "execute_result"
    }
   ],
   "source": [
    "atoms = mol.GetAtoms()\n",
    "len(atoms)"
   ]
  },
  {
   "cell_type": "code",
   "execution_count": 51,
   "metadata": {},
   "outputs": [],
   "source": [
    "hit_ats = list(range(0, len(atoms)))"
   ]
  },
  {
   "cell_type": "code",
   "execution_count": 52,
   "metadata": {},
   "outputs": [
    {
     "data": {
      "text/plain": [
       "array([1.       , 1.       , 1.       , 1.       , 1.       , 1.       ,\n",
       "       1.       , 1.       , 1.       , 1.       , 1.       , 1.       ,\n",
       "       0.9251377, 0.9251377, 0.9251377, 0.9251377, 0.9251377, 0.9251377,\n",
       "       0.9251377, 0.9251377, 0.9251377, 0.9251377, 0.2185333, 0.2185333,\n",
       "       0.       , 0.       , 0.       , 0.       , 0.7735758, 0.7735758,\n",
       "       0.7735758, 0.7735758, 0.       , 0.       ], dtype=float32)"
      ]
     },
     "execution_count": 52,
     "metadata": {},
     "output_type": "execute_result"
    }
   ],
   "source": [
    "weight_atom = att2[cluster_idx]\n",
    "weight_atom = (weight_atom - weight_atom.min())/(weight_atom.max() - weight_atom.min())\n",
    "weight_atom"
   ]
  },
  {
   "cell_type": "code",
   "execution_count": 53,
   "metadata": {},
   "outputs": [],
   "source": [
    "hit_bonds = []\n",
    "weight_bond = []\n",
    "for bond in mol.GetBonds():\n",
    "    aid1 = hit_ats[bond.GetBeginAtomIdx()]\n",
    "    aid2 = hit_ats[bond.GetEndAtomIdx()]\n",
    "    hit_bonds.append(mol.GetBondBetweenAtoms(aid1,aid2).GetIdx())\n",
    "    # 不是很严格\n",
    "    if weight_atom[aid1] == weight_atom[aid2]:\n",
    "        weight_bond.append(weight_atom[aid1])\n",
    "    else:\n",
    "        weight_bond.append(0)"
   ]
  },
  {
   "cell_type": "code",
   "execution_count": 54,
   "metadata": {},
   "outputs": [
    {
     "data": {
      "text/plain": [
       "[1.0,\n",
       " 1.0,\n",
       " 1.0,\n",
       " 1.0,\n",
       " 1.0,\n",
       " 1.0,\n",
       " 1.0,\n",
       " 1.0,\n",
       " 1.0,\n",
       " 1.0,\n",
       " 1.0,\n",
       " 0,\n",
       " 0.9251377,\n",
       " 0.9251377,\n",
       " 0.9251377,\n",
       " 0.9251377,\n",
       " 0.9251377,\n",
       " 0.9251377,\n",
       " 0.9251377,\n",
       " 0.9251377,\n",
       " 0.9251377,\n",
       " 0,\n",
       " 0.2185333,\n",
       " 0,\n",
       " 0.0,\n",
       " 0.0,\n",
       " 0.0,\n",
       " 0,\n",
       " 0.7735758,\n",
       " 0.7735758,\n",
       " 0.7735758,\n",
       " 0.0,\n",
       " 0.0,\n",
       " 1.0,\n",
       " 0.9251377,\n",
       " 0.0,\n",
       " 1.0]"
      ]
     },
     "execution_count": 54,
     "metadata": {},
     "output_type": "execute_result"
    }
   ],
   "source": [
    "weight_bond"
   ]
  },
  {
   "cell_type": "code",
   "execution_count": 55,
   "metadata": {},
   "outputs": [],
   "source": [
    "import matplotlib.pyplot as plt\n",
    "import matplotlib.cm as cm\n",
    "import matplotlib"
   ]
  },
  {
   "cell_type": "code",
   "execution_count": 56,
   "metadata": {},
   "outputs": [],
   "source": [
    "norm = matplotlib.colors.Normalize(vmin=0,vmax=1.28)\n",
    "cmap = cm.get_cmap('Oranges')\n",
    "plt_colors = cm.ScalarMappable(norm=norm, cmap=cmap)\n",
    "\n",
    "atom_cols = {}\n",
    "for at in hit_ats:\n",
    "    atom_cols[at] = plt_colors.to_rgba(float(weight_atom[at]))\n",
    "    \n",
    "bond_cols = {}\n",
    "for bd in hit_bonds:\n",
    "    bond_cols[bd] = plt_colors.to_rgba(float(weight_bond[bd]))\n",
    "# bond_cols[6] = (0, 0, 0, 0)\n",
    "# bond_cols[18] = (0, 0, 0, 0)\n",
    "# bond_cols[22] = (0, 0, 0, 0)\n",
    "# # bond_cols[11] = (0, 0, 0, 0)"
   ]
  },
  {
   "cell_type": "code",
   "execution_count": 57,
   "metadata": {},
   "outputs": [
    {
     "data": {
      "image/svg+xml": [
       "<svg baseProfile=\"full\" height=\"500px\" version=\"1.1\" viewBox=\"0 0 500 500\" width=\"500px\" xml:space=\"preserve\" xmlns=\"http://www.w3.org/2000/svg\" xmlns:rdkit=\"http://www.rdkit.org/xml\" xmlns:xlink=\"http://www.w3.org/1999/xlink\">\n",
       "<!-- END OF HEADER -->\n",
       "<rect height=\"500.0\" style=\"opacity:1.0;fill:#FFFFFF;stroke:none\" width=\"500.0\" x=\"0.0\" y=\"0.0\"> </rect>\n",
       "<path d=\"M 466.2,212.2 L 430.9,180.9\" style=\"fill:none;fill-rule:evenodd;stroke:#CB4301;stroke-width:10.1px;stroke-linecap:butt;stroke-linejoin:miter;stroke-opacity:1\"/>\n",
       "<path d=\"M 430.9,180.9 L 467.8,151.6\" style=\"fill:none;fill-rule:evenodd;stroke:#CB4301;stroke-width:10.1px;stroke-linecap:butt;stroke-linejoin:miter;stroke-opacity:1\"/>\n",
       "<path d=\"M 430.9,180.9 L 408.4,139.5\" style=\"fill:none;fill-rule:evenodd;stroke:#CB4301;stroke-width:10.1px;stroke-linecap:butt;stroke-linejoin:miter;stroke-opacity:1\"/>\n",
       "<path d=\"M 430.9,180.9 L 406.2,221.2\" style=\"fill:none;fill-rule:evenodd;stroke:#CB4301;stroke-width:10.1px;stroke-linecap:butt;stroke-linejoin:miter;stroke-opacity:1\"/>\n",
       "<path d=\"M 408.4,139.5 L 361.2,138.2\" style=\"fill:none;fill-rule:evenodd;stroke:#CB4301;stroke-width:10.1px;stroke-linecap:butt;stroke-linejoin:miter;stroke-opacity:1\"/>\n",
       "<path d=\"M 361.2,138.2 L 336.5,178.5\" style=\"fill:none;fill-rule:evenodd;stroke:#CB4301;stroke-width:10.1px;stroke-linecap:butt;stroke-linejoin:miter;stroke-opacity:1\"/>\n",
       "<path d=\"M 361.2,138.2 L 330.5,102.3\" style=\"fill:none;fill-rule:evenodd;stroke:#CB4301;stroke-width:10.1px;stroke-linecap:butt;stroke-linejoin:miter;stroke-opacity:1\"/>\n",
       "<path d=\"M 336.5,178.5 L 359.0,220.0\" style=\"fill:none;fill-rule:evenodd;stroke:#CB4301;stroke-width:10.1px;stroke-linecap:butt;stroke-linejoin:miter;stroke-opacity:1\"/>\n",
       "<path d=\"M 336.5,178.5 L 290.6,167.5\" style=\"fill:none;fill-rule:evenodd;stroke:#CB4301;stroke-width:10.1px;stroke-linecap:butt;stroke-linejoin:miter;stroke-opacity:1\"/>\n",
       "<path d=\"M 359.0,220.0 L 406.2,221.2\" style=\"fill:none;fill-rule:evenodd;stroke:#CB4301;stroke-width:10.1px;stroke-linecap:butt;stroke-linejoin:miter;stroke-opacity:1\"/>\n",
       "<path d=\"M 290.6,167.5 L 286.9,120.4\" style=\"fill:none;fill-rule:evenodd;stroke:#CB4301;stroke-width:10.1px;stroke-linecap:butt;stroke-linejoin:miter;stroke-opacity:1\"/>\n",
       "<path d=\"M 290.6,167.5 L 284.5,214.3\" style=\"fill:none;fill-rule:evenodd;stroke:#FFF5EB;stroke-width:10.1px;stroke-linecap:butt;stroke-linejoin:miter;stroke-opacity:1\"/>\n",
       "<path d=\"M 290.6,167.5 L 243.4,166.2\" style=\"fill:none;fill-rule:evenodd;stroke:#FFF5EB;stroke-width:10.1px;stroke-linecap:butt;stroke-linejoin:miter;stroke-opacity:1\"/>\n",
       "<path d=\"M 286.9,120.4 L 330.5,102.3\" style=\"fill:none;fill-rule:evenodd;stroke:#CB4301;stroke-width:10.1px;stroke-linecap:butt;stroke-linejoin:miter;stroke-opacity:1\"/>\n",
       "<path d=\"M 330.5,102.3 L 341.5,56.4\" style=\"fill:none;fill-rule:evenodd;stroke:#CB4301;stroke-width:10.1px;stroke-linecap:butt;stroke-linejoin:miter;stroke-opacity:1\"/>\n",
       "<path d=\"M 284.5,214.3 L 240.8,232.3\" style=\"fill:none;fill-rule:evenodd;stroke:#DD4E04;stroke-width:10.1px;stroke-linecap:butt;stroke-linejoin:miter;stroke-opacity:1\"/>\n",
       "<path d=\"M 284.5,214.3 L 321.9,243.0\" style=\"fill:none;fill-rule:evenodd;stroke:#DD4E04;stroke-width:10.1px;stroke-linecap:butt;stroke-linejoin:miter;stroke-opacity:1\"/>\n",
       "<path d=\"M 240.8,232.3 L 234.7,279.1\" style=\"fill:none;fill-rule:evenodd;stroke:#DD4E04;stroke-width:10.1px;stroke-linecap:butt;stroke-linejoin:miter;stroke-opacity:1\"/>\n",
       "<path d=\"M 234.7,279.1 L 272.1,307.8\" style=\"fill:none;fill-rule:evenodd;stroke:#DD4E04;stroke-width:10.1px;stroke-linecap:butt;stroke-linejoin:miter;stroke-opacity:1\"/>\n",
       "<path d=\"M 234.7,279.1 L 191.1,297.2\" style=\"fill:none;fill-rule:evenodd;stroke:#DD4E04;stroke-width:10.1px;stroke-linecap:butt;stroke-linejoin:miter;stroke-opacity:1\"/>\n",
       "<path d=\"M 272.1,307.8 L 315.7,289.8\" style=\"fill:none;fill-rule:evenodd;stroke:#DD4E04;stroke-width:10.1px;stroke-linecap:butt;stroke-linejoin:miter;stroke-opacity:1\"/>\n",
       "<path d=\"M 315.7,289.8 L 321.9,243.0\" style=\"fill:none;fill-rule:evenodd;stroke:#DD4E04;stroke-width:10.1px;stroke-linecap:butt;stroke-linejoin:miter;stroke-opacity:1\"/>\n",
       "<path d=\"M 191.1,297.2 L 147.5,315.2\" style=\"fill:none;fill-rule:evenodd;stroke:#DD4E04;stroke-width:10.1px;stroke-linecap:butt;stroke-linejoin:miter;stroke-opacity:1\"/>\n",
       "<path d=\"M 147.5,315.2 L 103.9,333.3\" style=\"fill:none;fill-rule:evenodd;stroke:#DD4E04;stroke-width:10.1px;stroke-linecap:butt;stroke-linejoin:miter;stroke-opacity:1\"/>\n",
       "<path d=\"M 103.9,333.3 L 97.7,380.1\" style=\"fill:none;fill-rule:evenodd;stroke:#DD4E04;stroke-width:10.1px;stroke-linecap:butt;stroke-linejoin:miter;stroke-opacity:1\"/>\n",
       "<path d=\"M 97.7,380.1 L 54.1,398.2\" style=\"fill:none;fill-rule:evenodd;stroke:#FFF5EB;stroke-width:10.1px;stroke-linecap:butt;stroke-linejoin:miter;stroke-opacity:1\"/>\n",
       "<path d=\"M 54.1,398.2 L 47.9,445.0\" style=\"fill:none;fill-rule:evenodd;stroke:#FDDEBE;stroke-width:10.1px;stroke-linecap:butt;stroke-linejoin:miter;stroke-opacity:1\"/>\n",
       "<path d=\"M 243.4,166.2 L 220.9,124.7\" style=\"fill:none;fill-rule:evenodd;stroke:#FFF5EB;stroke-width:10.1px;stroke-linecap:butt;stroke-linejoin:miter;stroke-opacity:1\"/>\n",
       "<path d=\"M 243.4,166.2 L 218.8,206.5\" style=\"fill:none;fill-rule:evenodd;stroke:#FFF5EB;stroke-width:10.1px;stroke-linecap:butt;stroke-linejoin:miter;stroke-opacity:1\"/>\n",
       "<path d=\"M 220.9,124.7 L 173.7,123.5\" style=\"fill:none;fill-rule:evenodd;stroke:#FFF5EB;stroke-width:10.1px;stroke-linecap:butt;stroke-linejoin:miter;stroke-opacity:1\"/>\n",
       "<path d=\"M 173.7,123.5 L 149.1,163.7\" style=\"fill:none;fill-rule:evenodd;stroke:#FFF5EB;stroke-width:10.1px;stroke-linecap:butt;stroke-linejoin:miter;stroke-opacity:1\"/>\n",
       "<path d=\"M 149.1,163.7 L 101.9,162.5\" style=\"fill:none;fill-rule:evenodd;stroke:#FFF5EB;stroke-width:10.1px;stroke-linecap:butt;stroke-linejoin:miter;stroke-opacity:1\"/>\n",
       "<path d=\"M 149.1,163.7 L 171.6,205.2\" style=\"fill:none;fill-rule:evenodd;stroke:#FFF5EB;stroke-width:10.1px;stroke-linecap:butt;stroke-linejoin:miter;stroke-opacity:1\"/>\n",
       "<path d=\"M 101.9,162.5 L 79.4,121.0\" style=\"fill:none;fill-rule:evenodd;stroke:#F36F19;stroke-width:10.1px;stroke-linecap:butt;stroke-linejoin:miter;stroke-opacity:1\"/>\n",
       "<path d=\"M 79.4,121.0 L 32.2,119.8\" style=\"fill:none;fill-rule:evenodd;stroke:#F36F19;stroke-width:10.1px;stroke-linecap:butt;stroke-linejoin:miter;stroke-opacity:1\"/>\n",
       "<path d=\"M 79.4,121.0 L 104.0,80.8\" style=\"fill:none;fill-rule:evenodd;stroke:#F36F19;stroke-width:10.1px;stroke-linecap:butt;stroke-linejoin:miter;stroke-opacity:1\"/>\n",
       "<path d=\"M 171.6,205.2 L 218.8,206.5\" style=\"fill:none;fill-rule:evenodd;stroke:#FFF5EB;stroke-width:10.1px;stroke-linecap:butt;stroke-linejoin:miter;stroke-opacity:1\"/>\n",
       "<ellipse cx=\"466.2\" cy=\"212.2\" rx=\"9.4\" ry=\"9.5\" style=\"fill:#CB4301;fill-rule:evenodd;stroke:#CB4301;stroke-width:1.0px;stroke-linecap:butt;stroke-linejoin:miter;stroke-opacity:1\"/>\n",
       "<ellipse cx=\"430.9\" cy=\"180.9\" rx=\"9.4\" ry=\"9.4\" style=\"fill:#CB4301;fill-rule:evenodd;stroke:#CB4301;stroke-width:1.0px;stroke-linecap:butt;stroke-linejoin:miter;stroke-opacity:1\"/>\n",
       "<ellipse cx=\"467.8\" cy=\"151.6\" rx=\"9.4\" ry=\"9.5\" style=\"fill:#CB4301;fill-rule:evenodd;stroke:#CB4301;stroke-width:1.0px;stroke-linecap:butt;stroke-linejoin:miter;stroke-opacity:1\"/>\n",
       "<ellipse cx=\"408.4\" cy=\"139.5\" rx=\"9.4\" ry=\"9.4\" style=\"fill:#CB4301;fill-rule:evenodd;stroke:#CB4301;stroke-width:1.0px;stroke-linecap:butt;stroke-linejoin:miter;stroke-opacity:1\"/>\n",
       "<ellipse cx=\"361.2\" cy=\"138.2\" rx=\"9.4\" ry=\"9.5\" style=\"fill:#CB4301;fill-rule:evenodd;stroke:#CB4301;stroke-width:1.0px;stroke-linecap:butt;stroke-linejoin:miter;stroke-opacity:1\"/>\n",
       "<ellipse cx=\"336.5\" cy=\"178.5\" rx=\"9.4\" ry=\"9.4\" style=\"fill:#CB4301;fill-rule:evenodd;stroke:#CB4301;stroke-width:1.0px;stroke-linecap:butt;stroke-linejoin:miter;stroke-opacity:1\"/>\n",
       "<ellipse cx=\"359.0\" cy=\"220.0\" rx=\"9.4\" ry=\"9.5\" style=\"fill:#CB4301;fill-rule:evenodd;stroke:#CB4301;stroke-width:1.0px;stroke-linecap:butt;stroke-linejoin:miter;stroke-opacity:1\"/>\n",
       "<ellipse cx=\"406.2\" cy=\"221.2\" rx=\"9.4\" ry=\"9.4\" style=\"fill:#CB4301;fill-rule:evenodd;stroke:#CB4301;stroke-width:1.0px;stroke-linecap:butt;stroke-linejoin:miter;stroke-opacity:1\"/>\n",
       "<ellipse cx=\"290.6\" cy=\"167.5\" rx=\"9.4\" ry=\"9.4\" style=\"fill:#CB4301;fill-rule:evenodd;stroke:#CB4301;stroke-width:1.0px;stroke-linecap:butt;stroke-linejoin:miter;stroke-opacity:1\"/>\n",
       "<ellipse cx=\"286.9\" cy=\"120.4\" rx=\"9.4\" ry=\"9.5\" style=\"fill:#CB4301;fill-rule:evenodd;stroke:#CB4301;stroke-width:1.0px;stroke-linecap:butt;stroke-linejoin:miter;stroke-opacity:1\"/>\n",
       "<ellipse cx=\"330.5\" cy=\"102.3\" rx=\"9.4\" ry=\"9.4\" style=\"fill:#CB4301;fill-rule:evenodd;stroke:#CB4301;stroke-width:1.0px;stroke-linecap:butt;stroke-linejoin:miter;stroke-opacity:1\"/>\n",
       "<ellipse cx=\"350.9\" cy=\"59.8\" rx=\"20.3\" ry=\"14.2\" style=\"fill:#CB4301;fill-rule:evenodd;stroke:#CB4301;stroke-width:1.0px;stroke-linecap:butt;stroke-linejoin:miter;stroke-opacity:1\"/>\n",
       "<ellipse cx=\"284.5\" cy=\"214.3\" rx=\"9.4\" ry=\"9.4\" style=\"fill:#DD4E04;fill-rule:evenodd;stroke:#DD4E04;stroke-width:1.0px;stroke-linecap:butt;stroke-linejoin:miter;stroke-opacity:1\"/>\n",
       "<ellipse cx=\"240.8\" cy=\"232.3\" rx=\"9.4\" ry=\"9.4\" style=\"fill:#DD4E04;fill-rule:evenodd;stroke:#DD4E04;stroke-width:1.0px;stroke-linecap:butt;stroke-linejoin:miter;stroke-opacity:1\"/>\n",
       "<ellipse cx=\"234.7\" cy=\"279.1\" rx=\"9.4\" ry=\"9.4\" style=\"fill:#DD4E04;fill-rule:evenodd;stroke:#DD4E04;stroke-width:1.0px;stroke-linecap:butt;stroke-linejoin:miter;stroke-opacity:1\"/>\n",
       "<ellipse cx=\"272.1\" cy=\"307.8\" rx=\"9.4\" ry=\"9.4\" style=\"fill:#DD4E04;fill-rule:evenodd;stroke:#DD4E04;stroke-width:1.0px;stroke-linecap:butt;stroke-linejoin:miter;stroke-opacity:1\"/>\n",
       "<ellipse cx=\"315.7\" cy=\"289.8\" rx=\"9.4\" ry=\"9.4\" style=\"fill:#DD4E04;fill-rule:evenodd;stroke:#DD4E04;stroke-width:1.0px;stroke-linecap:butt;stroke-linejoin:miter;stroke-opacity:1\"/>\n",
       "<ellipse cx=\"321.9\" cy=\"243.0\" rx=\"9.4\" ry=\"9.4\" style=\"fill:#DD4E04;fill-rule:evenodd;stroke:#DD4E04;stroke-width:1.0px;stroke-linecap:butt;stroke-linejoin:miter;stroke-opacity:1\"/>\n",
       "<ellipse cx=\"191.1\" cy=\"297.2\" rx=\"9.4\" ry=\"9.4\" style=\"fill:#DD4E04;fill-rule:evenodd;stroke:#DD4E04;stroke-width:1.0px;stroke-linecap:butt;stroke-linejoin:miter;stroke-opacity:1\"/>\n",
       "<ellipse cx=\"147.5\" cy=\"315.2\" rx=\"9.4\" ry=\"9.4\" style=\"fill:#DD4E04;fill-rule:evenodd;stroke:#DD4E04;stroke-width:1.0px;stroke-linecap:butt;stroke-linejoin:miter;stroke-opacity:1\"/>\n",
       "<ellipse cx=\"103.9\" cy=\"333.3\" rx=\"9.4\" ry=\"9.4\" style=\"fill:#DD4E04;fill-rule:evenodd;stroke:#DD4E04;stroke-width:1.0px;stroke-linecap:butt;stroke-linejoin:miter;stroke-opacity:1\"/>\n",
       "<ellipse cx=\"97.7\" cy=\"380.1\" rx=\"9.4\" ry=\"9.4\" style=\"fill:#DD4E04;fill-rule:evenodd;stroke:#DD4E04;stroke-width:1.0px;stroke-linecap:butt;stroke-linejoin:miter;stroke-opacity:1\"/>\n",
       "<ellipse cx=\"54.1\" cy=\"398.3\" rx=\"9.4\" ry=\"9.7\" style=\"fill:#FDDEBE;fill-rule:evenodd;stroke:#FDDEBE;stroke-width:1.0px;stroke-linecap:butt;stroke-linejoin:miter;stroke-opacity:1\"/>\n",
       "<ellipse cx=\"47.9\" cy=\"445.0\" rx=\"9.4\" ry=\"9.4\" style=\"fill:#FDDEBE;fill-rule:evenodd;stroke:#FDDEBE;stroke-width:1.0px;stroke-linecap:butt;stroke-linejoin:miter;stroke-opacity:1\"/>\n",
       "<ellipse cx=\"243.4\" cy=\"166.2\" rx=\"9.4\" ry=\"9.4\" style=\"fill:#FFF5EB;fill-rule:evenodd;stroke:#FFF5EB;stroke-width:1.0px;stroke-linecap:butt;stroke-linejoin:miter;stroke-opacity:1\"/>\n",
       "<ellipse cx=\"220.9\" cy=\"124.7\" rx=\"9.4\" ry=\"9.4\" style=\"fill:#FFF5EB;fill-rule:evenodd;stroke:#FFF5EB;stroke-width:1.0px;stroke-linecap:butt;stroke-linejoin:miter;stroke-opacity:1\"/>\n",
       "<ellipse cx=\"173.7\" cy=\"123.5\" rx=\"9.4\" ry=\"9.4\" style=\"fill:#FFF5EB;fill-rule:evenodd;stroke:#FFF5EB;stroke-width:1.0px;stroke-linecap:butt;stroke-linejoin:miter;stroke-opacity:1\"/>\n",
       "<ellipse cx=\"149.1\" cy=\"163.7\" rx=\"9.4\" ry=\"9.4\" style=\"fill:#FFF5EB;fill-rule:evenodd;stroke:#FFF5EB;stroke-width:1.0px;stroke-linecap:butt;stroke-linejoin:miter;stroke-opacity:1\"/>\n",
       "<ellipse cx=\"101.9\" cy=\"162.6\" rx=\"9.4\" ry=\"9.7\" style=\"fill:#F36F19;fill-rule:evenodd;stroke:#F36F19;stroke-width:1.0px;stroke-linecap:butt;stroke-linejoin:miter;stroke-opacity:1\"/>\n",
       "<ellipse cx=\"79.4\" cy=\"121.0\" rx=\"9.4\" ry=\"9.4\" style=\"fill:#F36F19;fill-rule:evenodd;stroke:#F36F19;stroke-width:1.0px;stroke-linecap:butt;stroke-linejoin:miter;stroke-opacity:1\"/>\n",
       "<ellipse cx=\"32.2\" cy=\"119.8\" rx=\"9.4\" ry=\"9.5\" style=\"fill:#F36F19;fill-rule:evenodd;stroke:#F36F19;stroke-width:1.0px;stroke-linecap:butt;stroke-linejoin:miter;stroke-opacity:1\"/>\n",
       "<ellipse cx=\"104.0\" cy=\"80.8\" rx=\"9.4\" ry=\"9.5\" style=\"fill:#F36F19;fill-rule:evenodd;stroke:#F36F19;stroke-width:1.0px;stroke-linecap:butt;stroke-linejoin:miter;stroke-opacity:1\"/>\n",
       "<ellipse cx=\"171.6\" cy=\"205.2\" rx=\"9.4\" ry=\"9.4\" style=\"fill:#FFF5EB;fill-rule:evenodd;stroke:#FFF5EB;stroke-width:1.0px;stroke-linecap:butt;stroke-linejoin:miter;stroke-opacity:1\"/>\n",
       "<ellipse cx=\"218.8\" cy=\"206.5\" rx=\"9.4\" ry=\"9.4\" style=\"fill:#FFF5EB;fill-rule:evenodd;stroke:#FFF5EB;stroke-width:1.0px;stroke-linecap:butt;stroke-linejoin:miter;stroke-opacity:1\"/>\n",
       "<path class=\"bond-0 atom-0 atom-1\" d=\"M 461.1,207.7 L 446.0,194.3\" style=\"fill:none;fill-rule:evenodd;stroke:#33CCCC;stroke-width:2.0px;stroke-linecap:butt;stroke-linejoin:miter;stroke-opacity:1\"/>\n",
       "<path class=\"bond-0 atom-0 atom-1\" d=\"M 446.0,194.3 L 430.9,180.9\" style=\"fill:none;fill-rule:evenodd;stroke:#000000;stroke-width:2.0px;stroke-linecap:butt;stroke-linejoin:miter;stroke-opacity:1\"/>\n",
       "<path class=\"bond-1 atom-1 atom-2\" d=\"M 430.9,180.9 L 446.8,168.3\" style=\"fill:none;fill-rule:evenodd;stroke:#000000;stroke-width:2.0px;stroke-linecap:butt;stroke-linejoin:miter;stroke-opacity:1\"/>\n",
       "<path class=\"bond-1 atom-1 atom-2\" d=\"M 446.8,168.3 L 462.7,155.7\" style=\"fill:none;fill-rule:evenodd;stroke:#33CCCC;stroke-width:2.0px;stroke-linecap:butt;stroke-linejoin:miter;stroke-opacity:1\"/>\n",
       "<path class=\"bond-2 atom-1 atom-3\" d=\"M 430.9,180.9 L 408.4,139.5\" style=\"fill:none;fill-rule:evenodd;stroke:#000000;stroke-width:2.0px;stroke-linecap:butt;stroke-linejoin:miter;stroke-opacity:1\"/>\n",
       "<path class=\"bond-33 atom-7 atom-1\" d=\"M 406.2,221.2 L 430.9,180.9\" style=\"fill:none;fill-rule:evenodd;stroke:#000000;stroke-width:2.0px;stroke-linecap:butt;stroke-linejoin:miter;stroke-opacity:1\"/>\n",
       "<path class=\"bond-3 atom-3 atom-4\" d=\"M 408.4,139.5 L 387.9,138.9\" style=\"fill:none;fill-rule:evenodd;stroke:#000000;stroke-width:2.0px;stroke-linecap:butt;stroke-linejoin:miter;stroke-opacity:1\"/>\n",
       "<path class=\"bond-3 atom-3 atom-4\" d=\"M 387.9,138.9 L 367.4,138.4\" style=\"fill:none;fill-rule:evenodd;stroke:#0000FF;stroke-width:2.0px;stroke-linecap:butt;stroke-linejoin:miter;stroke-opacity:1\"/>\n",
       "<path class=\"bond-4 atom-4 atom-5\" d=\"M 356.4,146.1 L 346.4,162.3\" style=\"fill:none;fill-rule:evenodd;stroke:#0000FF;stroke-width:2.0px;stroke-linecap:butt;stroke-linejoin:miter;stroke-opacity:1\"/>\n",
       "<path class=\"bond-4 atom-4 atom-5\" d=\"M 346.4,162.3 L 336.5,178.5\" style=\"fill:none;fill-rule:evenodd;stroke:#000000;stroke-width:2.0px;stroke-linecap:butt;stroke-linejoin:miter;stroke-opacity:1\"/>\n",
       "<path class=\"bond-36 atom-10 atom-4\" d=\"M 330.5,102.3 L 342.7,116.6\" style=\"fill:none;fill-rule:evenodd;stroke:#000000;stroke-width:2.0px;stroke-linecap:butt;stroke-linejoin:miter;stroke-opacity:1\"/>\n",
       "<path class=\"bond-36 atom-10 atom-4\" d=\"M 342.7,116.6 L 354.9,130.9\" style=\"fill:none;fill-rule:evenodd;stroke:#0000FF;stroke-width:2.0px;stroke-linecap:butt;stroke-linejoin:miter;stroke-opacity:1\"/>\n",
       "<path class=\"bond-5 atom-5 atom-6\" d=\"M 336.5,178.5 L 345.6,195.3\" style=\"fill:none;fill-rule:evenodd;stroke:#000000;stroke-width:2.0px;stroke-linecap:butt;stroke-linejoin:miter;stroke-opacity:1\"/>\n",
       "<path class=\"bond-5 atom-5 atom-6\" d=\"M 345.6,195.3 L 354.8,212.1\" style=\"fill:none;fill-rule:evenodd;stroke:#0000FF;stroke-width:2.0px;stroke-linecap:butt;stroke-linejoin:miter;stroke-opacity:1\"/>\n",
       "<path class=\"bond-5 atom-5 atom-6\" d=\"M 347.6,179.0 L 353.9,190.8\" style=\"fill:none;fill-rule:evenodd;stroke:#000000;stroke-width:2.0px;stroke-linecap:butt;stroke-linejoin:miter;stroke-opacity:1\"/>\n",
       "<path class=\"bond-5 atom-5 atom-6\" d=\"M 353.9,190.8 L 360.3,202.5\" style=\"fill:none;fill-rule:evenodd;stroke:#0000FF;stroke-width:2.0px;stroke-linecap:butt;stroke-linejoin:miter;stroke-opacity:1\"/>\n",
       "<path class=\"bond-7 atom-5 atom-8\" d=\"M 336.5,178.5 L 290.6,167.5\" style=\"fill:none;fill-rule:evenodd;stroke:#000000;stroke-width:2.0px;stroke-linecap:butt;stroke-linejoin:miter;stroke-opacity:1\"/>\n",
       "<path class=\"bond-6 atom-6 atom-7\" d=\"M 365.3,220.1 L 385.8,220.7\" style=\"fill:none;fill-rule:evenodd;stroke:#0000FF;stroke-width:2.0px;stroke-linecap:butt;stroke-linejoin:miter;stroke-opacity:1\"/>\n",
       "<path class=\"bond-6 atom-6 atom-7\" d=\"M 385.8,220.7 L 406.2,221.2\" style=\"fill:none;fill-rule:evenodd;stroke:#000000;stroke-width:2.0px;stroke-linecap:butt;stroke-linejoin:miter;stroke-opacity:1\"/>\n",
       "<path class=\"bond-8 atom-8 atom-9\" d=\"M 290.6,167.5 L 289.1,147.9\" style=\"fill:none;fill-rule:evenodd;stroke:#000000;stroke-width:2.0px;stroke-linecap:butt;stroke-linejoin:miter;stroke-opacity:1\"/>\n",
       "<path class=\"bond-8 atom-8 atom-9\" d=\"M 289.1,147.9 L 287.5,128.3\" style=\"fill:none;fill-rule:evenodd;stroke:#0000FF;stroke-width:2.0px;stroke-linecap:butt;stroke-linejoin:miter;stroke-opacity:1\"/>\n",
       "<path class=\"bond-11 atom-8 atom-12\" d=\"M 290.6,167.5 L 284.5,214.3\" style=\"fill:none;fill-rule:evenodd;stroke:#000000;stroke-width:2.0px;stroke-linecap:butt;stroke-linejoin:miter;stroke-opacity:1\"/>\n",
       "<path class=\"bond-23 atom-8 atom-24\" d=\"M 290.6,167.5 L 243.4,166.2\" style=\"fill:none;fill-rule:evenodd;stroke:#000000;stroke-width:2.0px;stroke-linecap:butt;stroke-linejoin:miter;stroke-opacity:1\"/>\n",
       "<path class=\"bond-9 atom-9 atom-10\" d=\"M 293.2,117.8 L 311.8,110.1\" style=\"fill:none;fill-rule:evenodd;stroke:#0000FF;stroke-width:2.0px;stroke-linecap:butt;stroke-linejoin:miter;stroke-opacity:1\"/>\n",
       "<path class=\"bond-9 atom-9 atom-10\" d=\"M 311.8,110.1 L 330.5,102.3\" style=\"fill:none;fill-rule:evenodd;stroke:#000000;stroke-width:2.0px;stroke-linecap:butt;stroke-linejoin:miter;stroke-opacity:1\"/>\n",
       "<path class=\"bond-9 atom-9 atom-10\" d=\"M 302.4,124.2 L 315.5,118.8\" style=\"fill:none;fill-rule:evenodd;stroke:#0000FF;stroke-width:2.0px;stroke-linecap:butt;stroke-linejoin:miter;stroke-opacity:1\"/>\n",
       "<path class=\"bond-9 atom-9 atom-10\" d=\"M 315.5,118.8 L 328.5,113.4\" style=\"fill:none;fill-rule:evenodd;stroke:#000000;stroke-width:2.0px;stroke-linecap:butt;stroke-linejoin:miter;stroke-opacity:1\"/>\n",
       "<path class=\"bond-10 atom-10 atom-11\" d=\"M 330.5,102.3 L 335.1,83.3\" style=\"fill:none;fill-rule:evenodd;stroke:#000000;stroke-width:2.0px;stroke-linecap:butt;stroke-linejoin:miter;stroke-opacity:1\"/>\n",
       "<path class=\"bond-10 atom-10 atom-11\" d=\"M 335.1,83.3 L 339.7,64.3\" style=\"fill:none;fill-rule:evenodd;stroke:#0000FF;stroke-width:2.0px;stroke-linecap:butt;stroke-linejoin:miter;stroke-opacity:1\"/>\n",
       "<path class=\"bond-12 atom-12 atom-13\" d=\"M 284.5,214.3 L 240.8,232.3\" style=\"fill:none;fill-rule:evenodd;stroke:#000000;stroke-width:2.0px;stroke-linecap:butt;stroke-linejoin:miter;stroke-opacity:1\"/>\n",
       "<path class=\"bond-12 atom-12 atom-13\" d=\"M 281.5,225.7 L 251.0,238.3\" style=\"fill:none;fill-rule:evenodd;stroke:#000000;stroke-width:2.0px;stroke-linecap:butt;stroke-linejoin:miter;stroke-opacity:1\"/>\n",
       "<path class=\"bond-34 atom-17 atom-12\" d=\"M 321.9,243.0 L 284.5,214.3\" style=\"fill:none;fill-rule:evenodd;stroke:#000000;stroke-width:2.0px;stroke-linecap:butt;stroke-linejoin:miter;stroke-opacity:1\"/>\n",
       "<path class=\"bond-13 atom-13 atom-14\" d=\"M 240.8,232.3 L 234.7,279.1\" style=\"fill:none;fill-rule:evenodd;stroke:#000000;stroke-width:2.0px;stroke-linecap:butt;stroke-linejoin:miter;stroke-opacity:1\"/>\n",
       "<path class=\"bond-14 atom-14 atom-15\" d=\"M 234.7,279.1 L 272.1,307.8\" style=\"fill:none;fill-rule:evenodd;stroke:#000000;stroke-width:2.0px;stroke-linecap:butt;stroke-linejoin:miter;stroke-opacity:1\"/>\n",
       "<path class=\"bond-14 atom-14 atom-15\" d=\"M 246.1,275.9 L 272.3,296.0\" style=\"fill:none;fill-rule:evenodd;stroke:#000000;stroke-width:2.0px;stroke-linecap:butt;stroke-linejoin:miter;stroke-opacity:1\"/>\n",
       "<path class=\"bond-17 atom-14 atom-18\" d=\"M 234.7,279.1 L 191.1,297.2\" style=\"fill:none;fill-rule:evenodd;stroke:#000000;stroke-width:2.0px;stroke-linecap:butt;stroke-linejoin:miter;stroke-opacity:1\"/>\n",
       "<path class=\"bond-15 atom-15 atom-16\" d=\"M 272.1,307.8 L 315.7,289.8\" style=\"fill:none;fill-rule:evenodd;stroke:#000000;stroke-width:2.0px;stroke-linecap:butt;stroke-linejoin:miter;stroke-opacity:1\"/>\n",
       "<path class=\"bond-16 atom-16 atom-17\" d=\"M 315.7,289.8 L 321.9,243.0\" style=\"fill:none;fill-rule:evenodd;stroke:#000000;stroke-width:2.0px;stroke-linecap:butt;stroke-linejoin:miter;stroke-opacity:1\"/>\n",
       "<path class=\"bond-16 atom-16 atom-17\" d=\"M 307.3,281.5 L 311.6,248.8\" style=\"fill:none;fill-rule:evenodd;stroke:#000000;stroke-width:2.0px;stroke-linecap:butt;stroke-linejoin:miter;stroke-opacity:1\"/>\n",
       "<path class=\"bond-18 atom-18 atom-19\" d=\"M 191.1,297.2 L 147.5,315.2\" style=\"fill:none;fill-rule:evenodd;stroke:#000000;stroke-width:2.0px;stroke-linecap:butt;stroke-linejoin:miter;stroke-opacity:1\"/>\n",
       "<path class=\"bond-18 atom-18 atom-19\" d=\"M 180.9,291.2 L 150.4,303.8\" style=\"fill:none;fill-rule:evenodd;stroke:#000000;stroke-width:2.0px;stroke-linecap:butt;stroke-linejoin:miter;stroke-opacity:1\"/>\n",
       "<path class=\"bond-18 atom-18 atom-19\" d=\"M 188.1,308.6 L 157.6,321.3\" style=\"fill:none;fill-rule:evenodd;stroke:#000000;stroke-width:2.0px;stroke-linecap:butt;stroke-linejoin:miter;stroke-opacity:1\"/>\n",
       "<path class=\"bond-19 atom-19 atom-20\" d=\"M 147.5,315.2 L 103.9,333.3\" style=\"fill:none;fill-rule:evenodd;stroke:#000000;stroke-width:2.0px;stroke-linecap:butt;stroke-linejoin:miter;stroke-opacity:1\"/>\n",
       "<path class=\"bond-20 atom-20 atom-21\" d=\"M 103.9,333.3 L 97.7,380.1\" style=\"fill:none;fill-rule:evenodd;stroke:#000000;stroke-width:2.0px;stroke-linecap:butt;stroke-linejoin:miter;stroke-opacity:1\"/>\n",
       "<path class=\"bond-21 atom-21 atom-22\" d=\"M 97.7,380.1 L 79.6,387.6\" style=\"fill:none;fill-rule:evenodd;stroke:#000000;stroke-width:2.0px;stroke-linecap:butt;stroke-linejoin:miter;stroke-opacity:1\"/>\n",
       "<path class=\"bond-21 atom-21 atom-22\" d=\"M 79.6,387.6 L 61.4,395.1\" style=\"fill:none;fill-rule:evenodd;stroke:#FF0000;stroke-width:2.0px;stroke-linecap:butt;stroke-linejoin:miter;stroke-opacity:1\"/>\n",
       "<path class=\"bond-22 atom-22 atom-23\" d=\"M 53.0,406.3 L 50.5,425.6\" style=\"fill:none;fill-rule:evenodd;stroke:#FF0000;stroke-width:2.0px;stroke-linecap:butt;stroke-linejoin:miter;stroke-opacity:1\"/>\n",
       "<path class=\"bond-22 atom-22 atom-23\" d=\"M 50.5,425.6 L 47.9,445.0\" style=\"fill:none;fill-rule:evenodd;stroke:#000000;stroke-width:2.0px;stroke-linecap:butt;stroke-linejoin:miter;stroke-opacity:1\"/>\n",
       "<path class=\"bond-24 atom-24 atom-25\" d=\"M 243.4,166.2 L 220.9,124.7\" style=\"fill:none;fill-rule:evenodd;stroke:#000000;stroke-width:2.0px;stroke-linecap:butt;stroke-linejoin:miter;stroke-opacity:1\"/>\n",
       "<path class=\"bond-24 atom-24 atom-25\" d=\"M 231.8,164.5 L 216.0,135.5\" style=\"fill:none;fill-rule:evenodd;stroke:#000000;stroke-width:2.0px;stroke-linecap:butt;stroke-linejoin:miter;stroke-opacity:1\"/>\n",
       "<path class=\"bond-35 atom-33 atom-24\" d=\"M 218.8,206.5 L 243.4,166.2\" style=\"fill:none;fill-rule:evenodd;stroke:#000000;stroke-width:2.0px;stroke-linecap:butt;stroke-linejoin:miter;stroke-opacity:1\"/>\n",
       "<path class=\"bond-25 atom-25 atom-26\" d=\"M 220.9,124.7 L 173.7,123.5\" style=\"fill:none;fill-rule:evenodd;stroke:#000000;stroke-width:2.0px;stroke-linecap:butt;stroke-linejoin:miter;stroke-opacity:1\"/>\n",
       "<path class=\"bond-26 atom-26 atom-27\" d=\"M 173.7,123.5 L 149.1,163.7\" style=\"fill:none;fill-rule:evenodd;stroke:#000000;stroke-width:2.0px;stroke-linecap:butt;stroke-linejoin:miter;stroke-opacity:1\"/>\n",
       "<path class=\"bond-26 atom-26 atom-27\" d=\"M 178.1,134.5 L 160.8,162.6\" style=\"fill:none;fill-rule:evenodd;stroke:#000000;stroke-width:2.0px;stroke-linecap:butt;stroke-linejoin:miter;stroke-opacity:1\"/>\n",
       "<path class=\"bond-27 atom-27 atom-28\" d=\"M 149.1,163.7 L 129.1,163.2\" style=\"fill:none;fill-rule:evenodd;stroke:#000000;stroke-width:2.0px;stroke-linecap:butt;stroke-linejoin:miter;stroke-opacity:1\"/>\n",
       "<path class=\"bond-27 atom-27 atom-28\" d=\"M 129.1,163.2 L 109.2,162.7\" style=\"fill:none;fill-rule:evenodd;stroke:#FF0000;stroke-width:2.0px;stroke-linecap:butt;stroke-linejoin:miter;stroke-opacity:1\"/>\n",
       "<path class=\"bond-31 atom-27 atom-32\" d=\"M 149.1,163.7 L 171.6,205.2\" style=\"fill:none;fill-rule:evenodd;stroke:#000000;stroke-width:2.0px;stroke-linecap:butt;stroke-linejoin:miter;stroke-opacity:1\"/>\n",
       "<path class=\"bond-28 atom-28 atom-29\" d=\"M 97.6,154.6 L 88.5,137.8\" style=\"fill:none;fill-rule:evenodd;stroke:#FF0000;stroke-width:2.0px;stroke-linecap:butt;stroke-linejoin:miter;stroke-opacity:1\"/>\n",
       "<path class=\"bond-28 atom-28 atom-29\" d=\"M 88.5,137.8 L 79.4,121.0\" style=\"fill:none;fill-rule:evenodd;stroke:#000000;stroke-width:2.0px;stroke-linecap:butt;stroke-linejoin:miter;stroke-opacity:1\"/>\n",
       "<path class=\"bond-29 atom-29 atom-30\" d=\"M 79.4,121.0 L 58.3,120.5\" style=\"fill:none;fill-rule:evenodd;stroke:#000000;stroke-width:2.0px;stroke-linecap:butt;stroke-linejoin:miter;stroke-opacity:1\"/>\n",
       "<path class=\"bond-29 atom-29 atom-30\" d=\"M 58.3,120.5 L 37.3,119.9\" style=\"fill:none;fill-rule:evenodd;stroke:#33CCCC;stroke-width:2.0px;stroke-linecap:butt;stroke-linejoin:miter;stroke-opacity:1\"/>\n",
       "<path class=\"bond-30 atom-29 atom-31\" d=\"M 79.4,121.0 L 89.3,104.8\" style=\"fill:none;fill-rule:evenodd;stroke:#000000;stroke-width:2.0px;stroke-linecap:butt;stroke-linejoin:miter;stroke-opacity:1\"/>\n",
       "<path class=\"bond-30 atom-29 atom-31\" d=\"M 89.3,104.8 L 99.2,88.6\" style=\"fill:none;fill-rule:evenodd;stroke:#33CCCC;stroke-width:2.0px;stroke-linecap:butt;stroke-linejoin:miter;stroke-opacity:1\"/>\n",
       "<path class=\"bond-32 atom-32 atom-33\" d=\"M 171.6,205.2 L 218.8,206.5\" style=\"fill:none;fill-rule:evenodd;stroke:#000000;stroke-width:2.0px;stroke-linecap:butt;stroke-linejoin:miter;stroke-opacity:1\"/>\n",
       "<path class=\"bond-32 atom-32 atom-33\" d=\"M 178.9,196.0 L 211.9,196.8\" style=\"fill:none;fill-rule:evenodd;stroke:#000000;stroke-width:2.0px;stroke-linecap:butt;stroke-linejoin:miter;stroke-opacity:1\"/>\n",
       "<path class=\"atom-0\" d=\"M 462.3 205.5 L 470.2 205.5 L 470.2 207.1 L 464.1 207.1 L 464.1 211.1 L 469.5 211.1 L 469.5 212.7 L 464.1 212.7 L 464.1 218.9 L 462.3 218.9 L 462.3 205.5 \" fill=\"#33CCCC\"/>\n",
       "<path class=\"atom-2\" d=\"M 463.9 144.9 L 471.8 144.9 L 471.8 146.4 L 465.7 146.4 L 465.7 150.5 L 471.1 150.5 L 471.1 152.0 L 465.7 152.0 L 465.7 158.2 L 463.9 158.2 L 463.9 144.9 \" fill=\"#33CCCC\"/>\n",
       "<path class=\"atom-4\" d=\"M 358.2 131.5 L 362.6 138.6 Q 363.0 139.3, 363.7 140.6 Q 364.4 141.9, 364.5 141.9 L 364.5 131.5 L 366.3 131.5 L 366.3 144.9 L 364.4 144.9 L 359.7 137.2 Q 359.2 136.3, 358.6 135.2 Q 358.0 134.2, 357.8 133.9 L 357.8 144.9 L 356.1 144.9 L 356.1 131.5 L 358.2 131.5 \" fill=\"#0000FF\"/>\n",
       "<path class=\"atom-6\" d=\"M 356.1 213.3 L 360.5 220.4 Q 360.9 221.1, 361.6 222.3 Q 362.3 223.6, 362.3 223.7 L 362.3 213.3 L 364.1 213.3 L 364.1 226.6 L 362.3 226.6 L 357.6 218.9 Q 357.0 218.0, 356.4 217.0 Q 355.9 215.9, 355.7 215.6 L 355.7 226.6 L 354.0 226.6 L 354.0 213.3 L 356.1 213.3 \" fill=\"#0000FF\"/>\n",
       "<path class=\"atom-9\" d=\"M 284.0 113.7 L 288.3 120.8 Q 288.8 121.5, 289.5 122.8 Q 290.2 124.0, 290.2 124.1 L 290.2 113.7 L 292.0 113.7 L 292.0 127.1 L 290.2 127.1 L 285.5 119.3 Q 284.9 118.4, 284.3 117.4 Q 283.8 116.4, 283.6 116.0 L 283.6 127.1 L 281.8 127.1 L 281.8 113.7 L 284.0 113.7 \" fill=\"#0000FF\"/>\n",
       "<path class=\"atom-11\" d=\"M 338.6 49.8 L 343.0 56.8 Q 343.4 57.5, 344.1 58.8 Q 344.8 60.1, 344.8 60.1 L 344.8 49.8 L 346.6 49.8 L 346.6 63.1 L 344.8 63.1 L 340.1 55.4 Q 339.5 54.5, 339.0 53.4 Q 338.4 52.4, 338.2 52.1 L 338.2 63.1 L 336.5 63.1 L 336.5 49.8 L 338.6 49.8 \" fill=\"#0000FF\"/>\n",
       "<path class=\"atom-11\" d=\"M 348.2 49.8 L 350.0 49.8 L 350.0 55.4 L 356.9 55.4 L 356.9 49.8 L 358.7 49.8 L 358.7 63.1 L 356.9 63.1 L 356.9 56.9 L 350.0 56.9 L 350.0 63.1 L 348.2 63.1 L 348.2 49.8 \" fill=\"#0000FF\"/>\n",
       "<path class=\"atom-11\" d=\"M 359.3 62.6 Q 359.7 61.8, 360.4 61.4 Q 361.2 60.9, 362.3 60.9 Q 363.6 60.9, 364.4 61.6 Q 365.1 62.3, 365.1 63.6 Q 365.1 64.9, 364.1 66.1 Q 363.2 67.4, 361.2 68.8 L 365.2 68.8 L 365.2 69.8 L 359.3 69.8 L 359.3 69.0 Q 360.9 67.8, 361.9 66.9 Q 362.9 66.1, 363.4 65.3 Q 363.9 64.5, 363.9 63.7 Q 363.9 62.8, 363.4 62.4 Q 363.0 61.9, 362.3 61.9 Q 361.6 61.9, 361.1 62.2 Q 360.6 62.5, 360.3 63.1 L 359.3 62.6 \" fill=\"#0000FF\"/>\n",
       "<path class=\"atom-22\" d=\"M 48.0 398.2 Q 48.0 395.0, 49.5 393.2 Q 51.1 391.4, 54.1 391.4 Q 57.1 391.4, 58.6 393.2 Q 60.2 395.0, 60.2 398.2 Q 60.2 401.4, 58.6 403.3 Q 57.0 405.1, 54.1 405.1 Q 51.1 405.1, 49.5 403.3 Q 48.0 401.5, 48.0 398.2 M 54.1 403.6 Q 56.1 403.6, 57.2 402.3 Q 58.3 400.9, 58.3 398.2 Q 58.3 395.6, 57.2 394.3 Q 56.1 392.9, 54.1 392.9 Q 52.0 392.9, 50.9 394.2 Q 49.8 395.6, 49.8 398.2 Q 49.8 400.9, 50.9 402.3 Q 52.0 403.6, 54.1 403.6 \" fill=\"#FF0000\"/>\n",
       "<path class=\"atom-28\" d=\"M 95.7 162.5 Q 95.7 159.3, 97.3 157.5 Q 98.9 155.7, 101.9 155.7 Q 104.8 155.7, 106.4 157.5 Q 108.0 159.3, 108.0 162.5 Q 108.0 165.8, 106.4 167.6 Q 104.8 169.5, 101.9 169.5 Q 98.9 169.5, 97.3 167.6 Q 95.7 165.8, 95.7 162.5 M 101.9 168.0 Q 103.9 168.0, 105.0 166.6 Q 106.1 165.2, 106.1 162.5 Q 106.1 159.9, 105.0 158.6 Q 103.9 157.3, 101.9 157.3 Q 99.8 157.3, 98.7 158.6 Q 97.6 159.9, 97.6 162.5 Q 97.6 165.2, 98.7 166.6 Q 99.8 168.0, 101.9 168.0 \" fill=\"#FF0000\"/>\n",
       "<path class=\"atom-30\" d=\"M 28.2 113.1 L 36.1 113.1 L 36.1 114.6 L 30.0 114.6 L 30.0 118.7 L 35.5 118.7 L 35.5 120.2 L 30.0 120.2 L 30.0 126.5 L 28.2 126.5 L 28.2 113.1 \" fill=\"#33CCCC\"/>\n",
       "<path class=\"atom-31\" d=\"M 100.0 74.1 L 108.0 74.1 L 108.0 75.6 L 101.8 75.6 L 101.8 79.7 L 107.3 79.7 L 107.3 81.2 L 101.8 81.2 L 101.8 87.5 L 100.0 87.5 L 100.0 74.1 \" fill=\"#33CCCC\"/>\n",
       "<path class=\"bond-0 atom-0 atom-1\" d=\"M 461.1,207.7 L 446.0,194.3\" style=\"fill:none;fill-rule:evenodd;stroke:#33CCCC;stroke-width:2.0px;stroke-linecap:butt;stroke-linejoin:miter;stroke-opacity:1\"/>\n",
       "<path class=\"bond-0 atom-0 atom-1\" d=\"M 446.0,194.3 L 430.9,180.9\" style=\"fill:none;fill-rule:evenodd;stroke:#000000;stroke-width:2.0px;stroke-linecap:butt;stroke-linejoin:miter;stroke-opacity:1\"/>\n",
       "<path class=\"bond-1 atom-1 atom-2\" d=\"M 430.9,180.9 L 446.8,168.3\" style=\"fill:none;fill-rule:evenodd;stroke:#000000;stroke-width:2.0px;stroke-linecap:butt;stroke-linejoin:miter;stroke-opacity:1\"/>\n",
       "<path class=\"bond-1 atom-1 atom-2\" d=\"M 446.8,168.3 L 462.7,155.7\" style=\"fill:none;fill-rule:evenodd;stroke:#33CCCC;stroke-width:2.0px;stroke-linecap:butt;stroke-linejoin:miter;stroke-opacity:1\"/>\n",
       "<path class=\"bond-2 atom-1 atom-3\" d=\"M 430.9,180.9 L 408.4,139.5\" style=\"fill:none;fill-rule:evenodd;stroke:#000000;stroke-width:2.0px;stroke-linecap:butt;stroke-linejoin:miter;stroke-opacity:1\"/>\n",
       "<path class=\"bond-33 atom-7 atom-1\" d=\"M 406.2,221.2 L 430.9,180.9\" style=\"fill:none;fill-rule:evenodd;stroke:#000000;stroke-width:2.0px;stroke-linecap:butt;stroke-linejoin:miter;stroke-opacity:1\"/>\n",
       "<path class=\"bond-3 atom-3 atom-4\" d=\"M 408.4,139.5 L 387.9,138.9\" style=\"fill:none;fill-rule:evenodd;stroke:#000000;stroke-width:2.0px;stroke-linecap:butt;stroke-linejoin:miter;stroke-opacity:1\"/>\n",
       "<path class=\"bond-3 atom-3 atom-4\" d=\"M 387.9,138.9 L 367.4,138.4\" style=\"fill:none;fill-rule:evenodd;stroke:#0000FF;stroke-width:2.0px;stroke-linecap:butt;stroke-linejoin:miter;stroke-opacity:1\"/>\n",
       "<path class=\"bond-4 atom-4 atom-5\" d=\"M 356.4,146.1 L 346.4,162.3\" style=\"fill:none;fill-rule:evenodd;stroke:#0000FF;stroke-width:2.0px;stroke-linecap:butt;stroke-linejoin:miter;stroke-opacity:1\"/>\n",
       "<path class=\"bond-4 atom-4 atom-5\" d=\"M 346.4,162.3 L 336.5,178.5\" style=\"fill:none;fill-rule:evenodd;stroke:#000000;stroke-width:2.0px;stroke-linecap:butt;stroke-linejoin:miter;stroke-opacity:1\"/>\n",
       "<path class=\"bond-36 atom-10 atom-4\" d=\"M 330.5,102.3 L 342.7,116.6\" style=\"fill:none;fill-rule:evenodd;stroke:#000000;stroke-width:2.0px;stroke-linecap:butt;stroke-linejoin:miter;stroke-opacity:1\"/>\n",
       "<path class=\"bond-36 atom-10 atom-4\" d=\"M 342.7,116.6 L 354.9,130.9\" style=\"fill:none;fill-rule:evenodd;stroke:#0000FF;stroke-width:2.0px;stroke-linecap:butt;stroke-linejoin:miter;stroke-opacity:1\"/>\n",
       "<path class=\"bond-5 atom-5 atom-6\" d=\"M 336.5,178.5 L 345.6,195.3\" style=\"fill:none;fill-rule:evenodd;stroke:#000000;stroke-width:2.0px;stroke-linecap:butt;stroke-linejoin:miter;stroke-opacity:1\"/>\n",
       "<path class=\"bond-5 atom-5 atom-6\" d=\"M 345.6,195.3 L 354.8,212.1\" style=\"fill:none;fill-rule:evenodd;stroke:#0000FF;stroke-width:2.0px;stroke-linecap:butt;stroke-linejoin:miter;stroke-opacity:1\"/>\n",
       "<path class=\"bond-5 atom-5 atom-6\" d=\"M 347.6,179.0 L 353.9,190.8\" style=\"fill:none;fill-rule:evenodd;stroke:#000000;stroke-width:2.0px;stroke-linecap:butt;stroke-linejoin:miter;stroke-opacity:1\"/>\n",
       "<path class=\"bond-5 atom-5 atom-6\" d=\"M 353.9,190.8 L 360.3,202.5\" style=\"fill:none;fill-rule:evenodd;stroke:#0000FF;stroke-width:2.0px;stroke-linecap:butt;stroke-linejoin:miter;stroke-opacity:1\"/>\n",
       "<path class=\"bond-7 atom-5 atom-8\" d=\"M 336.5,178.5 L 290.6,167.5\" style=\"fill:none;fill-rule:evenodd;stroke:#000000;stroke-width:2.0px;stroke-linecap:butt;stroke-linejoin:miter;stroke-opacity:1\"/>\n",
       "<path class=\"bond-6 atom-6 atom-7\" d=\"M 365.3,220.1 L 385.8,220.7\" style=\"fill:none;fill-rule:evenodd;stroke:#0000FF;stroke-width:2.0px;stroke-linecap:butt;stroke-linejoin:miter;stroke-opacity:1\"/>\n",
       "<path class=\"bond-6 atom-6 atom-7\" d=\"M 385.8,220.7 L 406.2,221.2\" style=\"fill:none;fill-rule:evenodd;stroke:#000000;stroke-width:2.0px;stroke-linecap:butt;stroke-linejoin:miter;stroke-opacity:1\"/>\n",
       "<path class=\"bond-8 atom-8 atom-9\" d=\"M 290.6,167.5 L 289.1,147.9\" style=\"fill:none;fill-rule:evenodd;stroke:#000000;stroke-width:2.0px;stroke-linecap:butt;stroke-linejoin:miter;stroke-opacity:1\"/>\n",
       "<path class=\"bond-8 atom-8 atom-9\" d=\"M 289.1,147.9 L 287.5,128.3\" style=\"fill:none;fill-rule:evenodd;stroke:#0000FF;stroke-width:2.0px;stroke-linecap:butt;stroke-linejoin:miter;stroke-opacity:1\"/>\n",
       "<path class=\"bond-11 atom-8 atom-12\" d=\"M 290.6,167.5 L 284.5,214.3\" style=\"fill:none;fill-rule:evenodd;stroke:#000000;stroke-width:2.0px;stroke-linecap:butt;stroke-linejoin:miter;stroke-opacity:1\"/>\n",
       "<path class=\"bond-23 atom-8 atom-24\" d=\"M 290.6,167.5 L 243.4,166.2\" style=\"fill:none;fill-rule:evenodd;stroke:#000000;stroke-width:2.0px;stroke-linecap:butt;stroke-linejoin:miter;stroke-opacity:1\"/>\n",
       "<path class=\"bond-9 atom-9 atom-10\" d=\"M 293.2,117.8 L 311.8,110.1\" style=\"fill:none;fill-rule:evenodd;stroke:#0000FF;stroke-width:2.0px;stroke-linecap:butt;stroke-linejoin:miter;stroke-opacity:1\"/>\n",
       "<path class=\"bond-9 atom-9 atom-10\" d=\"M 311.8,110.1 L 330.5,102.3\" style=\"fill:none;fill-rule:evenodd;stroke:#000000;stroke-width:2.0px;stroke-linecap:butt;stroke-linejoin:miter;stroke-opacity:1\"/>\n",
       "<path class=\"bond-9 atom-9 atom-10\" d=\"M 302.4,124.2 L 315.5,118.8\" style=\"fill:none;fill-rule:evenodd;stroke:#0000FF;stroke-width:2.0px;stroke-linecap:butt;stroke-linejoin:miter;stroke-opacity:1\"/>\n",
       "<path class=\"bond-9 atom-9 atom-10\" d=\"M 315.5,118.8 L 328.5,113.4\" style=\"fill:none;fill-rule:evenodd;stroke:#000000;stroke-width:2.0px;stroke-linecap:butt;stroke-linejoin:miter;stroke-opacity:1\"/>\n",
       "<path class=\"bond-10 atom-10 atom-11\" d=\"M 330.5,102.3 L 335.1,83.3\" style=\"fill:none;fill-rule:evenodd;stroke:#000000;stroke-width:2.0px;stroke-linecap:butt;stroke-linejoin:miter;stroke-opacity:1\"/>\n",
       "<path class=\"bond-10 atom-10 atom-11\" d=\"M 335.1,83.3 L 339.7,64.3\" style=\"fill:none;fill-rule:evenodd;stroke:#0000FF;stroke-width:2.0px;stroke-linecap:butt;stroke-linejoin:miter;stroke-opacity:1\"/>\n",
       "<path class=\"bond-12 atom-12 atom-13\" d=\"M 284.5,214.3 L 240.8,232.3\" style=\"fill:none;fill-rule:evenodd;stroke:#000000;stroke-width:2.0px;stroke-linecap:butt;stroke-linejoin:miter;stroke-opacity:1\"/>\n",
       "<path class=\"bond-12 atom-12 atom-13\" d=\"M 281.5,225.7 L 251.0,238.3\" style=\"fill:none;fill-rule:evenodd;stroke:#000000;stroke-width:2.0px;stroke-linecap:butt;stroke-linejoin:miter;stroke-opacity:1\"/>\n",
       "<path class=\"bond-34 atom-17 atom-12\" d=\"M 321.9,243.0 L 284.5,214.3\" style=\"fill:none;fill-rule:evenodd;stroke:#000000;stroke-width:2.0px;stroke-linecap:butt;stroke-linejoin:miter;stroke-opacity:1\"/>\n",
       "<path class=\"bond-13 atom-13 atom-14\" d=\"M 240.8,232.3 L 234.7,279.1\" style=\"fill:none;fill-rule:evenodd;stroke:#000000;stroke-width:2.0px;stroke-linecap:butt;stroke-linejoin:miter;stroke-opacity:1\"/>\n",
       "<path class=\"bond-14 atom-14 atom-15\" d=\"M 234.7,279.1 L 272.1,307.8\" style=\"fill:none;fill-rule:evenodd;stroke:#000000;stroke-width:2.0px;stroke-linecap:butt;stroke-linejoin:miter;stroke-opacity:1\"/>\n",
       "<path class=\"bond-14 atom-14 atom-15\" d=\"M 246.1,275.9 L 272.3,296.0\" style=\"fill:none;fill-rule:evenodd;stroke:#000000;stroke-width:2.0px;stroke-linecap:butt;stroke-linejoin:miter;stroke-opacity:1\"/>\n",
       "<path class=\"bond-17 atom-14 atom-18\" d=\"M 234.7,279.1 L 191.1,297.2\" style=\"fill:none;fill-rule:evenodd;stroke:#000000;stroke-width:2.0px;stroke-linecap:butt;stroke-linejoin:miter;stroke-opacity:1\"/>\n",
       "<path class=\"bond-15 atom-15 atom-16\" d=\"M 272.1,307.8 L 315.7,289.8\" style=\"fill:none;fill-rule:evenodd;stroke:#000000;stroke-width:2.0px;stroke-linecap:butt;stroke-linejoin:miter;stroke-opacity:1\"/>\n",
       "<path class=\"bond-16 atom-16 atom-17\" d=\"M 315.7,289.8 L 321.9,243.0\" style=\"fill:none;fill-rule:evenodd;stroke:#000000;stroke-width:2.0px;stroke-linecap:butt;stroke-linejoin:miter;stroke-opacity:1\"/>\n",
       "<path class=\"bond-16 atom-16 atom-17\" d=\"M 307.3,281.5 L 311.6,248.8\" style=\"fill:none;fill-rule:evenodd;stroke:#000000;stroke-width:2.0px;stroke-linecap:butt;stroke-linejoin:miter;stroke-opacity:1\"/>\n",
       "<path class=\"bond-18 atom-18 atom-19\" d=\"M 191.1,297.2 L 147.5,315.2\" style=\"fill:none;fill-rule:evenodd;stroke:#000000;stroke-width:2.0px;stroke-linecap:butt;stroke-linejoin:miter;stroke-opacity:1\"/>\n",
       "<path class=\"bond-18 atom-18 atom-19\" d=\"M 180.9,291.2 L 150.4,303.8\" style=\"fill:none;fill-rule:evenodd;stroke:#000000;stroke-width:2.0px;stroke-linecap:butt;stroke-linejoin:miter;stroke-opacity:1\"/>\n",
       "<path class=\"bond-18 atom-18 atom-19\" d=\"M 188.1,308.6 L 157.6,321.3\" style=\"fill:none;fill-rule:evenodd;stroke:#000000;stroke-width:2.0px;stroke-linecap:butt;stroke-linejoin:miter;stroke-opacity:1\"/>\n",
       "<path class=\"bond-19 atom-19 atom-20\" d=\"M 147.5,315.2 L 103.9,333.3\" style=\"fill:none;fill-rule:evenodd;stroke:#000000;stroke-width:2.0px;stroke-linecap:butt;stroke-linejoin:miter;stroke-opacity:1\"/>\n",
       "<path class=\"bond-20 atom-20 atom-21\" d=\"M 103.9,333.3 L 97.7,380.1\" style=\"fill:none;fill-rule:evenodd;stroke:#000000;stroke-width:2.0px;stroke-linecap:butt;stroke-linejoin:miter;stroke-opacity:1\"/>\n",
       "<path class=\"bond-21 atom-21 atom-22\" d=\"M 97.7,380.1 L 79.6,387.6\" style=\"fill:none;fill-rule:evenodd;stroke:#000000;stroke-width:2.0px;stroke-linecap:butt;stroke-linejoin:miter;stroke-opacity:1\"/>\n",
       "<path class=\"bond-21 atom-21 atom-22\" d=\"M 79.6,387.6 L 61.4,395.1\" style=\"fill:none;fill-rule:evenodd;stroke:#FF0000;stroke-width:2.0px;stroke-linecap:butt;stroke-linejoin:miter;stroke-opacity:1\"/>\n",
       "<path class=\"bond-22 atom-22 atom-23\" d=\"M 53.0,406.3 L 50.5,425.6\" style=\"fill:none;fill-rule:evenodd;stroke:#FF0000;stroke-width:2.0px;stroke-linecap:butt;stroke-linejoin:miter;stroke-opacity:1\"/>\n",
       "<path class=\"bond-22 atom-22 atom-23\" d=\"M 50.5,425.6 L 47.9,445.0\" style=\"fill:none;fill-rule:evenodd;stroke:#000000;stroke-width:2.0px;stroke-linecap:butt;stroke-linejoin:miter;stroke-opacity:1\"/>\n",
       "<path class=\"bond-24 atom-24 atom-25\" d=\"M 243.4,166.2 L 220.9,124.7\" style=\"fill:none;fill-rule:evenodd;stroke:#000000;stroke-width:2.0px;stroke-linecap:butt;stroke-linejoin:miter;stroke-opacity:1\"/>\n",
       "<path class=\"bond-24 atom-24 atom-25\" d=\"M 231.8,164.5 L 216.0,135.5\" style=\"fill:none;fill-rule:evenodd;stroke:#000000;stroke-width:2.0px;stroke-linecap:butt;stroke-linejoin:miter;stroke-opacity:1\"/>\n",
       "<path class=\"bond-35 atom-33 atom-24\" d=\"M 218.8,206.5 L 243.4,166.2\" style=\"fill:none;fill-rule:evenodd;stroke:#000000;stroke-width:2.0px;stroke-linecap:butt;stroke-linejoin:miter;stroke-opacity:1\"/>\n",
       "<path class=\"bond-25 atom-25 atom-26\" d=\"M 220.9,124.7 L 173.7,123.5\" style=\"fill:none;fill-rule:evenodd;stroke:#000000;stroke-width:2.0px;stroke-linecap:butt;stroke-linejoin:miter;stroke-opacity:1\"/>\n",
       "<path class=\"bond-26 atom-26 atom-27\" d=\"M 173.7,123.5 L 149.1,163.7\" style=\"fill:none;fill-rule:evenodd;stroke:#000000;stroke-width:2.0px;stroke-linecap:butt;stroke-linejoin:miter;stroke-opacity:1\"/>\n",
       "<path class=\"bond-26 atom-26 atom-27\" d=\"M 178.1,134.5 L 160.8,162.6\" style=\"fill:none;fill-rule:evenodd;stroke:#000000;stroke-width:2.0px;stroke-linecap:butt;stroke-linejoin:miter;stroke-opacity:1\"/>\n",
       "<path class=\"bond-27 atom-27 atom-28\" d=\"M 149.1,163.7 L 129.1,163.2\" style=\"fill:none;fill-rule:evenodd;stroke:#000000;stroke-width:2.0px;stroke-linecap:butt;stroke-linejoin:miter;stroke-opacity:1\"/>\n",
       "<path class=\"bond-27 atom-27 atom-28\" d=\"M 129.1,163.2 L 109.2,162.7\" style=\"fill:none;fill-rule:evenodd;stroke:#FF0000;stroke-width:2.0px;stroke-linecap:butt;stroke-linejoin:miter;stroke-opacity:1\"/>\n",
       "<path class=\"bond-31 atom-27 atom-32\" d=\"M 149.1,163.7 L 171.6,205.2\" style=\"fill:none;fill-rule:evenodd;stroke:#000000;stroke-width:2.0px;stroke-linecap:butt;stroke-linejoin:miter;stroke-opacity:1\"/>\n",
       "<path class=\"bond-28 atom-28 atom-29\" d=\"M 97.6,154.6 L 88.5,137.8\" style=\"fill:none;fill-rule:evenodd;stroke:#FF0000;stroke-width:2.0px;stroke-linecap:butt;stroke-linejoin:miter;stroke-opacity:1\"/>\n",
       "<path class=\"bond-28 atom-28 atom-29\" d=\"M 88.5,137.8 L 79.4,121.0\" style=\"fill:none;fill-rule:evenodd;stroke:#000000;stroke-width:2.0px;stroke-linecap:butt;stroke-linejoin:miter;stroke-opacity:1\"/>\n",
       "<path class=\"bond-29 atom-29 atom-30\" d=\"M 79.4,121.0 L 58.3,120.5\" style=\"fill:none;fill-rule:evenodd;stroke:#000000;stroke-width:2.0px;stroke-linecap:butt;stroke-linejoin:miter;stroke-opacity:1\"/>\n",
       "<path class=\"bond-29 atom-29 atom-30\" d=\"M 58.3,120.5 L 37.3,119.9\" style=\"fill:none;fill-rule:evenodd;stroke:#33CCCC;stroke-width:2.0px;stroke-linecap:butt;stroke-linejoin:miter;stroke-opacity:1\"/>\n",
       "<path class=\"bond-30 atom-29 atom-31\" d=\"M 79.4,121.0 L 89.3,104.8\" style=\"fill:none;fill-rule:evenodd;stroke:#000000;stroke-width:2.0px;stroke-linecap:butt;stroke-linejoin:miter;stroke-opacity:1\"/>\n",
       "<path class=\"bond-30 atom-29 atom-31\" d=\"M 89.3,104.8 L 99.2,88.6\" style=\"fill:none;fill-rule:evenodd;stroke:#33CCCC;stroke-width:2.0px;stroke-linecap:butt;stroke-linejoin:miter;stroke-opacity:1\"/>\n",
       "<path class=\"bond-32 atom-32 atom-33\" d=\"M 171.6,205.2 L 218.8,206.5\" style=\"fill:none;fill-rule:evenodd;stroke:#000000;stroke-width:2.0px;stroke-linecap:butt;stroke-linejoin:miter;stroke-opacity:1\"/>\n",
       "<path class=\"bond-32 atom-32 atom-33\" d=\"M 178.9,196.0 L 211.9,196.8\" style=\"fill:none;fill-rule:evenodd;stroke:#000000;stroke-width:2.0px;stroke-linecap:butt;stroke-linejoin:miter;stroke-opacity:1\"/>\n",
       "<path class=\"atom-0\" d=\"M 462.3 205.5 L 470.2 205.5 L 470.2 207.1 L 464.1 207.1 L 464.1 211.1 L 469.5 211.1 L 469.5 212.7 L 464.1 212.7 L 464.1 218.9 L 462.3 218.9 L 462.3 205.5 \" fill=\"#33CCCC\"/>\n",
       "<path class=\"atom-2\" d=\"M 463.9 144.9 L 471.8 144.9 L 471.8 146.4 L 465.7 146.4 L 465.7 150.5 L 471.1 150.5 L 471.1 152.0 L 465.7 152.0 L 465.7 158.2 L 463.9 158.2 L 463.9 144.9 \" fill=\"#33CCCC\"/>\n",
       "<path class=\"atom-4\" d=\"M 358.2 131.5 L 362.6 138.6 Q 363.0 139.3, 363.7 140.6 Q 364.4 141.9, 364.5 141.9 L 364.5 131.5 L 366.3 131.5 L 366.3 144.9 L 364.4 144.9 L 359.7 137.2 Q 359.2 136.3, 358.6 135.2 Q 358.0 134.2, 357.8 133.9 L 357.8 144.9 L 356.1 144.9 L 356.1 131.5 L 358.2 131.5 \" fill=\"#0000FF\"/>\n",
       "<path class=\"atom-6\" d=\"M 356.1 213.3 L 360.5 220.4 Q 360.9 221.1, 361.6 222.3 Q 362.3 223.6, 362.3 223.7 L 362.3 213.3 L 364.1 213.3 L 364.1 226.6 L 362.3 226.6 L 357.6 218.9 Q 357.0 218.0, 356.4 217.0 Q 355.9 215.9, 355.7 215.6 L 355.7 226.6 L 354.0 226.6 L 354.0 213.3 L 356.1 213.3 \" fill=\"#0000FF\"/>\n",
       "<path class=\"atom-9\" d=\"M 284.0 113.7 L 288.3 120.8 Q 288.8 121.5, 289.5 122.8 Q 290.2 124.0, 290.2 124.1 L 290.2 113.7 L 292.0 113.7 L 292.0 127.1 L 290.2 127.1 L 285.5 119.3 Q 284.9 118.4, 284.3 117.4 Q 283.8 116.4, 283.6 116.0 L 283.6 127.1 L 281.8 127.1 L 281.8 113.7 L 284.0 113.7 \" fill=\"#0000FF\"/>\n",
       "<path class=\"atom-11\" d=\"M 338.6 49.8 L 343.0 56.8 Q 343.4 57.5, 344.1 58.8 Q 344.8 60.1, 344.8 60.1 L 344.8 49.8 L 346.6 49.8 L 346.6 63.1 L 344.8 63.1 L 340.1 55.4 Q 339.5 54.5, 339.0 53.4 Q 338.4 52.4, 338.2 52.1 L 338.2 63.1 L 336.5 63.1 L 336.5 49.8 L 338.6 49.8 \" fill=\"#0000FF\"/>\n",
       "<path class=\"atom-11\" d=\"M 348.2 49.8 L 350.0 49.8 L 350.0 55.4 L 356.9 55.4 L 356.9 49.8 L 358.7 49.8 L 358.7 63.1 L 356.9 63.1 L 356.9 56.9 L 350.0 56.9 L 350.0 63.1 L 348.2 63.1 L 348.2 49.8 \" fill=\"#0000FF\"/>\n",
       "<path class=\"atom-11\" d=\"M 359.3 62.6 Q 359.7 61.8, 360.4 61.4 Q 361.2 60.9, 362.3 60.9 Q 363.6 60.9, 364.4 61.6 Q 365.1 62.3, 365.1 63.6 Q 365.1 64.9, 364.1 66.1 Q 363.2 67.4, 361.2 68.8 L 365.2 68.8 L 365.2 69.8 L 359.3 69.8 L 359.3 69.0 Q 360.9 67.8, 361.9 66.9 Q 362.9 66.1, 363.4 65.3 Q 363.9 64.5, 363.9 63.7 Q 363.9 62.8, 363.4 62.4 Q 363.0 61.9, 362.3 61.9 Q 361.6 61.9, 361.1 62.2 Q 360.6 62.5, 360.3 63.1 L 359.3 62.6 \" fill=\"#0000FF\"/>\n",
       "<path class=\"atom-22\" d=\"M 48.0 398.2 Q 48.0 395.0, 49.5 393.2 Q 51.1 391.4, 54.1 391.4 Q 57.1 391.4, 58.6 393.2 Q 60.2 395.0, 60.2 398.2 Q 60.2 401.4, 58.6 403.3 Q 57.0 405.1, 54.1 405.1 Q 51.1 405.1, 49.5 403.3 Q 48.0 401.5, 48.0 398.2 M 54.1 403.6 Q 56.1 403.6, 57.2 402.3 Q 58.3 400.9, 58.3 398.2 Q 58.3 395.6, 57.2 394.3 Q 56.1 392.9, 54.1 392.9 Q 52.0 392.9, 50.9 394.2 Q 49.8 395.6, 49.8 398.2 Q 49.8 400.9, 50.9 402.3 Q 52.0 403.6, 54.1 403.6 \" fill=\"#FF0000\"/>\n",
       "<path class=\"atom-28\" d=\"M 95.7 162.5 Q 95.7 159.3, 97.3 157.5 Q 98.9 155.7, 101.9 155.7 Q 104.8 155.7, 106.4 157.5 Q 108.0 159.3, 108.0 162.5 Q 108.0 165.8, 106.4 167.6 Q 104.8 169.5, 101.9 169.5 Q 98.9 169.5, 97.3 167.6 Q 95.7 165.8, 95.7 162.5 M 101.9 168.0 Q 103.9 168.0, 105.0 166.6 Q 106.1 165.2, 106.1 162.5 Q 106.1 159.9, 105.0 158.6 Q 103.9 157.3, 101.9 157.3 Q 99.8 157.3, 98.7 158.6 Q 97.6 159.9, 97.6 162.5 Q 97.6 165.2, 98.7 166.6 Q 99.8 168.0, 101.9 168.0 \" fill=\"#FF0000\"/>\n",
       "<path class=\"atom-30\" d=\"M 28.2 113.1 L 36.1 113.1 L 36.1 114.6 L 30.0 114.6 L 30.0 118.7 L 35.5 118.7 L 35.5 120.2 L 30.0 120.2 L 30.0 126.5 L 28.2 126.5 L 28.2 113.1 \" fill=\"#33CCCC\"/>\n",
       "<path class=\"atom-31\" d=\"M 100.0 74.1 L 108.0 74.1 L 108.0 75.6 L 101.8 75.6 L 101.8 79.7 L 107.3 79.7 L 107.3 81.2 L 101.8 81.2 L 101.8 87.5 L 100.0 87.5 L 100.0 74.1 \" fill=\"#33CCCC\"/>\n",
       "</svg>"
      ],
      "text/plain": [
       "<IPython.core.display.SVG object>"
      ]
     },
     "execution_count": 57,
     "metadata": {},
     "output_type": "execute_result"
    }
   ],
   "source": [
    "d = rdMolDraw2D.MolDraw2DSVG(500, 500) # or MolDraw2DCairo to get PNGs\n",
    "rdMolDraw2D.PrepareAndDrawMolecule(d, mol, highlightAtoms=hit_ats,\n",
    "                                   highlightBonds=hit_bonds,\n",
    "                                   highlightAtomColors=atom_cols,\n",
    "                                   highlightBondColors=bond_cols)\n",
    "d.DrawMolecule(mol)\n",
    "d.FinishDrawing()\n",
    "SVG(d.GetDrawingText())"
   ]
  },
  {
   "cell_type": "code",
   "execution_count": 58,
   "metadata": {},
   "outputs": [],
   "source": [
    "with open('bace_709.svg', 'w+') as out:\n",
    "    out.write(d.GetDrawingText())"
   ]
  },
  {
   "cell_type": "code",
   "execution_count": null,
   "metadata": {},
   "outputs": [],
   "source": []
  }
 ],
 "metadata": {
  "kernelspec": {
   "display_name": "Python [conda env:pytorch]",
   "language": "python",
   "name": "conda-env-pytorch-py"
  },
  "language_info": {
   "codemirror_mode": {
    "name": "ipython",
    "version": 3
   },
   "file_extension": ".py",
   "mimetype": "text/x-python",
   "name": "python",
   "nbconvert_exporter": "python",
   "pygments_lexer": "ipython3",
   "version": "3.7.10"
  }
 },
 "nbformat": 4,
 "nbformat_minor": 2
}
